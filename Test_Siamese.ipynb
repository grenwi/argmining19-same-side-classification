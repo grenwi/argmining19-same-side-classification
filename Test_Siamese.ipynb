{
 "cells": [
  {
   "cell_type": "code",
   "execution_count": 1,
   "metadata": {},
   "outputs": [],
   "source": [
    "import torch\n",
    "import pickle"
   ]
  },
  {
   "cell_type": "code",
   "execution_count": 142,
   "metadata": {},
   "outputs": [],
   "source": [
    "with open(\"pooled_output.pkl\", \"rb\") as f:\n",
    "    pooled_output = pickle.load(f)\n",
    "    token_type_ids = pickle.load(f)\n",
    "    input_ids = pickle.load(f)\n",
    "    labels = pickle.load(f)"
   ]
  },
  {
   "cell_type": "code",
   "execution_count": 36,
   "metadata": {},
   "outputs": [
    {
     "name": "stdout",
     "output_type": "stream",
     "text": [
      "[8, 512, 768]\n",
      "[8, 768]\n"
     ]
    }
   ],
   "source": [
    "print(list(pooled_output[0].size())) # last hidden layer\n",
    "print(list(pooled_output[1].size())) # pooled output\n",
    "# bs sl nd"
   ]
  },
  {
   "cell_type": "code",
   "execution_count": 152,
   "metadata": {},
   "outputs": [
    {
     "name": "stdout",
     "output_type": "stream",
     "text": [
      "tensor([0., 0., 0., 1., 0., 0., 0., 0.], device='cuda:0')\n"
     ]
    },
    {
     "data": {
      "text/plain": [
       "tensor([-1., -1., -1.,  1., -1., -1., -1., -1.])"
      ]
     },
     "execution_count": 152,
     "metadata": {},
     "output_type": "execute_result"
    }
   ],
   "source": [
    "print(labels)\n",
    "torch.where(labels.detach().cpu() > 0, torch.ones(8), -torch.ones(8))"
   ]
  },
  {
   "cell_type": "code",
   "execution_count": 157,
   "metadata": {},
   "outputs": [
    {
     "data": {
      "text/plain": [
       "tensor([-0.0132, -0.0118, -0.0147, -0.0147, -0.0112, -0.0162, -0.0157, -0.0132,\n",
       "        -0.0105, -0.0114, -0.0108, -0.0134, -0.0114, -0.0127, -0.0106, -0.0138,\n",
       "        -0.0098, -0.0114, -0.0095, -0.0124, -0.0106, -0.0095, -0.0102, -0.0096,\n",
       "        -0.0097, -0.0130, -0.0162, -0.0163, -0.0124, -0.0125, -0.0150, -0.0139,\n",
       "        -0.0142, -0.0169, -0.0115, -0.0138, -0.0088, -0.0110, -0.0090, -0.0105,\n",
       "        -0.0093, -0.0114, -0.0132, -0.0104, -0.0127, -0.0103, -0.0114, -0.0115,\n",
       "        -0.0132, -0.0132, -0.0159, -0.0176, -0.0127, -0.0135, -0.0152, -0.0107,\n",
       "        -0.0080, -0.0094, -0.0148, -0.0124, -0.0078, -0.0118, -0.0143, -0.0108,\n",
       "        -0.0097, -0.0145, -0.0104, -0.0147, -0.0145, -0.0140, -0.0133, -0.0119,\n",
       "        -0.0088, -0.0145, -0.0097, -0.0123, -0.0106, -0.0106, -0.0129, -0.0129,\n",
       "        -0.0132, -0.0122, -0.0100, -0.0103, -0.0111, -0.0127, -0.0121, -0.0129,\n",
       "        -0.0116, -0.0120, -0.0131, -0.0152, -0.0150, -0.0110, -0.0117, -0.0113,\n",
       "        -0.0132, -0.0111, -0.0123, -0.0115, -0.0118, -0.0130, -0.0124, -0.0106,\n",
       "        -0.0129, -0.0115, -0.0125, -0.0158, -0.0143, -0.0120, -0.0140, -0.0119,\n",
       "        -0.0111, -0.0129, -0.0135, -0.0125, -0.0101, -0.0128, -0.0133, -0.0157,\n",
       "        -0.0189, -0.0121, -0.0151, -0.0106, -0.0130, -0.0114, -0.0143, -0.0132,\n",
       "        -0.0138, -0.0133, -0.0133, -0.0110, -0.0105, -0.0118, -0.0107, -0.0137,\n",
       "        -0.0128, -0.0155, -0.0135, -0.0145, -0.0106, -0.0130, -0.0147, -0.0138,\n",
       "        -0.0106, -0.0169, -0.0109, -0.0134, -0.0117, -0.0164, -0.0121, -0.0168,\n",
       "        -0.0117, -0.0121, -0.0111, -0.0100, -0.0150, -0.0092, -0.0089, -0.0108,\n",
       "        -0.0142, -0.0177, -0.0182, -0.0125, -0.0082, -0.0112, -0.0081, -0.0100,\n",
       "        -0.0115, -0.0107, -0.0097, -0.0093, -0.0107, -0.0113, -0.0096, -0.0090,\n",
       "        -0.0111, -0.0108, -0.0149, -0.0157, -0.0094, -0.0102, -0.0121, -0.0115,\n",
       "        -0.0090, -0.0113, -0.0135, -0.0128, -0.0152, -0.0159, -0.0131, -0.0215,\n",
       "        -0.0129, -0.0123, -0.0218, -0.0230, -0.0131, -0.0188, -0.0150, -0.0165,\n",
       "        -0.0133, -0.0150, -0.0148, -0.0112, -0.0117, -0.0133, -0.0159, -0.0120,\n",
       "        -0.0130, -0.0110, -0.0121, -0.0143, -0.0193, -0.0184, -0.0176, -0.0127,\n",
       "        -0.0101, -0.0168, -0.0156, -0.0128, -0.0121, -0.0105, -0.0106, -0.0116,\n",
       "        -0.0164, -0.0221, -0.0155, -0.0123, -0.0127, -0.0140, -0.0136, -0.0156,\n",
       "        -0.0128, -0.0125, -0.0144, -0.0156, -0.0136, -0.0131, -0.0132, -0.0157,\n",
       "        -0.0116, -0.0103, -0.0116, -0.0118, -0.0140, -0.0104, -0.0110, -0.0132,\n",
       "        -0.0139, -0.0130, -0.0129, -0.0118, -0.0099, -0.0088, -0.0099, -0.0106,\n",
       "        -0.0225, -0.0124, -0.0142, -0.0190, -0.0155, -0.0174, -0.0117, -0.0131,\n",
       "        -0.0107, -0.0108, -0.0140, -0.0105, -0.0115, -0.0150, -0.0159, -0.0140,\n",
       "        -0.0108, -0.0123, -0.0110, -0.0099, -0.0086, -0.0142, -0.0193, -0.0141,\n",
       "        -0.0117, -0.0110, -0.0097, -0.0087, -0.0133, -0.0154, -0.0092, -0.0103,\n",
       "        -0.0119, -0.0105, -0.0137, -0.0152, -0.0141, -0.0103, -0.0122, -0.0141,\n",
       "        -0.0112, -0.0118, -0.0134, -0.0101, -0.0130, -0.0142, -0.0104, -0.0118,\n",
       "        -0.0125, -0.0121, -0.0109, -0.0110, -0.0112, -0.0080, -0.0110, -0.0115,\n",
       "        -0.0162, -0.0127, -0.0101, -0.0107, -0.0105, -0.0113, -0.0114, -0.0117,\n",
       "        -0.0185, -0.0153, -0.0175, -0.0125, -0.0148, -0.0119, -0.0103, -0.0117,\n",
       "        -0.0092, -0.0091, -0.0197, -0.0120, -0.0162, -0.0122, -0.0112, -0.0107,\n",
       "        -0.0090, -0.0106, -0.0126, -0.0170, -0.0111, -0.0155, -0.0076, -0.0181,\n",
       "        -0.0176, -0.0136, -0.0110, -0.0118, -0.0106, -0.0100, -0.0092, -0.0090,\n",
       "        -0.0111, -0.0130, -0.0116, -0.0127, -0.0131, -0.0102, -0.0103, -0.0120,\n",
       "        -0.0087, -0.0086, -0.0155, -0.0133, -0.0109, -0.0119, -0.0097, -0.0131,\n",
       "        -0.0116, -0.0103, -0.0130, -0.0110, -0.0124, -0.0118, -0.0121, -0.0169,\n",
       "        -0.0147, -0.0098, -0.0103, -0.0088, -0.0076, -0.0090, -0.0093, -0.0078,\n",
       "        -0.0097, -0.0128, -0.0103, -0.0112, -0.0095, -0.0073, -0.0103, -0.0092,\n",
       "        -0.0147, -0.0089, -0.0121, -0.0108, -0.0134, -0.0133, -0.0154, -0.0100,\n",
       "        -0.0094, -0.0102, -0.0118, -0.0120, -0.0109, -0.0104, -0.0119, -0.0099,\n",
       "        -0.0078, -0.0096, -0.0153, -0.0099, -0.0105, -0.0094, -0.0090, -0.0099,\n",
       "        -0.0151, -0.0117, -0.0128, -0.0076, -0.0096, -0.0099, -0.0091, -0.0089,\n",
       "        -0.0070, -0.0096, -0.0099, -0.0113, -0.0100, -0.0077, -0.0143, -0.0091,\n",
       "        -0.0097, -0.0127, -0.0102, -0.0107, -0.0088, -0.0078, -0.0227, -0.0172,\n",
       "        -0.0221, -0.0111, -0.0108, -0.0123, -0.0126, -0.0129, -0.0121, -0.0127,\n",
       "        -0.0115, -0.0111, -0.0157, -0.0096, -0.0129, -0.0106, -0.0093, -0.0104,\n",
       "        -0.0115, -0.0141, -0.0133, -0.0128, -0.0111, -0.0088, -0.0090, -0.0127,\n",
       "        -0.0120, -0.0116, -0.0122, -0.0127, -0.0144, -0.0078, -0.0128, -0.0118,\n",
       "        -0.0163, -0.0107, -0.0120, -0.0093, -0.0110, -0.0101, -0.0122, -0.0121,\n",
       "        -0.0076, -0.0111, -0.0114, -0.0110, -0.0125, -0.0110, -0.0127, -0.0116,\n",
       "        -0.0132, -0.0107, -0.0174, -0.0130, -0.0128, -0.0169, -0.0122, -0.0144,\n",
       "        -0.0139, -0.0118, -0.0105, -0.0113, -0.0126, -0.0118, -0.0166, -0.0098,\n",
       "        -0.0153, -0.0097, -0.0131, -0.0126, -0.0120, -0.0159, -0.0106, -0.0161],\n",
       "       device='cuda:0', grad_fn=<MeanBackward1>)"
      ]
     },
     "execution_count": 157,
     "metadata": {},
     "output_type": "execute_result"
    }
   ],
   "source": [
    "pooled_output[0][0].mean(axis=1)"
   ]
  },
  {
   "cell_type": "code",
   "execution_count": 59,
   "metadata": {},
   "outputs": [
    {
     "name": "stdout",
     "output_type": "stream",
     "text": [
      "torch.Size([8, 512])\n",
      "torch.Size([8, 512])\n"
     ]
    }
   ],
   "source": [
    "print(token_type_ids.size())\n",
    "print(input_ids.size())"
   ]
  },
  {
   "cell_type": "code",
   "execution_count": 41,
   "metadata": {},
   "outputs": [
    {
     "data": {
      "text/plain": [
       "tensor([0, 0, 0, 0, 0, 0, 0, 0, 0, 0, 0, 0, 0, 0, 0, 0, 0, 0, 0, 0, 0, 0, 0, 0,\n",
       "        0, 0, 0, 0, 0, 0, 0, 0, 0, 0, 0, 0, 0, 0, 0, 0, 0, 0, 0, 0, 0, 0, 0, 0,\n",
       "        0, 0, 0, 0, 0, 0, 0, 0, 0, 0, 0, 0, 0, 0, 0, 0, 0, 0, 0, 0, 0, 0, 0, 0,\n",
       "        0, 0, 0, 0, 0, 0, 0, 0, 0, 0, 0, 0, 0, 0, 0, 0, 0, 0, 0, 0, 0, 0, 0, 0,\n",
       "        0, 0, 0, 0, 0, 0, 0, 0, 0, 0, 0, 0, 0, 0, 0, 0, 0, 0, 1, 1, 1, 1, 1, 1,\n",
       "        1, 1, 1, 1, 1, 1, 1, 1, 1, 1, 1, 1, 1, 1, 1, 1, 1, 1, 1, 1, 1, 1, 1, 1,\n",
       "        1, 1, 1, 1, 1, 1, 1, 1, 1, 1, 1, 1, 1, 1, 1, 1, 1, 1, 1, 1, 1, 1, 1, 1,\n",
       "        1, 1, 1, 1, 0, 0, 0, 0, 0, 0, 0, 0, 0, 0, 0, 0, 0, 0, 0, 0, 0, 0, 0, 0,\n",
       "        0, 0, 0, 0, 0, 0, 0, 0, 0, 0, 0, 0, 0, 0, 0, 0, 0, 0, 0, 0, 0, 0, 0, 0,\n",
       "        0, 0, 0, 0, 0, 0, 0, 0, 0, 0, 0, 0, 0, 0, 0, 0, 0, 0, 0, 0, 0, 0, 0, 0,\n",
       "        0, 0, 0, 0, 0, 0, 0, 0, 0, 0, 0, 0, 0, 0, 0, 0, 0, 0, 0, 0, 0, 0, 0, 0,\n",
       "        0, 0, 0, 0, 0, 0, 0, 0, 0, 0, 0, 0, 0, 0, 0, 0, 0, 0, 0, 0, 0, 0, 0, 0,\n",
       "        0, 0, 0, 0, 0, 0, 0, 0, 0, 0, 0, 0, 0, 0, 0, 0, 0, 0, 0, 0, 0, 0, 0, 0,\n",
       "        0, 0, 0, 0, 0, 0, 0, 0, 0, 0, 0, 0, 0, 0, 0, 0, 0, 0, 0, 0, 0, 0, 0, 0,\n",
       "        0, 0, 0, 0, 0, 0, 0, 0, 0, 0, 0, 0, 0, 0, 0, 0, 0, 0, 0, 0, 0, 0, 0, 0,\n",
       "        0, 0, 0, 0, 0, 0, 0, 0, 0, 0, 0, 0, 0, 0, 0, 0, 0, 0, 0, 0, 0, 0, 0, 0,\n",
       "        0, 0, 0, 0, 0, 0, 0, 0, 0, 0, 0, 0, 0, 0, 0, 0, 0, 0, 0, 0, 0, 0, 0, 0,\n",
       "        0, 0, 0, 0, 0, 0, 0, 0, 0, 0, 0, 0, 0, 0, 0, 0, 0, 0, 0, 0, 0, 0, 0, 0,\n",
       "        0, 0, 0, 0, 0, 0, 0, 0, 0, 0, 0, 0, 0, 0, 0, 0, 0, 0, 0, 0, 0, 0, 0, 0,\n",
       "        0, 0, 0, 0, 0, 0, 0, 0, 0, 0, 0, 0, 0, 0, 0, 0, 0, 0, 0, 0, 0, 0, 0, 0,\n",
       "        0, 0, 0, 0, 0, 0, 0, 0, 0, 0, 0, 0, 0, 0, 0, 0, 0, 0, 0, 0, 0, 0, 0, 0,\n",
       "        0, 0, 0, 0, 0, 0, 0, 0], device='cuda:0')"
      ]
     },
     "execution_count": 41,
     "metadata": {},
     "output_type": "execute_result"
    }
   ],
   "source": [
    "token_type_ids[0]"
   ]
  },
  {
   "cell_type": "code",
   "execution_count": 47,
   "metadata": {},
   "outputs": [
    {
     "data": {
      "text/plain": [
       "tensor([  101,  5035,  2080,  5443,  1012, 13433,  3630,  1025,  2591,  3314,\n",
       "         1010,  5637,  3510,  7929,  2026, 12191, 14180,  2039,  1012,  2021,\n",
       "         2054,  2003,  3308,  2007,  5637,  3510,  1029,  2065,  2017,  2228,\n",
       "         2009,  1005,  1055,  3308,  2507,  2033,  4436,  1012,  1045,  2106,\n",
       "         2360,  1045,  2342,  2009,  2000,  3926,  1037,  3259,  1012,  1045,\n",
       "         2342,  2500, 10740,  1010,  1045,  2123,  1005,  1056,  2729,  2065,\n",
       "         6343, 10217,  1012,  2021,  2065,  2017,  2695, 16215,  2595,  1012,\n",
       "         2067,  2000,  1996,  2391,  2003,  2045,  2003,  2498,  3308,  2007,\n",
       "         5637,  3510,  1010,  2043,  2017,  2131,  2496,  2000,  2070,  2028,\n",
       "         2017,  2293,  2068,  1010,  1006, 11504,  1007,  1010,  1998,  1996,\n",
       "         5637,  2015,  2041,  1999,  1996,  2088,  2087,  3497,  2293,  2037,\n",
       "         4256,  2205,   999,   102,  5035,  2080,  5443,  1012, 13433,  3630,\n",
       "         1025,  2591,  3314,  1010,  5637,  3510,  1045,  2572,  2025,  2114,\n",
       "         5637, 22231, 21285,  5454,  2040,  2027,  2215,  2000,  5914,  2045,\n",
       "         2003,  2498,  3308,  2007,  2108,  5637,  1010,  4654, 25154,  2009,\n",
       "         2000,  1996,  2088,  2049,  2025,  1037,  2919,  2518,  1012,  3510,\n",
       "         2138,  2111,  1010,  2021,  1045,  2342, 10848, 10740,  2000,  3926,\n",
       "         1012,   102,     0,     0,     0,     0,     0,     0,     0,     0,\n",
       "            0,     0,     0,     0,     0,     0,     0,     0,     0,     0,\n",
       "            0,     0,     0,     0,     0,     0,     0,     0,     0,     0,\n",
       "            0,     0,     0,     0,     0,     0,     0,     0,     0,     0,\n",
       "            0,     0,     0,     0,     0,     0,     0,     0,     0,     0,\n",
       "            0,     0,     0,     0,     0,     0,     0,     0,     0,     0,\n",
       "            0,     0,     0,     0,     0,     0,     0,     0,     0,     0,\n",
       "            0,     0,     0,     0,     0,     0,     0,     0,     0,     0,\n",
       "            0,     0,     0,     0,     0,     0,     0,     0,     0,     0,\n",
       "            0,     0,     0,     0,     0,     0,     0,     0,     0,     0,\n",
       "            0,     0,     0,     0,     0,     0,     0,     0,     0,     0,\n",
       "            0,     0,     0,     0,     0,     0,     0,     0,     0,     0,\n",
       "            0,     0,     0,     0,     0,     0,     0,     0,     0,     0,\n",
       "            0,     0,     0,     0,     0,     0,     0,     0,     0,     0,\n",
       "            0,     0,     0,     0,     0,     0,     0,     0,     0,     0,\n",
       "            0,     0,     0,     0,     0,     0,     0,     0,     0,     0,\n",
       "            0,     0,     0,     0,     0,     0,     0,     0,     0,     0,\n",
       "            0,     0,     0,     0,     0,     0,     0,     0,     0,     0,\n",
       "            0,     0,     0,     0,     0,     0,     0,     0,     0,     0,\n",
       "            0,     0,     0,     0,     0,     0,     0,     0,     0,     0,\n",
       "            0,     0,     0,     0,     0,     0,     0,     0,     0,     0,\n",
       "            0,     0,     0,     0,     0,     0,     0,     0,     0,     0,\n",
       "            0,     0,     0,     0,     0,     0,     0,     0,     0,     0,\n",
       "            0,     0,     0,     0,     0,     0,     0,     0,     0,     0,\n",
       "            0,     0,     0,     0,     0,     0,     0,     0,     0,     0,\n",
       "            0,     0,     0,     0,     0,     0,     0,     0,     0,     0,\n",
       "            0,     0,     0,     0,     0,     0,     0,     0,     0,     0,\n",
       "            0,     0,     0,     0,     0,     0,     0,     0,     0,     0,\n",
       "            0,     0,     0,     0,     0,     0,     0,     0,     0,     0,\n",
       "            0,     0,     0,     0,     0,     0,     0,     0,     0,     0,\n",
       "            0,     0,     0,     0,     0,     0,     0,     0,     0,     0,\n",
       "            0,     0,     0,     0,     0,     0,     0,     0,     0,     0,\n",
       "            0,     0,     0,     0,     0,     0,     0,     0,     0,     0,\n",
       "            0,     0,     0,     0,     0,     0,     0,     0,     0,     0,\n",
       "            0,     0], device='cuda:0')"
      ]
     },
     "execution_count": 47,
     "metadata": {},
     "output_type": "execute_result"
    }
   ],
   "source": [
    "input_ids[0]"
   ]
  },
  {
   "cell_type": "code",
   "execution_count": 48,
   "metadata": {},
   "outputs": [
    {
     "data": {
      "text/plain": [
       "tensor([ 5035,  2080,  5443,  1012, 13433,  3630,  1025,  2591,  3314,  1010,\n",
       "         5637,  3510,  1045,  2572,  2025,  2114,  5637, 22231, 21285,  5454,\n",
       "         2040,  2027,  2215,  2000,  5914,  2045,  2003,  2498,  3308,  2007,\n",
       "         2108,  5637,  1010,  4654, 25154,  2009,  2000,  1996,  2088,  2049,\n",
       "         2025,  1037,  2919,  2518,  1012,  3510,  2138,  2111,  1010,  2021,\n",
       "         1045,  2342, 10848, 10740,  2000,  3926,  1012,   102],\n",
       "       device='cuda:0')"
      ]
     },
     "execution_count": 48,
     "metadata": {},
     "output_type": "execute_result"
    }
   ],
   "source": [
    "input_ids[0][token_type_ids[0].bool()]"
   ]
  },
  {
   "cell_type": "code",
   "execution_count": 115,
   "metadata": {},
   "outputs": [
    {
     "data": {
      "text/plain": [
       "tensor([  101,  5035,  2080,  5443,  1012, 13433,  3630,  1025,  2591,  3314,\n",
       "         1010,  5637,  3510,  7929,  2026, 12191, 14180,  2039,  1012,  2021,\n",
       "         2054,  2003,  3308,  2007,  5637,  3510,  1029,  2065,  2017,  2228,\n",
       "         2009,  1005,  1055,  3308,  2507,  2033,  4436,  1012,  1045,  2106,\n",
       "         2360,  1045,  2342,  2009,  2000,  3926,  1037,  3259,  1012,  1045,\n",
       "         2342,  2500, 10740,  1010,  1045,  2123,  1005,  1056,  2729,  2065,\n",
       "         6343, 10217,  1012,  2021,  2065,  2017,  2695, 16215,  2595,  1012,\n",
       "         2067,  2000,  1996,  2391,  2003,  2045,  2003,  2498,  3308,  2007,\n",
       "         5637,  3510,  1010,  2043,  2017,  2131,  2496,  2000,  2070,  2028,\n",
       "         2017,  2293,  2068,  1010,  1006, 11504,  1007,  1010,  1998,  1996,\n",
       "         5637,  2015,  2041,  1999,  1996,  2088,  2087,  3497,  2293,  2037,\n",
       "         4256,  2205,   999,   102,     0,     0,     0,     0,     0,     0,\n",
       "            0,     0,     0,     0,     0,     0,     0,     0,     0,     0,\n",
       "            0,     0,     0,     0,     0,     0,     0,     0,     0,     0,\n",
       "            0,     0,     0,     0,     0,     0,     0,     0,     0,     0,\n",
       "            0,     0,     0,     0,     0,     0,     0,     0,     0,     0,\n",
       "            0,     0,     0,     0,     0,     0,     0,     0,     0,     0,\n",
       "            0,     0,     0,     0,     0,     0,     0,     0,     0,     0,\n",
       "            0,     0,     0,     0,     0,     0,     0,     0,     0,     0,\n",
       "            0,     0,     0,     0,     0,     0,     0,     0,     0,     0,\n",
       "            0,     0,     0,     0,     0,     0,     0,     0,     0,     0,\n",
       "            0,     0,     0,     0,     0,     0,     0,     0,     0,     0,\n",
       "            0,     0,     0,     0,     0,     0,     0,     0,     0,     0,\n",
       "            0,     0,     0,     0,     0,     0,     0,     0,     0,     0,\n",
       "            0,     0,     0,     0,     0,     0,     0,     0,     0,     0,\n",
       "            0,     0,     0,     0,     0,     0,     0,     0,     0,     0,\n",
       "            0,     0,     0,     0,     0,     0,     0,     0,     0,     0,\n",
       "            0,     0,     0,     0,     0,     0,     0,     0,     0,     0,\n",
       "            0,     0,     0,     0,     0,     0,     0,     0,     0,     0,\n",
       "            0,     0,     0,     0,     0,     0,     0,     0,     0,     0,\n",
       "            0,     0,     0,     0,     0,     0,     0,     0,     0,     0,\n",
       "            0,     0,     0,     0,     0,     0,     0,     0,     0,     0,\n",
       "            0,     0,     0,     0,     0,     0,     0,     0,     0,     0,\n",
       "            0,     0,     0,     0,     0,     0,     0,     0,     0,     0,\n",
       "            0,     0,     0,     0,     0,     0,     0,     0,     0,     0,\n",
       "            0,     0,     0,     0,     0,     0,     0,     0,     0,     0,\n",
       "            0,     0,     0,     0,     0,     0,     0,     0,     0,     0,\n",
       "            0,     0,     0,     0,     0,     0,     0,     0,     0,     0,\n",
       "            0,     0,     0,     0,     0,     0,     0,     0,     0,     0,\n",
       "            0,     0,     0,     0,     0,     0,     0,     0,     0,     0,\n",
       "            0,     0,     0,     0,     0,     0,     0,     0,     0,     0,\n",
       "            0,     0,     0,     0,     0,     0,     0,     0,     0,     0,\n",
       "            0,     0,     0,     0,     0,     0,     0,     0,     0,     0,\n",
       "            0,     0,     0,     0,     0,     0,     0,     0,     0,     0,\n",
       "            0,     0,     0,     0,     0,     0,     0,     0,     0,     0,\n",
       "            0,     0,     0,     0], device='cuda:0')"
      ]
     },
     "execution_count": 115,
     "metadata": {},
     "output_type": "execute_result"
    }
   ],
   "source": [
    "tmp = input_ids[0][~token_type_ids[0].bool()]\n",
    "tmp"
   ]
  },
  {
   "cell_type": "code",
   "execution_count": 116,
   "metadata": {},
   "outputs": [
    {
     "data": {
      "text/plain": [
       "tensor([ True,  True,  True,  True,  True,  True,  True,  True,  True,  True,\n",
       "         True,  True,  True,  True,  True,  True,  True,  True,  True,  True,\n",
       "         True,  True,  True,  True,  True,  True,  True,  True,  True,  True,\n",
       "         True,  True,  True,  True,  True,  True,  True,  True,  True,  True,\n",
       "         True,  True,  True,  True,  True,  True,  True,  True,  True,  True,\n",
       "         True,  True,  True,  True,  True,  True,  True,  True,  True,  True,\n",
       "         True,  True,  True,  True,  True,  True,  True,  True,  True,  True,\n",
       "         True,  True,  True,  True,  True,  True,  True,  True,  True,  True,\n",
       "         True,  True,  True,  True,  True,  True,  True,  True,  True,  True,\n",
       "         True,  True,  True,  True,  True,  True,  True,  True,  True,  True,\n",
       "         True,  True,  True,  True,  True,  True,  True,  True,  True,  True,\n",
       "         True,  True,  True,  True, False, False, False, False, False, False,\n",
       "        False, False, False, False, False, False, False, False, False, False,\n",
       "        False, False, False, False, False, False, False, False, False, False,\n",
       "        False, False, False, False, False, False, False, False, False, False,\n",
       "        False, False, False, False, False, False, False, False, False, False,\n",
       "        False, False, False, False, False, False, False, False, False, False,\n",
       "        False, False, False, False, False, False, False, False, False, False,\n",
       "        False, False, False, False, False, False, False, False, False, False,\n",
       "        False, False, False, False, False, False, False, False, False, False,\n",
       "        False, False, False, False, False, False, False, False, False, False,\n",
       "        False, False, False, False, False, False, False, False, False, False,\n",
       "        False, False, False, False, False, False, False, False, False, False,\n",
       "        False, False, False, False, False, False, False, False, False, False,\n",
       "        False, False, False, False, False, False, False, False, False, False,\n",
       "        False, False, False, False, False, False, False, False, False, False,\n",
       "        False, False, False, False, False, False, False, False, False, False,\n",
       "        False, False, False, False, False, False, False, False, False, False,\n",
       "        False, False, False, False, False, False, False, False, False, False,\n",
       "        False, False, False, False, False, False, False, False, False, False,\n",
       "        False, False, False, False, False, False, False, False, False, False,\n",
       "        False, False, False, False, False, False, False, False, False, False,\n",
       "        False, False, False, False, False, False, False, False, False, False,\n",
       "        False, False, False, False, False, False, False, False, False, False,\n",
       "        False, False, False, False, False, False, False, False, False, False,\n",
       "        False, False, False, False, False, False, False, False, False, False,\n",
       "        False, False, False, False, False, False, False, False, False, False,\n",
       "        False, False, False, False, False, False, False, False, False, False,\n",
       "        False, False, False, False, False, False, False, False, False, False,\n",
       "        False, False, False, False, False, False, False, False, False, False,\n",
       "        False, False, False, False, False, False, False, False, False, False,\n",
       "        False, False, False, False, False, False, False, False, False, False,\n",
       "        False, False, False, False, False, False, False, False, False, False,\n",
       "        False, False, False, False, False, False, False, False, False, False,\n",
       "        False, False, False, False, False, False, False, False, False, False,\n",
       "        False, False, False, False, False, False, False, False, False, False,\n",
       "        False, False, False, False, False, False, False, False, False, False,\n",
       "        False, False, False, False, False, False, False, False, False, False,\n",
       "        False, False, False, False, False, False, False, False, False, False,\n",
       "        False, False, False, False, False, False, False, False, False, False,\n",
       "        False, False, False, False, False, False, False, False, False, False,\n",
       "        False, False], device='cuda:0')"
      ]
     },
     "execution_count": 116,
     "metadata": {},
     "output_type": "execute_result"
    }
   ],
   "source": [
    "tmp1 = input_ids.bool() * token_type_ids.bool()\n",
    "tmp2 = input_ids.bool() * ~token_type_ids.bool()\n",
    "tmp2[0]"
   ]
  },
  {
   "cell_type": "code",
   "execution_count": 72,
   "metadata": {},
   "outputs": [
    {
     "data": {
      "text/plain": [
       "torch.Size([8, 512])"
      ]
     },
     "execution_count": 72,
     "metadata": {},
     "output_type": "execute_result"
    }
   ],
   "source": [
    "tmp1.size()"
   ]
  },
  {
   "cell_type": "code",
   "execution_count": 87,
   "metadata": {},
   "outputs": [
    {
     "data": {
      "text/plain": [
       "torch.Size([58, 768])"
      ]
     },
     "execution_count": 87,
     "metadata": {},
     "output_type": "execute_result"
    }
   ],
   "source": [
    "pooled_output[0][0][tmp[0]].size()"
   ]
  },
  {
   "cell_type": "code",
   "execution_count": 167,
   "metadata": {},
   "outputs": [],
   "source": [
    "# classifier = torch.nn.Sequential(\n",
    "#             torch.nn.Linear(nd, nd),\n",
    "#             torch.nn.Tanh()\n",
    "#         )\n",
    "classifier = torch.nn.Sequential(\n",
    "            torch.nn.Linear(nd, nd),\n",
    "            torch.nn.Sigmoid()\n",
    "        )"
   ]
  },
  {
   "cell_type": "code",
   "execution_count": 199,
   "metadata": {},
   "outputs": [],
   "source": [
    "last_hidden_state = pooled_output[0]\n",
    "selection_left = input_ids.bool() * ~token_type_ids.bool()\n",
    "selection_left[:,0] = False # do not use CLS token\n",
    "selection_right = input_ids.bool() * token_type_ids.bool()\n",
    "\n",
    "dims = list(last_hidden_state.size())\n",
    "bs = dims[0]\n",
    "nd = dims[2] \n",
    "mean_left = torch.zeros((bs, nd))\n",
    "mean_right = torch.zeros((bs, nd))\n",
    "for i in range(bs):\n",
    "    mean_left[i] = last_hidden_state[i][selection_left[i]].mean(axis=0)\n",
    "    mean_right[i] = last_hidden_state[i][selection_right[i]].mean(axis=0)\n",
    "emb_left = classifier(mean_left)\n",
    "emb_right = classifier(mean_right)"
   ]
  },
  {
   "cell_type": "code",
   "execution_count": 191,
   "metadata": {},
   "outputs": [],
   "source": [
    "loss_fct = torch.nn.CosineEmbeddingLoss()"
   ]
  },
  {
   "cell_type": "code",
   "execution_count": 192,
   "metadata": {},
   "outputs": [
    {
     "data": {
      "text/plain": [
       "tensor(0.8740, grad_fn=<MeanBackward0>)"
      ]
     },
     "execution_count": 192,
     "metadata": {},
     "output_type": "execute_result"
    }
   ],
   "source": [
    "cosine_labels = torch.where(labels.detach().cpu() > 0, torch.ones(bs), -torch.ones(bs))\n",
    "loss_fct(emb_left, emb_right, cosine_labels)"
   ]
  },
  {
   "cell_type": "code",
   "execution_count": 204,
   "metadata": {},
   "outputs": [
    {
     "data": {
      "text/plain": [
       "tensor([[0.9991, 0.9988, 0.9985, 0.9984, 0.9989, 0.9990, 0.9986, 0.9988],\n",
       "        [0.9987, 0.9993, 0.9984, 0.9986, 0.9990, 0.9988, 0.9985, 0.9983],\n",
       "        [0.9981, 0.9979, 0.9976, 0.9973, 0.9977, 0.9980, 0.9978, 0.9986],\n",
       "        [0.9987, 0.9988, 0.9986, 0.9991, 0.9988, 0.9989, 0.9984, 0.9984],\n",
       "        [0.9985, 0.9985, 0.9988, 0.9985, 0.9989, 0.9987, 0.9981, 0.9978],\n",
       "        [0.9988, 0.9989, 0.9982, 0.9982, 0.9986, 0.9990, 0.9984, 0.9989],\n",
       "        [0.9991, 0.9991, 0.9986, 0.9989, 0.9990, 0.9992, 0.9989, 0.9986],\n",
       "        [0.9990, 0.9989, 0.9985, 0.9988, 0.9989, 0.9992, 0.9987, 0.9986]],\n",
       "       grad_fn=<MmBackward>)"
      ]
     },
     "execution_count": 204,
     "metadata": {},
     "output_type": "execute_result"
    }
   ],
   "source": [
    "qn_left = emb_left.norm(p=2, dim=1, keepdim=True)\n",
    "emb_left_norm = emb_left.div(qn_left.expand_as(emb_left))\n",
    "\n",
    "qn_right = emb_right.norm(p=2, dim=1, keepdim=True)\n",
    "emb_right_norm = emb_right.div(qn_right.expand_as(emb_right))\n",
    "\n",
    "torch.matmul(emb_left_norm, emb_right_norm.t())"
   ]
  },
  {
   "cell_type": "code",
   "execution_count": 194,
   "metadata": {},
   "outputs": [
    {
     "data": {
      "text/plain": [
       "tensor([[0.0389, 0.0347, 0.0327,  ..., 0.0357, 0.0311, 0.0363],\n",
       "        [0.0371, 0.0349, 0.0353,  ..., 0.0384, 0.0304, 0.0390],\n",
       "        [0.0357, 0.0340, 0.0324,  ..., 0.0367, 0.0342, 0.0328],\n",
       "        ...,\n",
       "        [0.0378, 0.0343, 0.0320,  ..., 0.0376, 0.0331, 0.0369],\n",
       "        [0.0361, 0.0339, 0.0308,  ..., 0.0355, 0.0309, 0.0378],\n",
       "        [0.0364, 0.0338, 0.0328,  ..., 0.0375, 0.0309, 0.0385]],\n",
       "       grad_fn=<DivBackward0>)"
      ]
     },
     "execution_count": 194,
     "metadata": {},
     "output_type": "execute_result"
    }
   ],
   "source": [
    "emb_left_norm"
   ]
  },
  {
   "cell_type": "code",
   "execution_count": 195,
   "metadata": {},
   "outputs": [
    {
     "data": {
      "text/plain": [
       "tensor([[13.8917],\n",
       "        [13.8998],\n",
       "        [13.8913],\n",
       "        [13.8980],\n",
       "        [13.8797],\n",
       "        [13.9052],\n",
       "        [13.8956],\n",
       "        [13.8807]], grad_fn=<NormBackward1>)"
      ]
     },
     "execution_count": 195,
     "metadata": {},
     "output_type": "execute_result"
    }
   ],
   "source": [
    "qn_left"
   ]
  },
  {
   "cell_type": "code",
   "execution_count": 196,
   "metadata": {},
   "outputs": [
    {
     "data": {
      "text/plain": [
       "tensor([27.6228, 27.6019, 27.5929, 27.6011, 27.6011, 27.6188, 27.6106, 27.6132],\n",
       "       grad_fn=<SumBackward1>)"
      ]
     },
     "execution_count": 196,
     "metadata": {},
     "output_type": "execute_result"
    }
   ],
   "source": [
    "emb_left_norm.sum(axis=1)"
   ]
  },
  {
   "cell_type": "code",
   "execution_count": 218,
   "metadata": {},
   "outputs": [
    {
     "name": "stdout",
     "output_type": "stream",
     "text": [
      "0.8\n",
      "0.4\n",
      "0.7\n",
      "0.6000000000000001\n"
     ]
    }
   ],
   "source": [
    "from sklearn.metrics import f1_score\n",
    "\n",
    "true = [1,1,1,1,1,1,0,0,0,0]\n",
    "pred = [1,1,1,1,1,1,1,1,1,0]\n",
    "\n",
    "print(f1_score(true, pred, average='binary', pos_label=1))\n",
    "print(f1_score(true, pred, average='binary', pos_label=0))\n",
    "print(f1_score(true, pred, average='micro'))\n",
    "print(f1_score(true, pred, average='macro'))"
   ]
  },
  {
   "cell_type": "code",
   "execution_count": 244,
   "metadata": {},
   "outputs": [
    {
     "name": "stdout",
     "output_type": "stream",
     "text": [
      "0.7197333333333333\n",
      "0.1592\n",
      "0.5796\n",
      "0.43946666666666667\n"
     ]
    }
   ],
   "source": [
    "import random\n",
    "\n",
    "true = [0] * 4000 + [1] * 6000\n",
    "pred = [0] * 1000 + [1] * 9000\n",
    "\n",
    "random.shuffle(true)\n",
    "random.shuffle(pred)\n",
    "\n",
    "print(f1_score(true, pred, average='binary', pos_label=1))\n",
    "print(f1_score(true, pred, average='binary', pos_label=0))\n",
    "print(f1_score(true, pred, average='micro'))\n",
    "print(f1_score(true, pred, average='macro'))"
   ]
  },
  {
   "cell_type": "code",
   "execution_count": null,
   "metadata": {},
   "outputs": [],
   "source": []
  }
 ],
 "metadata": {
  "kernelspec": {
   "display_name": "Python 3",
   "language": "python",
   "name": "python3"
  },
  "language_info": {
   "codemirror_mode": {
    "name": "ipython",
    "version": 3
   },
   "file_extension": ".py",
   "mimetype": "text/x-python",
   "name": "python",
   "nbconvert_exporter": "python",
   "pygments_lexer": "ipython3",
   "version": "3.7.5"
  }
 },
 "nbformat": 4,
 "nbformat_minor": 2
}
