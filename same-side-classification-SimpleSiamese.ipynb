{
 "cells": [
  {
   "cell_type": "markdown",
   "metadata": {},
   "source": [
    "# RATIO 2019 - Benchmarking Workshop"
   ]
  },
  {
   "cell_type": "code",
   "execution_count": 1,
   "metadata": {},
   "outputs": [],
   "source": [
    "import pandas as pd\n",
    "import numpy as np\n",
    "import pickle\n",
    "from nltk.tokenize import sent_tokenize, word_tokenize"
   ]
  },
  {
   "cell_type": "markdown",
   "metadata": {},
   "source": [
    "# Task 1 - Same Side Clasiification\n",
    "\n"
   ]
  },
  {
   "cell_type": "code",
   "execution_count": 2,
   "metadata": {},
   "outputs": [],
   "source": [
    "data_cross_path = 'data/cross-topic/{}.csv'\n",
    "data_within_path = 'data/within-topic/{}.csv'"
   ]
  },
  {
   "cell_type": "markdown",
   "metadata": {},
   "source": [
    "### Load within-topics and cross-topics data"
   ]
  },
  {
   "cell_type": "code",
   "execution_count": 8,
   "metadata": {},
   "outputs": [],
   "source": [
    "cross_train_df = pd.read_csv(data_cross_path.format('train_rand'), index_col='id', escapechar='\\\\')\n",
    "cross_dev_df = pd.read_csv(data_cross_path.format('dev_rand'), index_col='id', escapechar='\\\\')\n",
    "cross_test_df =  pd.read_csv(data_cross_path.format('test_rand'),index_col='id', escapechar='\\\\')\n",
    "\n",
    "within_train_df =  pd.read_csv(data_within_path.format('train_rand'), index_col='id', escapechar='\\\\')\n",
    "within_dev_df =  pd.read_csv(data_within_path.format('dev_rand'), index_col='id', escapechar='\\\\')\n",
    "within_test_df =  pd.read_csv(data_within_path.format('test_rand'), index_col='id', escapechar='\\\\')"
   ]
  },
  {
   "cell_type": "code",
   "execution_count": 9,
   "metadata": {},
   "outputs": [],
   "source": [
    "# Adding a tag for the topics in focus: \"gay marriage\" and \"abortion\"\n",
    "def add_tag(row):\n",
    "    title = row['topic'].lower().strip()\n",
    "    if title.find('abortion') > -1 :\n",
    "        row['tag'] = 'abortion'\n",
    "    elif title.find('gay marriage') > -1 :\n",
    "        row['tag'] = 'gay marriage'\n",
    "    else:\n",
    "        row['tag'] = 'NA'\n",
    "    return row\n",
    "\n",
    "cross_train_df = cross_train_df.apply(add_tag, axis=1)\n",
    "cross_dev_df = cross_dev_df.apply(add_tag, axis=1)\n",
    "cross_test_df = cross_test_df.apply(add_tag, axis=1)\n",
    "\n",
    "within_train_df = within_train_df.apply(add_tag, axis=1)\n",
    "within_dev_df = within_dev_df.apply(add_tag, axis=1)\n",
    "within_test_df = within_test_df.apply(add_tag, axis=1)"
   ]
  },
  {
   "cell_type": "code",
   "execution_count": 10,
   "metadata": {},
   "outputs": [
    {
     "data": {
      "text/html": [
       "<div>\n",
       "<style scoped>\n",
       "    .dataframe tbody tr th:only-of-type {\n",
       "        vertical-align: middle;\n",
       "    }\n",
       "\n",
       "    .dataframe tbody tr th {\n",
       "        vertical-align: top;\n",
       "    }\n",
       "\n",
       "    .dataframe thead th {\n",
       "        text-align: right;\n",
       "    }\n",
       "</style>\n",
       "<table border=\"1\" class=\"dataframe\">\n",
       "  <thead>\n",
       "    <tr style=\"text-align: right;\">\n",
       "      <th></th>\n",
       "      <th>argument1</th>\n",
       "      <th>argument1_id</th>\n",
       "      <th>argument2</th>\n",
       "      <th>argument2_id</th>\n",
       "      <th>debate_id</th>\n",
       "      <th>is_same_side</th>\n",
       "      <th>topic</th>\n",
       "      <th>tag</th>\n",
       "    </tr>\n",
       "    <tr>\n",
       "      <th>id</th>\n",
       "      <th></th>\n",
       "      <th></th>\n",
       "      <th></th>\n",
       "      <th></th>\n",
       "      <th></th>\n",
       "      <th></th>\n",
       "      <th></th>\n",
       "      <th></th>\n",
       "    </tr>\n",
       "  </thead>\n",
       "  <tbody>\n",
       "    <tr>\n",
       "      <th>2607</th>\n",
       "      <td>accepted. pro may extend their arguments to th...</td>\n",
       "      <td>2a0d32eb-2019-04-18T11:46:44Z-00004-000</td>\n",
       "      <td>i\"m pro-life. just think about it, your murder...</td>\n",
       "      <td>2a0d32eb-2019-04-18T11:46:44Z-00004-000</td>\n",
       "      <td>2a0d32eb-2019-04-18T11:46:44Z</td>\n",
       "      <td>False</td>\n",
       "      <td>abortion (pro life)</td>\n",
       "      <td>abortion</td>\n",
       "    </tr>\n",
       "    <tr>\n",
       "      <th>14632</th>\n",
       "      <td>ultrasounds fit well with pro-choice concepts.</td>\n",
       "      <td>475596d3-2019-04-17T11:47:21Z-00031-000</td>\n",
       "      <td>ultrasounds are a procedure any pregnant woman...</td>\n",
       "      <td>475596d3-2019-04-17T11:47:21Z-00031-000</td>\n",
       "      <td>475596d3-2019-04-17T11:47:21Z</td>\n",
       "      <td>True</td>\n",
       "      <td>mandatory ultrasounds before abortions</td>\n",
       "      <td>abortion</td>\n",
       "    </tr>\n",
       "  </tbody>\n",
       "</table>\n",
       "</div>"
      ],
      "text/plain": [
       "                                               argument1  \\\n",
       "id                                                         \n",
       "2607   accepted. pro may extend their arguments to th...   \n",
       "14632     ultrasounds fit well with pro-choice concepts.   \n",
       "\n",
       "                                  argument1_id  \\\n",
       "id                                               \n",
       "2607   2a0d32eb-2019-04-18T11:46:44Z-00004-000   \n",
       "14632  475596d3-2019-04-17T11:47:21Z-00031-000   \n",
       "\n",
       "                                               argument2  \\\n",
       "id                                                         \n",
       "2607   i\"m pro-life. just think about it, your murder...   \n",
       "14632  ultrasounds are a procedure any pregnant woman...   \n",
       "\n",
       "                                  argument2_id                      debate_id  \\\n",
       "id                                                                              \n",
       "2607   2a0d32eb-2019-04-18T11:46:44Z-00004-000  2a0d32eb-2019-04-18T11:46:44Z   \n",
       "14632  475596d3-2019-04-17T11:47:21Z-00031-000  475596d3-2019-04-17T11:47:21Z   \n",
       "\n",
       "       is_same_side                                   topic       tag  \n",
       "id                                                                     \n",
       "2607          False                     abortion (pro life)  abortion  \n",
       "14632          True  mandatory ultrasounds before abortions  abortion  "
      ]
     },
     "execution_count": 10,
     "metadata": {},
     "output_type": "execute_result"
    }
   ],
   "source": [
    "cross_train_df.head(2)"
   ]
  },
  {
   "cell_type": "code",
   "execution_count": 11,
   "metadata": {
    "scrolled": false
   },
   "outputs": [
    {
     "data": {
      "text/html": [
       "<div>\n",
       "<style scoped>\n",
       "    .dataframe tbody tr th:only-of-type {\n",
       "        vertical-align: middle;\n",
       "    }\n",
       "\n",
       "    .dataframe tbody tr th {\n",
       "        vertical-align: top;\n",
       "    }\n",
       "\n",
       "    .dataframe thead th {\n",
       "        text-align: right;\n",
       "    }\n",
       "</style>\n",
       "<table border=\"1\" class=\"dataframe\">\n",
       "  <thead>\n",
       "    <tr style=\"text-align: right;\">\n",
       "      <th></th>\n",
       "      <th>argument1</th>\n",
       "      <th>argument1_id</th>\n",
       "      <th>argument2</th>\n",
       "      <th>argument2_id</th>\n",
       "      <th>debate_id</th>\n",
       "      <th>is_same_side</th>\n",
       "      <th>topic</th>\n",
       "      <th>tag</th>\n",
       "    </tr>\n",
       "    <tr>\n",
       "      <th>id</th>\n",
       "      <th></th>\n",
       "      <th></th>\n",
       "      <th></th>\n",
       "      <th></th>\n",
       "      <th></th>\n",
       "      <th></th>\n",
       "      <th></th>\n",
       "      <th></th>\n",
       "    </tr>\n",
       "  </thead>\n",
       "  <tbody>\n",
       "    <tr>\n",
       "      <th>85249</th>\n",
       "      <td>gay marriage devalues marriage, frequency of o...</td>\n",
       "      <td>d2f4b1cd-2019-04-17T11:47:27Z-00063-000</td>\n",
       "      <td>being unaccustomed to gay marriage is no argument</td>\n",
       "      <td>d2f4b1cd-2019-04-17T11:47:27Z-00063-000</td>\n",
       "      <td>d2f4b1cd-2019-04-17T11:47:27Z</td>\n",
       "      <td>False</td>\n",
       "      <td>gay marriage, debate on same sex marriage</td>\n",
       "      <td>gay marriage</td>\n",
       "    </tr>\n",
       "    <tr>\n",
       "      <th>40696</th>\n",
       "      <td>fewer women would have abortions if they knew ...</td>\n",
       "      <td>b67fc3fb-2019-04-17T11:47:41Z-00192-000</td>\n",
       "      <td>poor women are disproportionately deprived cho...</td>\n",
       "      <td>b67fc3fb-2019-04-17T11:47:41Z-00192-000</td>\n",
       "      <td>b67fc3fb-2019-04-17T11:47:41Z</td>\n",
       "      <td>True</td>\n",
       "      <td>abortion</td>\n",
       "      <td>abortion</td>\n",
       "    </tr>\n",
       "  </tbody>\n",
       "</table>\n",
       "</div>"
      ],
      "text/plain": [
       "                                               argument1  \\\n",
       "id                                                         \n",
       "85249  gay marriage devalues marriage, frequency of o...   \n",
       "40696  fewer women would have abortions if they knew ...   \n",
       "\n",
       "                                  argument1_id  \\\n",
       "id                                               \n",
       "85249  d2f4b1cd-2019-04-17T11:47:27Z-00063-000   \n",
       "40696  b67fc3fb-2019-04-17T11:47:41Z-00192-000   \n",
       "\n",
       "                                               argument2  \\\n",
       "id                                                         \n",
       "85249  being unaccustomed to gay marriage is no argument   \n",
       "40696  poor women are disproportionately deprived cho...   \n",
       "\n",
       "                                  argument2_id                      debate_id  \\\n",
       "id                                                                              \n",
       "85249  d2f4b1cd-2019-04-17T11:47:27Z-00063-000  d2f4b1cd-2019-04-17T11:47:27Z   \n",
       "40696  b67fc3fb-2019-04-17T11:47:41Z-00192-000  b67fc3fb-2019-04-17T11:47:41Z   \n",
       "\n",
       "       is_same_side                                      topic           tag  \n",
       "id                                                                            \n",
       "85249         False  gay marriage, debate on same sex marriage  gay marriage  \n",
       "40696          True                                   abortion      abortion  "
      ]
     },
     "execution_count": 11,
     "metadata": {},
     "output_type": "execute_result"
    }
   ],
   "source": [
    "cross_test_df.head(2)"
   ]
  },
  {
   "cell_type": "code",
   "execution_count": 12,
   "metadata": {},
   "outputs": [
    {
     "data": {
      "text/html": [
       "<div>\n",
       "<style scoped>\n",
       "    .dataframe tbody tr th:only-of-type {\n",
       "        vertical-align: middle;\n",
       "    }\n",
       "\n",
       "    .dataframe tbody tr th {\n",
       "        vertical-align: top;\n",
       "    }\n",
       "\n",
       "    .dataframe thead th {\n",
       "        text-align: right;\n",
       "    }\n",
       "</style>\n",
       "<table border=\"1\" class=\"dataframe\">\n",
       "  <thead>\n",
       "    <tr style=\"text-align: right;\">\n",
       "      <th></th>\n",
       "      <th>argument1</th>\n",
       "      <th>argument1_id</th>\n",
       "      <th>argument2</th>\n",
       "      <th>argument2_id</th>\n",
       "      <th>debate_id</th>\n",
       "      <th>is_same_side</th>\n",
       "      <th>topic</th>\n",
       "      <th>tag</th>\n",
       "    </tr>\n",
       "    <tr>\n",
       "      <th>id</th>\n",
       "      <th></th>\n",
       "      <th></th>\n",
       "      <th></th>\n",
       "      <th></th>\n",
       "      <th></th>\n",
       "      <th></th>\n",
       "      <th></th>\n",
       "      <th></th>\n",
       "    </tr>\n",
       "  </thead>\n",
       "  <tbody>\n",
       "    <tr>\n",
       "      <th>2607</th>\n",
       "      <td>accepted. pro may extend their arguments to th...</td>\n",
       "      <td>2a0d32eb-2019-04-18T11:46:44Z-00004-000</td>\n",
       "      <td>i\"m pro-life. just think about it, your murder...</td>\n",
       "      <td>2a0d32eb-2019-04-18T11:46:44Z-00004-000</td>\n",
       "      <td>2a0d32eb-2019-04-18T11:46:44Z</td>\n",
       "      <td>False</td>\n",
       "      <td>abortion (pro life)</td>\n",
       "      <td>abortion</td>\n",
       "    </tr>\n",
       "    <tr>\n",
       "      <th>14632</th>\n",
       "      <td>ultrasounds fit well with pro-choice concepts.</td>\n",
       "      <td>475596d3-2019-04-17T11:47:21Z-00031-000</td>\n",
       "      <td>ultrasounds are a procedure any pregnant woman...</td>\n",
       "      <td>475596d3-2019-04-17T11:47:21Z-00031-000</td>\n",
       "      <td>475596d3-2019-04-17T11:47:21Z</td>\n",
       "      <td>True</td>\n",
       "      <td>mandatory ultrasounds before abortions</td>\n",
       "      <td>abortion</td>\n",
       "    </tr>\n",
       "  </tbody>\n",
       "</table>\n",
       "</div>"
      ],
      "text/plain": [
       "                                               argument1  \\\n",
       "id                                                         \n",
       "2607   accepted. pro may extend their arguments to th...   \n",
       "14632     ultrasounds fit well with pro-choice concepts.   \n",
       "\n",
       "                                  argument1_id  \\\n",
       "id                                               \n",
       "2607   2a0d32eb-2019-04-18T11:46:44Z-00004-000   \n",
       "14632  475596d3-2019-04-17T11:47:21Z-00031-000   \n",
       "\n",
       "                                               argument2  \\\n",
       "id                                                         \n",
       "2607   i\"m pro-life. just think about it, your murder...   \n",
       "14632  ultrasounds are a procedure any pregnant woman...   \n",
       "\n",
       "                                  argument2_id                      debate_id  \\\n",
       "id                                                                              \n",
       "2607   2a0d32eb-2019-04-18T11:46:44Z-00004-000  2a0d32eb-2019-04-18T11:46:44Z   \n",
       "14632  475596d3-2019-04-17T11:47:21Z-00031-000  475596d3-2019-04-17T11:47:21Z   \n",
       "\n",
       "       is_same_side                                   topic       tag  \n",
       "id                                                                     \n",
       "2607          False                     abortion (pro life)  abortion  \n",
       "14632          True  mandatory ultrasounds before abortions  abortion  "
      ]
     },
     "execution_count": 12,
     "metadata": {},
     "output_type": "execute_result"
    }
   ],
   "source": [
    "within_train_df.head(2)"
   ]
  },
  {
   "cell_type": "code",
   "execution_count": 13,
   "metadata": {},
   "outputs": [
    {
     "data": {
      "text/html": [
       "<div>\n",
       "<style scoped>\n",
       "    .dataframe tbody tr th:only-of-type {\n",
       "        vertical-align: middle;\n",
       "    }\n",
       "\n",
       "    .dataframe tbody tr th {\n",
       "        vertical-align: top;\n",
       "    }\n",
       "\n",
       "    .dataframe thead th {\n",
       "        text-align: right;\n",
       "    }\n",
       "</style>\n",
       "<table border=\"1\" class=\"dataframe\">\n",
       "  <thead>\n",
       "    <tr style=\"text-align: right;\">\n",
       "      <th></th>\n",
       "      <th>argument1</th>\n",
       "      <th>argument1_id</th>\n",
       "      <th>argument2</th>\n",
       "      <th>argument2_id</th>\n",
       "      <th>debate_id</th>\n",
       "      <th>is_same_side</th>\n",
       "      <th>topic</th>\n",
       "      <th>tag</th>\n",
       "    </tr>\n",
       "    <tr>\n",
       "      <th>id</th>\n",
       "      <th></th>\n",
       "      <th></th>\n",
       "      <th></th>\n",
       "      <th></th>\n",
       "      <th></th>\n",
       "      <th></th>\n",
       "      <th></th>\n",
       "      <th></th>\n",
       "    </tr>\n",
       "  </thead>\n",
       "  <tbody>\n",
       "    <tr>\n",
       "      <th>85249</th>\n",
       "      <td>gay marriage devalues marriage, frequency of o...</td>\n",
       "      <td>d2f4b1cd-2019-04-17T11:47:27Z-00063-000</td>\n",
       "      <td>being unaccustomed to gay marriage is no argument</td>\n",
       "      <td>d2f4b1cd-2019-04-17T11:47:27Z-00063-000</td>\n",
       "      <td>d2f4b1cd-2019-04-17T11:47:27Z</td>\n",
       "      <td>False</td>\n",
       "      <td>gay marriage, debate on same sex marriage</td>\n",
       "      <td>gay marriage</td>\n",
       "    </tr>\n",
       "    <tr>\n",
       "      <th>40696</th>\n",
       "      <td>fewer women would have abortions if they knew ...</td>\n",
       "      <td>b67fc3fb-2019-04-17T11:47:41Z-00192-000</td>\n",
       "      <td>poor women are disproportionately deprived cho...</td>\n",
       "      <td>b67fc3fb-2019-04-17T11:47:41Z-00192-000</td>\n",
       "      <td>b67fc3fb-2019-04-17T11:47:41Z</td>\n",
       "      <td>True</td>\n",
       "      <td>abortion</td>\n",
       "      <td>abortion</td>\n",
       "    </tr>\n",
       "  </tbody>\n",
       "</table>\n",
       "</div>"
      ],
      "text/plain": [
       "                                               argument1  \\\n",
       "id                                                         \n",
       "85249  gay marriage devalues marriage, frequency of o...   \n",
       "40696  fewer women would have abortions if they knew ...   \n",
       "\n",
       "                                  argument1_id  \\\n",
       "id                                               \n",
       "85249  d2f4b1cd-2019-04-17T11:47:27Z-00063-000   \n",
       "40696  b67fc3fb-2019-04-17T11:47:41Z-00192-000   \n",
       "\n",
       "                                               argument2  \\\n",
       "id                                                         \n",
       "85249  being unaccustomed to gay marriage is no argument   \n",
       "40696  poor women are disproportionately deprived cho...   \n",
       "\n",
       "                                  argument2_id                      debate_id  \\\n",
       "id                                                                              \n",
       "85249  d2f4b1cd-2019-04-17T11:47:27Z-00063-000  d2f4b1cd-2019-04-17T11:47:27Z   \n",
       "40696  b67fc3fb-2019-04-17T11:47:41Z-00192-000  b67fc3fb-2019-04-17T11:47:41Z   \n",
       "\n",
       "       is_same_side                                      topic           tag  \n",
       "id                                                                            \n",
       "85249         False  gay marriage, debate on same sex marriage  gay marriage  \n",
       "40696          True                                   abortion      abortion  "
      ]
     },
     "execution_count": 13,
     "metadata": {},
     "output_type": "execute_result"
    }
   ],
   "source": [
    "within_test_df.head(2)"
   ]
  },
  {
   "cell_type": "markdown",
   "metadata": {},
   "source": [
    "## BERTify training and test data"
   ]
  },
  {
   "cell_type": "code",
   "execution_count": 17,
   "metadata": {},
   "outputs": [],
   "source": [
    "from bert_serving.client import BertClient\n",
    "bc = BertClient()"
   ]
  },
  {
   "cell_type": "markdown",
   "metadata": {},
   "source": [
    "## within topic"
   ]
  },
  {
   "cell_type": "code",
   "execution_count": null,
   "metadata": {},
   "outputs": [
    {
     "name": "stderr",
     "output_type": "stream",
     "text": [
      "/srv/home/gwiedemann/miniconda3/envs/nnnlp/lib/python3.6/site-packages/bert_serving/client/__init__.py:286: UserWarning: some of your sentences have more tokens than \"max_seq_len=256\" set on the server, as consequence you may get less-accurate or truncated embeddings.\n",
      "here is what you can do:\n",
      "- disable the length-check by create a new \"BertClient(check_length=False)\" when you do not want to display this warning\n",
      "- or, start a new server with a larger \"max_seq_len\"\n",
      "  '- or, start a new server with a larger \"max_seq_len\"' % self.length_limit)\n"
     ]
    }
   ],
   "source": [
    "a1 = bc.encode(within_train_df.argument1.tolist())\n",
    "a2 = bc.encode(within_train_df.argument2.tolist())\n",
    "train_embedded_pairs = zip(a1, a2)\n",
    "pickle.dump(train_embedded_pairs, open(\"BERT_pairs_train.pkl\", \"wb\"))"
   ]
  },
  {
   "cell_type": "code",
   "execution_count": null,
   "metadata": {},
   "outputs": [],
   "source": [
    "a1 = bc.encode(within_dev_df.argument1.tolist())\n",
    "a2 = bc.encode(within_dev_df.argument2.tolist())\n",
    "dev_embedded_pairs = zip(a1, a2)\n",
    "pickle.dump(dev_embedded_pairs, open(\"BERT_pairs_dev.pkl\", \"wb\"))"
   ]
  },
  {
   "cell_type": "code",
   "execution_count": null,
   "metadata": {},
   "outputs": [],
   "source": [
    "a1 = bc.encode(within_test_df.argument1.tolist())\n",
    "a2 = bc.encode(within_test_df.argument2.tolist())\n",
    "test_embedded_pairs = zip(a1, a2)\n",
    "pickle.dump(test_embedded_pairs, open(\"BERT_pairs_test.pkl\", \"wb\"))"
   ]
  },
  {
   "cell_type": "markdown",
   "metadata": {},
   "source": [
    "## cross topic"
   ]
  },
  {
   "cell_type": "code",
   "execution_count": null,
   "metadata": {},
   "outputs": [],
   "source": []
  },
  {
   "cell_type": "markdown",
   "metadata": {},
   "source": [
    "## Model"
   ]
  },
  {
   "cell_type": "code",
   "execution_count": 15,
   "metadata": {},
   "outputs": [
    {
     "name": "stderr",
     "output_type": "stream",
     "text": [
      "Using TensorFlow backend.\n"
     ]
    }
   ],
   "source": [
    "import keras.backend as K\n",
    "from keras.models import Sequential, Model, clone_model, load_model\n",
    "from keras.callbacks import Callback\n",
    "from keras.optimizers import *\n",
    "from keras.layers import *\n",
    "from keras import *\n",
    "from keras.utils import to_categorical, Sequence\n",
    "from keras.preprocessing.sequence import pad_sequences\n",
    "from keras.initializers import RandomUniform"
   ]
  },
  {
   "cell_type": "code",
   "execution_count": 16,
   "metadata": {},
   "outputs": [
    {
     "name": "stdout",
     "output_type": "stream",
     "text": [
      "env: CUDA_DEVICE_ORDER=PCI_BUS_ID\n",
      "env: CUDA_VISIBLE_DEVICES=0\n"
     ]
    }
   ],
   "source": [
    "%env CUDA_DEVICE_ORDER=PCI_BUS_ID\n",
    "%env CUDA_VISIBLE_DEVICES=0"
   ]
  },
  {
   "cell_type": "code",
   "execution_count": 32,
   "metadata": {},
   "outputs": [],
   "source": [
    "training_embs = pickle.load(open(\"BERT_pairs_train.pkl\",\"rb\"))\n",
    "dev_embs = pickle.load(open(\"BERT_pairs_dev.pkl\",\"rb\"))"
   ]
  },
  {
   "cell_type": "code",
   "execution_count": 33,
   "metadata": {},
   "outputs": [],
   "source": [
    "t1, t2 = zip(*training_embs)\n",
    "train_args1 = np.array(t1)\n",
    "train_args2 = np.array(t2)\n",
    "train_args1.shape"
   ]
  },
  {
   "cell_type": "code",
   "execution_count": 34,
   "metadata": {},
   "outputs": [],
   "source": [
    "t1, t2 = zip(*dev_embs)\n",
    "dev_args1 = np.array(t1)\n",
    "dev_args2 = np.array(t2)\n",
    "dev_args1.shape"
   ]
  },
  {
   "cell_type": "code",
   "execution_count": 35,
   "metadata": {},
   "outputs": [
    {
     "data": {
      "text/plain": [
       "(63903, 1024)"
      ]
     },
     "execution_count": 35,
     "metadata": {},
     "output_type": "execute_result"
    }
   ],
   "source": [
    "t1, t2 = zip(*dev_embs)\n",
    "test_args1 = np.array(t1)\n",
    "test_args2 = np.array(t2)\n",
    "test_args1.shape"
   ]
  },
  {
   "cell_type": "code",
   "execution_count": 77,
   "metadata": {},
   "outputs": [],
   "source": [
    "train_output = [1 if t else 0 for t in within_train_df.is_same_side]\n",
    "dev_output = [1 if t else 0 for t in within_dev_df.is_same_side]\n",
    "test_output = [1 if t else 0 for t in within_test_df.is_same_side]"
   ]
  },
  {
   "cell_type": "code",
   "execution_count": 101,
   "metadata": {},
   "outputs": [],
   "source": [
    "embedding_dims = t1[0].shape\n",
    "\n",
    "layer_input_1 = Input(shape = embedding_dims, name = 'input_1')\n",
    "layer_input_2 = Input(shape = embedding_dims, name = 'input_2')\n",
    "\n",
    "encoder_1 = Dense(embedding_dims[0], activation='relu')(layer_input_1)\n",
    "encoder_2 = Dense(embedding_dims[0], activation='relu')(layer_input_2)\n",
    "\n",
    "# combined_diff = subtract([encoder_1, encoder_2])\n",
    "# combined_mult = multiply([encoder_1, encoder_2])\n",
    "combined_dot = dot([encoder_1, encoder_2], axes=-1, normalize=False)\n",
    "combined_all = concatenate([encoder_1, encoder_2, combined_dot])\n",
    "\n",
    "features_pred = Dense(300, activation='relu')(combined_all)\n",
    "# features_norm = BatchNormalization()(features_pred)\n",
    "# features_acti = LeakyReLU()(features_pred)\n",
    "# features_drop = Dropout(rate=0.5)(features_acti)\n",
    "layer_prediction = Dense(1, activation='sigmoid')(features_pred)\n",
    "\n",
    "model = Model([layer_input_1, layer_input_2], layer_prediction)\n",
    "model.compile(loss='binary_crossentropy', optimizer='nadam', metrics=['accuracy'])"
   ]
  },
  {
   "cell_type": "code",
   "execution_count": 102,
   "metadata": {},
   "outputs": [
    {
     "name": "stdout",
     "output_type": "stream",
     "text": [
      "Train on 57512 samples, validate on 6391 samples\n",
      "Epoch 1/2\n",
      "57512/57512 [==============================] - 29s 499us/step - loss: 0.3732 - acc: 0.7822 - val_loss: 0.2860 - val_acc: 0.8240\n",
      "Epoch 2/2\n",
      "57512/57512 [==============================] - 26s 452us/step - loss: 0.2871 - acc: 0.8269 - val_loss: 0.2748 - val_acc: 0.8284\n",
      "Train on 57512 samples, validate on 6391 samples\n",
      "Epoch 3/3\n",
      "57512/57512 [==============================] - 13s 231us/step - loss: 0.2640 - acc: 0.8405 - val_loss: 0.2676 - val_acc: 0.8352\n",
      "Train on 57512 samples, validate on 6391 samples\n",
      "Epoch 4/4\n",
      "57512/57512 [==============================] - 7s 118us/step - loss: 0.2468 - acc: 0.8519 - val_loss: 0.2645 - val_acc: 0.8376\n",
      "Train on 57512 samples, validate on 6391 samples\n",
      "Epoch 4/20\n",
      "57512/57512 [==============================] - 1s 14us/step - loss: 0.2333 - acc: 0.8644 - val_loss: 0.2670 - val_acc: 0.8363\n",
      "Epoch 5/20\n",
      "57512/57512 [==============================] - 1s 14us/step - loss: 0.2280 - acc: 0.8686 - val_loss: 0.2685 - val_acc: 0.8401\n",
      "Epoch 6/20\n",
      "57512/57512 [==============================] - 1s 16us/step - loss: 0.2248 - acc: 0.8716 - val_loss: 0.2717 - val_acc: 0.8393\n",
      "Epoch 7/20\n",
      "57512/57512 [==============================] - 1s 15us/step - loss: 0.2220 - acc: 0.8734 - val_loss: 0.2713 - val_acc: 0.8390\n",
      "Epoch 8/20\n",
      "57512/57512 [==============================] - 1s 14us/step - loss: 0.2190 - acc: 0.8764 - val_loss: 0.2734 - val_acc: 0.8406\n",
      "Epoch 9/20\n",
      "57512/57512 [==============================] - 1s 14us/step - loss: 0.2159 - acc: 0.8789 - val_loss: 0.2757 - val_acc: 0.8418\n",
      "Epoch 10/20\n",
      "57512/57512 [==============================] - 1s 14us/step - loss: 0.2127 - acc: 0.8818 - val_loss: 0.2773 - val_acc: 0.8418\n",
      "Epoch 11/20\n",
      "57512/57512 [==============================] - 1s 14us/step - loss: 0.2093 - acc: 0.8837 - val_loss: 0.2814 - val_acc: 0.8388\n",
      "Epoch 12/20\n",
      "57512/57512 [==============================] - 1s 13us/step - loss: 0.2056 - acc: 0.8867 - val_loss: 0.2855 - val_acc: 0.8379\n",
      "Epoch 13/20\n",
      "57512/57512 [==============================] - 1s 13us/step - loss: 0.2013 - acc: 0.8900 - val_loss: 0.2878 - val_acc: 0.8385\n",
      "Epoch 14/20\n",
      "57512/57512 [==============================] - 1s 13us/step - loss: 0.1967 - acc: 0.8948 - val_loss: 0.2934 - val_acc: 0.8354\n",
      "Epoch 15/20\n",
      "57512/57512 [==============================] - 1s 13us/step - loss: 0.1918 - acc: 0.8975 - val_loss: 0.2968 - val_acc: 0.8390\n",
      "Epoch 16/20\n",
      "57512/57512 [==============================] - 1s 13us/step - loss: 0.1863 - acc: 0.9018 - val_loss: 0.3004 - val_acc: 0.8402\n",
      "Epoch 17/20\n",
      "57512/57512 [==============================] - 1s 15us/step - loss: 0.1810 - acc: 0.9063 - val_loss: 0.3141 - val_acc: 0.8373\n",
      "Epoch 18/20\n",
      "57512/57512 [==============================] - 1s 15us/step - loss: 0.1749 - acc: 0.9102 - val_loss: 0.3228 - val_acc: 0.8385\n",
      "Epoch 19/20\n",
      "57512/57512 [==============================] - 1s 14us/step - loss: 0.1684 - acc: 0.9148 - val_loss: 0.3335 - val_acc: 0.8415\n",
      "Epoch 20/20\n",
      "57512/57512 [==============================] - 1s 14us/step - loss: 0.1624 - acc: 0.9196 - val_loss: 0.3355 - val_acc: 0.8388\n"
     ]
    },
    {
     "data": {
      "text/plain": [
       "<keras.callbacks.History at 0x7f8ea0f69128>"
      ]
     },
     "execution_count": 102,
     "metadata": {},
     "output_type": "execute_result"
    }
   ],
   "source": [
    "model.fit([train_args1, train_args2], train_output, batch_size=32, epochs=20, \n",
    "          validation_data=([dev_args1, dev_args2], dev_output), verbose=True)"
   ]
  },
  {
   "cell_type": "code",
   "execution_count": 50,
   "metadata": {},
   "outputs": [
    {
     "data": {
      "text/plain": [
       "array([[1.0000000e+00, 1.3444875e-30],\n",
       "       [9.9147862e-01, 8.5214097e-03],\n",
       "       [1.5596529e-12, 1.0000000e+00],\n",
       "       ...,\n",
       "       [7.6898479e-01, 2.3101521e-01],\n",
       "       [1.0000000e+00, 3.0680863e-18],\n",
       "       [4.3383577e-01, 5.6616420e-01]], dtype=float32)"
      ]
     },
     "execution_count": 50,
     "metadata": {},
     "output_type": "execute_result"
    }
   ],
   "source": [
    "test_output_pred = model.predict([test_args1, test_args2]).argmax(axis=-1)"
   ]
  },
  {
   "cell_type": "code",
   "execution_count": null,
   "metadata": {},
   "outputs": [],
   "source": [
    "# dev set performances\n",
    "# --------------------\n",
    "\n",
    "# concatenate([encoder_1, encoder_2, combined_diff, combined_dot])\n",
    "# Epoch 17/20\n",
    "# 57512/57512 [==============================] - 12s 207us/step - loss: 0.1906 - acc: 0.8963 - val_loss: 0.3081 - val_acc: 0.8512\n",
    "\n",
    "# combined_all = concatenate([encoder_1, encoder_2])\n",
    "# Epoch 17/20\n",
    "# 57512/57512 [==============================] - 11s 191us/step - loss: 0.1767 - acc: 0.9052 - val_loss: 0.3394 - val_acc: 0.8514\n",
    "\n",
    "# combined_all = concatenate([encoder_1, encoder_2, combined_dot])\n",
    "# Epoch 17/20\n",
    "# 57512/57512 [==============================] - 12s 205us/step - loss: 0.1726 - acc: 0.9115 - val_loss: 0.3162 - val_acc: 0.8559\n",
    "\n",
    "# + dropout 0.1: hülft nicht viel... bzw. nichts..."
   ]
  },
  {
   "cell_type": "code",
   "execution_count": null,
   "metadata": {},
   "outputs": [],
   "source": [
    "def report_training_results(y_test, y_pred):\n",
    "    print('Confusion Matrix:')\n",
    "    print(confusion_matrix(y_test, y_pred))  \n",
    "    print()\n",
    "    print('Accuracy: ', round(accuracy_score(y_test, y_pred), 2))  #\n",
    "    print()\n",
    "\n",
    "    print('Report:')\n",
    "    print(classification_report(y_test, y_pred))  \n",
    "    f1_dic = {}\n",
    "    \n",
    "    f1_dic['macro'] = round(f1_score(y_pred=y_pred, y_true=y_test, average='macro'), 2)\n",
    "    f1_dic['micro'] = round(f1_score(y_pred=y_pred, y_true=y_test, average='micro'), 2)\n",
    "    return f1_dic"
   ]
  },
  {
   "cell_type": "code",
   "execution_count": null,
   "metadata": {},
   "outputs": [],
   "source": [
    "# test set performance\n",
    "report_training_results(test_output, test_output_pred)"
   ]
  }
 ],
 "metadata": {
  "kernelspec": {
   "display_name": "Python 3",
   "language": "python",
   "name": "python3"
  },
  "language_info": {
   "codemirror_mode": {
    "name": "ipython",
    "version": 3
   },
   "file_extension": ".py",
   "mimetype": "text/x-python",
   "name": "python",
   "nbconvert_exporter": "python",
   "pygments_lexer": "ipython3",
   "version": "3.6.5"
  }
 },
 "nbformat": 4,
 "nbformat_minor": 2
}
