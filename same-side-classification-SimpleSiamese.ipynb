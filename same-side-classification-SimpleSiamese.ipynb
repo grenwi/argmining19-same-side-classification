{
 "cells": [
  {
   "cell_type": "markdown",
   "metadata": {},
   "source": [
    "# RATIO 2019 - Benchmarking Workshop"
   ]
  },
  {
   "cell_type": "code",
   "execution_count": 1,
   "metadata": {},
   "outputs": [],
   "source": [
    "import pandas as pd\n",
    "import numpy as np\n",
    "import pickle\n",
    "from nltk.tokenize import sent_tokenize, word_tokenize"
   ]
  },
  {
   "cell_type": "markdown",
   "metadata": {},
   "source": [
    "# Task 1 - Same Side Clasiification\n",
    "\n"
   ]
  },
  {
   "cell_type": "code",
   "execution_count": 2,
   "metadata": {},
   "outputs": [],
   "source": [
    "data_cross_path = 'data/same-side-classification/cross-topic/{}.csv'\n",
    "data_within_path = 'data/same-side-classification/within-topic/{}.csv'"
   ]
  },
  {
   "cell_type": "markdown",
   "metadata": {},
   "source": [
    "### Load within-topics and cross-topics data"
   ]
  },
  {
   "cell_type": "code",
   "execution_count": 3,
   "metadata": {},
   "outputs": [],
   "source": [
    "cross_traindev_df = pd.read_csv(data_cross_path.format('training'), index_col='id')\n",
    "cross_test_df =  pd.read_csv(data_cross_path.format('test'),index_col='id')\n",
    "\n",
    "within_traindev_df =  pd.read_csv(data_within_path.format('training'), index_col='id')\n",
    "within_test_df =  pd.read_csv(data_within_path.format('test'), index_col='id')"
   ]
  },
  {
   "cell_type": "code",
   "execution_count": null,
   "metadata": {},
   "outputs": [],
   "source": [
    "# Adding a tag for the topics in focus: \"gay marriage\" and \"abortion\"\n",
    "def add_tag(row):\n",
    "    title = row['topic'].lower().strip()\n",
    "    if title.find('abortion') > -1 :\n",
    "        row['tag'] = 'abortion'\n",
    "    elif title.find('gay marriage') > -1 :\n",
    "        row['tag'] = 'gay marriage'\n",
    "    else:\n",
    "        row['tag'] = 'NA'\n",
    "    return row\n",
    "\n",
    "cross_traindev_df = cross_traindev_df.apply(add_tag, axis=1)\n",
    "cross_test_df = cross_test_df.apply(add_tag, axis=1)\n",
    "\n",
    "within_traindev_df = within_traindev_df.apply(add_tag, axis=1)\n",
    "within_test_df = within_test_df.apply(add_tag, axis=1)"
   ]
  },
  {
   "cell_type": "code",
   "execution_count": null,
   "metadata": {},
   "outputs": [],
   "source": [
    "cross_traindev_df.head(2)"
   ]
  },
  {
   "cell_type": "code",
   "execution_count": 6,
   "metadata": {
    "scrolled": false
   },
   "outputs": [
    {
     "data": {
      "text/html": [
       "<div>\n",
       "<style scoped>\n",
       "    .dataframe tbody tr th:only-of-type {\n",
       "        vertical-align: middle;\n",
       "    }\n",
       "\n",
       "    .dataframe tbody tr th {\n",
       "        vertical-align: top;\n",
       "    }\n",
       "\n",
       "    .dataframe thead th {\n",
       "        text-align: right;\n",
       "    }\n",
       "</style>\n",
       "<table border=\"1\" class=\"dataframe\">\n",
       "  <thead>\n",
       "    <tr style=\"text-align: right;\">\n",
       "      <th></th>\n",
       "      <th>argument1</th>\n",
       "      <th>argument1_id</th>\n",
       "      <th>argument2</th>\n",
       "      <th>argument2_id</th>\n",
       "      <th>debate_id</th>\n",
       "      <th>topic</th>\n",
       "      <th>tag</th>\n",
       "    </tr>\n",
       "    <tr>\n",
       "      <th>id</th>\n",
       "      <th></th>\n",
       "      <th></th>\n",
       "      <th></th>\n",
       "      <th></th>\n",
       "      <th></th>\n",
       "      <th></th>\n",
       "      <th></th>\n",
       "    </tr>\n",
       "  </thead>\n",
       "  <tbody>\n",
       "    <tr>\n",
       "      <th>0</th>\n",
       "      <td>i would like to start off by thanking my oppon...</td>\n",
       "      <td>102b48fc-2019-04-18T18:55:38Z-00002-000</td>\n",
       "      <td>i was hoping that since this member took the t...</td>\n",
       "      <td>102b48fc-2019-04-18T18:55:38Z-00002-000</td>\n",
       "      <td>102b48fc-2019-04-18T18:55:38Z</td>\n",
       "      <td>gay marriage is wrong</td>\n",
       "      <td>gay marriage</td>\n",
       "    </tr>\n",
       "    <tr>\n",
       "      <th>1</th>\n",
       "      <td>i would like to start off by thanking my oppon...</td>\n",
       "      <td>102b48fc-2019-04-18T18:55:38Z-00002-000</td>\n",
       "      <td>hello, i am new to this website and usually de...</td>\n",
       "      <td>102b48fc-2019-04-18T18:55:38Z-00002-000</td>\n",
       "      <td>102b48fc-2019-04-18T18:55:38Z</td>\n",
       "      <td>gay marriage is wrong</td>\n",
       "      <td>gay marriage</td>\n",
       "    </tr>\n",
       "  </tbody>\n",
       "</table>\n",
       "</div>"
      ],
      "text/plain": [
       "                                            argument1  \\\n",
       "id                                                      \n",
       "0   i would like to start off by thanking my oppon...   \n",
       "1   i would like to start off by thanking my oppon...   \n",
       "\n",
       "                               argument1_id  \\\n",
       "id                                            \n",
       "0   102b48fc-2019-04-18T18:55:38Z-00002-000   \n",
       "1   102b48fc-2019-04-18T18:55:38Z-00002-000   \n",
       "\n",
       "                                            argument2  \\\n",
       "id                                                      \n",
       "0   i was hoping that since this member took the t...   \n",
       "1   hello, i am new to this website and usually de...   \n",
       "\n",
       "                               argument2_id                      debate_id  \\\n",
       "id                                                                           \n",
       "0   102b48fc-2019-04-18T18:55:38Z-00002-000  102b48fc-2019-04-18T18:55:38Z   \n",
       "1   102b48fc-2019-04-18T18:55:38Z-00002-000  102b48fc-2019-04-18T18:55:38Z   \n",
       "\n",
       "                    topic           tag  \n",
       "id                                       \n",
       "0   gay marriage is wrong  gay marriage  \n",
       "1   gay marriage is wrong  gay marriage  "
      ]
     },
     "execution_count": 6,
     "metadata": {},
     "output_type": "execute_result"
    }
   ],
   "source": [
    "cross_test_df.head(2)"
   ]
  },
  {
   "cell_type": "code",
   "execution_count": 7,
   "metadata": {},
   "outputs": [
    {
     "data": {
      "text/html": [
       "<div>\n",
       "<style scoped>\n",
       "    .dataframe tbody tr th:only-of-type {\n",
       "        vertical-align: middle;\n",
       "    }\n",
       "\n",
       "    .dataframe tbody tr th {\n",
       "        vertical-align: top;\n",
       "    }\n",
       "\n",
       "    .dataframe thead th {\n",
       "        text-align: right;\n",
       "    }\n",
       "</style>\n",
       "<table border=\"1\" class=\"dataframe\">\n",
       "  <thead>\n",
       "    <tr style=\"text-align: right;\">\n",
       "      <th></th>\n",
       "      <th>argument1</th>\n",
       "      <th>argument1_id</th>\n",
       "      <th>argument2</th>\n",
       "      <th>argument2_id</th>\n",
       "      <th>debate_id</th>\n",
       "      <th>is_same_side</th>\n",
       "      <th>topic</th>\n",
       "      <th>tag</th>\n",
       "    </tr>\n",
       "    <tr>\n",
       "      <th>id</th>\n",
       "      <th></th>\n",
       "      <th></th>\n",
       "      <th></th>\n",
       "      <th></th>\n",
       "      <th></th>\n",
       "      <th></th>\n",
       "      <th></th>\n",
       "      <th></th>\n",
       "    </tr>\n",
       "  </thead>\n",
       "  <tbody>\n",
       "    <tr>\n",
       "      <th>85249</th>\n",
       "      <td>gay marriage devalues marriage, frequency of o...</td>\n",
       "      <td>d2f4b1cd-2019-04-17T11:47:27Z-00063-000</td>\n",
       "      <td>being unaccustomed to gay marriage is no argument</td>\n",
       "      <td>d2f4b1cd-2019-04-17T11:47:27Z-00063-000</td>\n",
       "      <td>d2f4b1cd-2019-04-17T11:47:27Z</td>\n",
       "      <td>False</td>\n",
       "      <td>gay marriage, debate on same sex marriage</td>\n",
       "      <td>gay marriage</td>\n",
       "    </tr>\n",
       "    <tr>\n",
       "      <th>2607</th>\n",
       "      <td>accepted. pro may extend their arguments to th...</td>\n",
       "      <td>2a0d32eb-2019-04-18T11:46:44Z-00004-000</td>\n",
       "      <td>i\"m pro-life. just think about it, your murder...</td>\n",
       "      <td>2a0d32eb-2019-04-18T11:46:44Z-00004-000</td>\n",
       "      <td>2a0d32eb-2019-04-18T11:46:44Z</td>\n",
       "      <td>False</td>\n",
       "      <td>abortion (pro life)</td>\n",
       "      <td>abortion</td>\n",
       "    </tr>\n",
       "  </tbody>\n",
       "</table>\n",
       "</div>"
      ],
      "text/plain": [
       "                                               argument1  \\\n",
       "id                                                         \n",
       "85249  gay marriage devalues marriage, frequency of o...   \n",
       "2607   accepted. pro may extend their arguments to th...   \n",
       "\n",
       "                                  argument1_id  \\\n",
       "id                                               \n",
       "85249  d2f4b1cd-2019-04-17T11:47:27Z-00063-000   \n",
       "2607   2a0d32eb-2019-04-18T11:46:44Z-00004-000   \n",
       "\n",
       "                                               argument2  \\\n",
       "id                                                         \n",
       "85249  being unaccustomed to gay marriage is no argument   \n",
       "2607   i\"m pro-life. just think about it, your murder...   \n",
       "\n",
       "                                  argument2_id                      debate_id  \\\n",
       "id                                                                              \n",
       "85249  d2f4b1cd-2019-04-17T11:47:27Z-00063-000  d2f4b1cd-2019-04-17T11:47:27Z   \n",
       "2607   2a0d32eb-2019-04-18T11:46:44Z-00004-000  2a0d32eb-2019-04-18T11:46:44Z   \n",
       "\n",
       "       is_same_side                                      topic           tag  \n",
       "id                                                                            \n",
       "85249         False  gay marriage, debate on same sex marriage  gay marriage  \n",
       "2607          False                        abortion (pro life)      abortion  "
      ]
     },
     "execution_count": 7,
     "metadata": {},
     "output_type": "execute_result"
    }
   ],
   "source": [
    "within_traindev_df.head(2)"
   ]
  },
  {
   "cell_type": "code",
   "execution_count": 8,
   "metadata": {},
   "outputs": [
    {
     "data": {
      "text/html": [
       "<div>\n",
       "<style scoped>\n",
       "    .dataframe tbody tr th:only-of-type {\n",
       "        vertical-align: middle;\n",
       "    }\n",
       "\n",
       "    .dataframe tbody tr th {\n",
       "        vertical-align: top;\n",
       "    }\n",
       "\n",
       "    .dataframe thead th {\n",
       "        text-align: right;\n",
       "    }\n",
       "</style>\n",
       "<table border=\"1\" class=\"dataframe\">\n",
       "  <thead>\n",
       "    <tr style=\"text-align: right;\">\n",
       "      <th></th>\n",
       "      <th>argument1</th>\n",
       "      <th>argument1_id</th>\n",
       "      <th>argument2</th>\n",
       "      <th>argument2_id</th>\n",
       "      <th>debate_id</th>\n",
       "      <th>topic</th>\n",
       "      <th>tag</th>\n",
       "    </tr>\n",
       "    <tr>\n",
       "      <th>id</th>\n",
       "      <th></th>\n",
       "      <th></th>\n",
       "      <th></th>\n",
       "      <th></th>\n",
       "      <th></th>\n",
       "      <th></th>\n",
       "      <th></th>\n",
       "    </tr>\n",
       "  </thead>\n",
       "  <tbody>\n",
       "    <tr>\n",
       "      <th>2</th>\n",
       "      <td>first i want to thank my opponent for letting ...</td>\n",
       "      <td>100c174f-2019-04-18T17:33:51Z-00001-000</td>\n",
       "      <td>this is my first debate so please just bare wi...</td>\n",
       "      <td>100c174f-2019-04-18T17:33:51Z-00001-000</td>\n",
       "      <td>100c174f-2019-04-18T17:33:51Z</td>\n",
       "      <td>abortion should be illegal with exceptions</td>\n",
       "      <td>abortion</td>\n",
       "    </tr>\n",
       "    <tr>\n",
       "      <th>7</th>\n",
       "      <td>first i want to thank my opponent for letting ...</td>\n",
       "      <td>100c174f-2019-04-18T17:33:51Z-00001-000</td>\n",
       "      <td>in this debate, there are a few factors that m...</td>\n",
       "      <td>100c174f-2019-04-18T17:33:51Z-00001-000</td>\n",
       "      <td>100c174f-2019-04-18T17:33:51Z</td>\n",
       "      <td>abortion should be illegal with exceptions</td>\n",
       "      <td>abortion</td>\n",
       "    </tr>\n",
       "  </tbody>\n",
       "</table>\n",
       "</div>"
      ],
      "text/plain": [
       "                                            argument1  \\\n",
       "id                                                      \n",
       "2   first i want to thank my opponent for letting ...   \n",
       "7   first i want to thank my opponent for letting ...   \n",
       "\n",
       "                               argument1_id  \\\n",
       "id                                            \n",
       "2   100c174f-2019-04-18T17:33:51Z-00001-000   \n",
       "7   100c174f-2019-04-18T17:33:51Z-00001-000   \n",
       "\n",
       "                                            argument2  \\\n",
       "id                                                      \n",
       "2   this is my first debate so please just bare wi...   \n",
       "7   in this debate, there are a few factors that m...   \n",
       "\n",
       "                               argument2_id                      debate_id  \\\n",
       "id                                                                           \n",
       "2   100c174f-2019-04-18T17:33:51Z-00001-000  100c174f-2019-04-18T17:33:51Z   \n",
       "7   100c174f-2019-04-18T17:33:51Z-00001-000  100c174f-2019-04-18T17:33:51Z   \n",
       "\n",
       "                                         topic       tag  \n",
       "id                                                        \n",
       "2   abortion should be illegal with exceptions  abortion  \n",
       "7   abortion should be illegal with exceptions  abortion  "
      ]
     },
     "execution_count": 8,
     "metadata": {},
     "output_type": "execute_result"
    }
   ],
   "source": [
    "within_test_df.head(2)"
   ]
  },
  {
   "cell_type": "markdown",
   "metadata": {},
   "source": [
    "## BERTify training and test data"
   ]
  },
  {
   "cell_type": "code",
   "execution_count": 11,
   "metadata": {},
   "outputs": [],
   "source": [
    "from bert_serving.client import BertClient\n",
    "bc = BertClient()"
   ]
  },
  {
   "cell_type": "code",
   "execution_count": 12,
   "metadata": {},
   "outputs": [
    {
     "name": "stderr",
     "output_type": "stream",
     "text": [
      "/srv/home/gwiedemann/miniconda3/envs/nnnlp/lib/python3.6/site-packages/bert_serving/client/__init__.py:286: UserWarning: some of your sentences have more tokens than \"max_seq_len=256\" set on the server, as consequence you may get less-accurate or truncated embeddings.\n",
      "here is what you can do:\n",
      "- disable the length-check by create a new \"BertClient(check_length=False)\" when you do not want to display this warning\n",
      "- or, start a new server with a larger \"max_seq_len\"\n",
      "  '- or, start a new server with a larger \"max_seq_len\"' % self.length_limit)\n"
     ]
    },
    {
     "ename": "NameError",
     "evalue": "name 'test_embedded_pairs' is not defined",
     "output_type": "error",
     "traceback": [
      "\u001b[0;31m---------------------------------------------------------------------------\u001b[0m",
      "\u001b[0;31mNameError\u001b[0m                                 Traceback (most recent call last)",
      "\u001b[0;32m<ipython-input-12-f7630c37b0b5>\u001b[0m in \u001b[0;36m<module>\u001b[0;34m()\u001b[0m\n\u001b[1;32m      2\u001b[0m \u001b[0ma2\u001b[0m \u001b[0;34m=\u001b[0m \u001b[0mbc\u001b[0m\u001b[0;34m.\u001b[0m\u001b[0mencode\u001b[0m\u001b[0;34m(\u001b[0m\u001b[0mwithin_traindev_df\u001b[0m\u001b[0;34m.\u001b[0m\u001b[0margument2\u001b[0m\u001b[0;34m.\u001b[0m\u001b[0mtolist\u001b[0m\u001b[0;34m(\u001b[0m\u001b[0;34m)\u001b[0m\u001b[0;34m)\u001b[0m\u001b[0;34m\u001b[0m\u001b[0m\n\u001b[1;32m      3\u001b[0m \u001b[0mtraindev_embedded_pairs\u001b[0m \u001b[0;34m=\u001b[0m \u001b[0mzip\u001b[0m\u001b[0;34m(\u001b[0m\u001b[0ma1\u001b[0m\u001b[0;34m,\u001b[0m \u001b[0ma2\u001b[0m\u001b[0;34m)\u001b[0m\u001b[0;34m\u001b[0m\u001b[0m\n\u001b[0;32m----> 4\u001b[0;31m \u001b[0mpickle\u001b[0m\u001b[0;34m.\u001b[0m\u001b[0mdump\u001b[0m\u001b[0;34m(\u001b[0m\u001b[0mtest_embedded_pairs\u001b[0m\u001b[0;34m,\u001b[0m \u001b[0mopen\u001b[0m\u001b[0;34m(\u001b[0m\u001b[0;34m\"BERT_pairs_train.pkl\"\u001b[0m\u001b[0;34m,\u001b[0m \u001b[0;34m\"wb\"\u001b[0m\u001b[0;34m)\u001b[0m\u001b[0;34m)\u001b[0m\u001b[0;34m\u001b[0m\u001b[0m\n\u001b[0m",
      "\u001b[0;31mNameError\u001b[0m: name 'test_embedded_pairs' is not defined"
     ]
    }
   ],
   "source": [
    "a1 = bc.encode(within_traindev_df.argument1.tolist())\n",
    "a2 = bc.encode(within_traindev_df.argument2.tolist())\n",
    "traindev_embedded_pairs = zip(a1, a2)\n",
    "pickle.dump(traindev_embedded_pairs, open(\"BERT_pairs_train.pkl\", \"wb\"))"
   ]
  },
  {
   "cell_type": "code",
   "execution_count": 15,
   "metadata": {},
   "outputs": [
    {
     "name": "stderr",
     "output_type": "stream",
     "text": [
      "/srv/home/gwiedemann/miniconda3/envs/nnnlp/lib/python3.6/site-packages/bert_serving/client/__init__.py:286: UserWarning: some of your sentences have more tokens than \"max_seq_len=256\" set on the server, as consequence you may get less-accurate or truncated embeddings.\n",
      "here is what you can do:\n",
      "- disable the length-check by create a new \"BertClient(check_length=False)\" when you do not want to display this warning\n",
      "- or, start a new server with a larger \"max_seq_len\"\n",
      "  '- or, start a new server with a larger \"max_seq_len\"' % self.length_limit)\n"
     ]
    }
   ],
   "source": [
    "a1 = bc.encode(within_test_df.argument1.tolist())\n",
    "a2 = bc.encode(within_test_df.argument2.tolist())\n",
    "test_embedded_pairs = zip(a1, a2)\n",
    "pickle.dump(test_embedded_pairs, open(\"BERT_pairs_test.pkl\", \"wb\"))"
   ]
  },
  {
   "cell_type": "markdown",
   "metadata": {},
   "source": [
    "## Model"
   ]
  },
  {
   "cell_type": "code",
   "execution_count": null,
   "metadata": {},
   "outputs": [],
   "source": [
    "import keras.backend as K\n",
    "from keras.models import Sequential, Model, clone_model, load_model\n",
    "from keras.callbacks import Callback\n",
    "from keras.optimizers import *\n",
    "from keras.layers import *\n",
    "from keras import *\n",
    "from keras.utils import to_categorical, Sequence\n",
    "from keras.preprocessing.sequence import pad_sequences\n",
    "from keras.initializers import RandomUniform"
   ]
  },
  {
   "cell_type": "code",
   "execution_count": 29,
   "metadata": {},
   "outputs": [
    {
     "name": "stdout",
     "output_type": "stream",
     "text": [
      "env: CUDA_DEVICE_ORDER=PCI_BUS_ID\n",
      "env: CUDA_VISIBLE_DEVICES=0\n"
     ]
    }
   ],
   "source": [
    "%env CUDA_DEVICE_ORDER=PCI_BUS_ID\n",
    "%env CUDA_VISIBLE_DEVICES=0"
   ]
  },
  {
   "cell_type": "code",
   "execution_count": 32,
   "metadata": {},
   "outputs": [],
   "source": [
    "training_embs = pickle.load(open(\"BERT_pairs_train.pkl\",\"rb\"))"
   ]
  },
  {
   "cell_type": "code",
   "execution_count": 33,
   "metadata": {},
   "outputs": [],
   "source": [
    "t1, t2 = zip(*training_embs)"
   ]
  },
  {
   "cell_type": "code",
   "execution_count": 34,
   "metadata": {},
   "outputs": [],
   "source": [
    "args1 = np.array(t1)\n",
    "args2 = np.array(t2)"
   ]
  },
  {
   "cell_type": "code",
   "execution_count": 35,
   "metadata": {},
   "outputs": [
    {
     "data": {
      "text/plain": [
       "(63903, 1024)"
      ]
     },
     "execution_count": 35,
     "metadata": {},
     "output_type": "execute_result"
    }
   ],
   "source": [
    "args1.shape"
   ]
  },
  {
   "cell_type": "code",
   "execution_count": 77,
   "metadata": {},
   "outputs": [],
   "source": [
    "output = [1 if t else 0 for t in within_traindev_df.is_same_side]"
   ]
  },
  {
   "cell_type": "code",
   "execution_count": 37,
   "metadata": {},
   "outputs": [
    {
     "data": {
      "text/plain": [
       "id\n",
       "85249    False\n",
       "2607     False\n",
       "14632     True\n",
       "Name: is_same_side, dtype: bool"
      ]
     },
     "execution_count": 37,
     "metadata": {},
     "output_type": "execute_result"
    }
   ],
   "source": [
    "within_traindev_df.is_same_side[:3]"
   ]
  },
  {
   "cell_type": "code",
   "execution_count": 38,
   "metadata": {},
   "outputs": [
    {
     "data": {
      "text/plain": [
       "array([[1., 0.],\n",
       "       [1., 0.],\n",
       "       [0., 1.],\n",
       "       ...,\n",
       "       [1., 0.],\n",
       "       [1., 0.],\n",
       "       [1., 0.]], dtype=float32)"
      ]
     },
     "execution_count": 38,
     "metadata": {},
     "output_type": "execute_result"
    }
   ],
   "source": [
    "output"
   ]
  },
  {
   "cell_type": "code",
   "execution_count": 101,
   "metadata": {},
   "outputs": [],
   "source": [
    "embedding_dims = t1[0].shape\n",
    "\n",
    "layer_input_1 = Input(shape = embedding_dims, name = 'input_1')\n",
    "layer_input_2 = Input(shape = embedding_dims, name = 'input_2')\n",
    "\n",
    "encoder_1 = Dense(embedding_dims[0], activation='relu')(layer_input_1)\n",
    "encoder_2 = Dense(embedding_dims[0], activation='relu')(layer_input_2)\n",
    "\n",
    "# combined_diff = subtract([encoder_1, encoder_2])\n",
    "# combined_mult = multiply([encoder_1, encoder_2])\n",
    "combined_dot = dot([encoder_1, encoder_2], axes=-1, normalize=False)\n",
    "combined_all = concatenate([encoder_1, encoder_2, combined_dot])\n",
    "\n",
    "features_pred = Dense(300, activation='relu')(combined_all)\n",
    "# features_norm = BatchNormalization()(features_pred)\n",
    "# features_acti = LeakyReLU()(features_pred)\n",
    "# features_drop = Dropout(rate=0.5)(features_acti)\n",
    "layer_prediction = Dense(1, activation='sigmoid')(features_pred)\n",
    "\n",
    "model = Model([layer_input_1, layer_input_2], layer_prediction)\n",
    "model.compile(loss='binary_crossentropy', optimizer='nadam', metrics=['accuracy'])"
   ]
  },
  {
   "cell_type": "code",
   "execution_count": 102,
   "metadata": {},
   "outputs": [
    {
     "name": "stdout",
     "output_type": "stream",
     "text": [
      "Train on 57512 samples, validate on 6391 samples\n",
      "Epoch 1/2\n",
      "57512/57512 [==============================] - 29s 499us/step - loss: 0.3732 - acc: 0.7822 - val_loss: 0.2860 - val_acc: 0.8240\n",
      "Epoch 2/2\n",
      "57512/57512 [==============================] - 26s 452us/step - loss: 0.2871 - acc: 0.8269 - val_loss: 0.2748 - val_acc: 0.8284\n",
      "Train on 57512 samples, validate on 6391 samples\n",
      "Epoch 3/3\n",
      "57512/57512 [==============================] - 13s 231us/step - loss: 0.2640 - acc: 0.8405 - val_loss: 0.2676 - val_acc: 0.8352\n",
      "Train on 57512 samples, validate on 6391 samples\n",
      "Epoch 4/4\n",
      "57512/57512 [==============================] - 7s 118us/step - loss: 0.2468 - acc: 0.8519 - val_loss: 0.2645 - val_acc: 0.8376\n",
      "Train on 57512 samples, validate on 6391 samples\n",
      "Epoch 4/20\n",
      "57512/57512 [==============================] - 1s 14us/step - loss: 0.2333 - acc: 0.8644 - val_loss: 0.2670 - val_acc: 0.8363\n",
      "Epoch 5/20\n",
      "57512/57512 [==============================] - 1s 14us/step - loss: 0.2280 - acc: 0.8686 - val_loss: 0.2685 - val_acc: 0.8401\n",
      "Epoch 6/20\n",
      "57512/57512 [==============================] - 1s 16us/step - loss: 0.2248 - acc: 0.8716 - val_loss: 0.2717 - val_acc: 0.8393\n",
      "Epoch 7/20\n",
      "57512/57512 [==============================] - 1s 15us/step - loss: 0.2220 - acc: 0.8734 - val_loss: 0.2713 - val_acc: 0.8390\n",
      "Epoch 8/20\n",
      "57512/57512 [==============================] - 1s 14us/step - loss: 0.2190 - acc: 0.8764 - val_loss: 0.2734 - val_acc: 0.8406\n",
      "Epoch 9/20\n",
      "57512/57512 [==============================] - 1s 14us/step - loss: 0.2159 - acc: 0.8789 - val_loss: 0.2757 - val_acc: 0.8418\n",
      "Epoch 10/20\n",
      "57512/57512 [==============================] - 1s 14us/step - loss: 0.2127 - acc: 0.8818 - val_loss: 0.2773 - val_acc: 0.8418\n",
      "Epoch 11/20\n",
      "57512/57512 [==============================] - 1s 14us/step - loss: 0.2093 - acc: 0.8837 - val_loss: 0.2814 - val_acc: 0.8388\n",
      "Epoch 12/20\n",
      "57512/57512 [==============================] - 1s 13us/step - loss: 0.2056 - acc: 0.8867 - val_loss: 0.2855 - val_acc: 0.8379\n",
      "Epoch 13/20\n",
      "57512/57512 [==============================] - 1s 13us/step - loss: 0.2013 - acc: 0.8900 - val_loss: 0.2878 - val_acc: 0.8385\n",
      "Epoch 14/20\n",
      "57512/57512 [==============================] - 1s 13us/step - loss: 0.1967 - acc: 0.8948 - val_loss: 0.2934 - val_acc: 0.8354\n",
      "Epoch 15/20\n",
      "57512/57512 [==============================] - 1s 13us/step - loss: 0.1918 - acc: 0.8975 - val_loss: 0.2968 - val_acc: 0.8390\n",
      "Epoch 16/20\n",
      "57512/57512 [==============================] - 1s 13us/step - loss: 0.1863 - acc: 0.9018 - val_loss: 0.3004 - val_acc: 0.8402\n",
      "Epoch 17/20\n",
      "57512/57512 [==============================] - 1s 15us/step - loss: 0.1810 - acc: 0.9063 - val_loss: 0.3141 - val_acc: 0.8373\n",
      "Epoch 18/20\n",
      "57512/57512 [==============================] - 1s 15us/step - loss: 0.1749 - acc: 0.9102 - val_loss: 0.3228 - val_acc: 0.8385\n",
      "Epoch 19/20\n",
      "57512/57512 [==============================] - 1s 14us/step - loss: 0.1684 - acc: 0.9148 - val_loss: 0.3335 - val_acc: 0.8415\n",
      "Epoch 20/20\n",
      "57512/57512 [==============================] - 1s 14us/step - loss: 0.1624 - acc: 0.9196 - val_loss: 0.3355 - val_acc: 0.8388\n"
     ]
    },
    {
     "data": {
      "text/plain": [
       "<keras.callbacks.History at 0x7f8ea0f69128>"
      ]
     },
     "execution_count": 102,
     "metadata": {},
     "output_type": "execute_result"
    }
   ],
   "source": [
    "model.fit([args1, args2], output, batch_size=32, epochs=20, validation_split=0.1, verbose=True)"
   ]
  },
  {
   "cell_type": "code",
   "execution_count": 50,
   "metadata": {},
   "outputs": [
    {
     "data": {
      "text/plain": [
       "array([[1.0000000e+00, 1.3444875e-30],\n",
       "       [9.9147862e-01, 8.5214097e-03],\n",
       "       [1.5596529e-12, 1.0000000e+00],\n",
       "       ...,\n",
       "       [7.6898479e-01, 2.3101521e-01],\n",
       "       [1.0000000e+00, 3.0680863e-18],\n",
       "       [4.3383577e-01, 5.6616420e-01]], dtype=float32)"
      ]
     },
     "execution_count": 50,
     "metadata": {},
     "output_type": "execute_result"
    }
   ],
   "source": [
    "model.predict([args1, args2])"
   ]
  },
  {
   "cell_type": "code",
   "execution_count": null,
   "metadata": {},
   "outputs": [],
   "source": [
    "# dev set performances\n",
    "# --------------------\n",
    "\n",
    "# concatenate([encoder_1, encoder_2, combined_diff, combined_dot])\n",
    "# Epoch 17/20\n",
    "# 57512/57512 [==============================] - 12s 207us/step - loss: 0.1906 - acc: 0.8963 - val_loss: 0.3081 - val_acc: 0.8512\n",
    "\n",
    "# combined_all = concatenate([encoder_1, encoder_2])\n",
    "# Epoch 17/20\n",
    "# 57512/57512 [==============================] - 11s 191us/step - loss: 0.1767 - acc: 0.9052 - val_loss: 0.3394 - val_acc: 0.8514\n",
    "\n",
    "# combined_all = concatenate([encoder_1, encoder_2, combined_dot])\n",
    "# Epoch 17/20\n",
    "# 57512/57512 [==============================] - 12s 205us/step - loss: 0.1726 - acc: 0.9115 - val_loss: 0.3162 - val_acc: 0.8559\n",
    "\n",
    "# + dropout 0.1: hülft nicht viel... bzw. nichts..."
   ]
  },
  {
   "cell_type": "code",
   "execution_count": null,
   "metadata": {},
   "outputs": [],
   "source": [
    "# test set performance\n",
    "\n",
    "\n",
    "report_training_results(y_dev, y_pred)"
   ]
  }
 ],
 "metadata": {
  "kernelspec": {
   "display_name": "Python 3",
   "language": "python",
   "name": "python3"
  },
  "language_info": {
   "codemirror_mode": {
    "name": "ipython",
    "version": 3
   },
   "file_extension": ".py",
   "mimetype": "text/x-python",
   "name": "python",
   "nbconvert_exporter": "python",
   "pygments_lexer": "ipython3",
   "version": "3.6.5"
  }
 },
 "nbformat": 4,
 "nbformat_minor": 2
}
