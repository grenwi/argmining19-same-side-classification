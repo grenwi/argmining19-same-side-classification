{
 "cells": [
  {
   "cell_type": "code",
   "execution_count": 22,
   "metadata": {},
   "outputs": [
    {
     "name": "stdout",
     "output_type": "stream",
     "text": [
      "env: CUDA_DEVICE_ORDER=PCI_BUS_ID\n",
      "env: CUDA_VISIBLE_DEVICES=4\n"
     ]
    }
   ],
   "source": [
    "from simpletransformers.classification import ClassificationModel\n",
    "import pandas as pd\n",
    "import sklearn\n",
    "import logging\n",
    "\n",
    "logging.basicConfig(level=logging.INFO)\n",
    "transformers_logger = logging.getLogger(\"transformers\")\n",
    "transformers_logger.setLevel(logging.WARNING)\n",
    "\n",
    "%env CUDA_DEVICE_ORDER=PCI_BUS_ID\n",
    "%env CUDA_VISIBLE_DEVICES=4"
   ]
  },
  {
   "cell_type": "code",
   "execution_count": 23,
   "metadata": {},
   "outputs": [],
   "source": [
    "train_args = {\n",
    "    \"output_dir\": \"outputs_rnd/\",\n",
    "    \"cache_dir\": \"cache/\",\n",
    "    \"best_model_dir\": \"outputs_rnd/best_model/\",\n",
    "\n",
    "    \"fp16\": False,\n",
    "    \"fp16_opt_level\": \"O1\",\n",
    "    \"max_seq_length\": 512,\n",
    "    \"train_batch_size\": 4,\n",
    "    \"eval_batch_size\": 8,\n",
    "    \"gradient_accumulation_steps\": 1,\n",
    "    \"num_train_epochs\": 4,\n",
    "    \"weight_decay\": 0,\n",
    "    \"learning_rate\": 5e-6,\n",
    "    \"adam_epsilon\": 1e-9,\n",
    "    \"warmup_ratio\": 0.06,\n",
    "    \"warmup_steps\": 0,\n",
    "    \"max_grad_norm\": 1.0,\n",
    "    \"do_lower_case\": False,\n",
    "\n",
    "    \"logging_steps\": 50,\n",
    "    \"evaluate_during_training\": True,\n",
    "    \"evaluate_during_training_steps\": 0,\n",
    "    \"evaluate_during_training_verbose\": True,\n",
    "    \"use_cached_eval_features\": False,\n",
    "    \"save_eval_checkpoints\": False,\n",
    "    \"save_steps\": 0,\n",
    "    \"no_cache\": True,\n",
    "    \"save_model_every_epoch\": True,\n",
    "    \"tensorboard_dir\": None,\n",
    "\n",
    "    \"overwrite_output_dir\": True,\n",
    "    \"reprocess_input_data\": True,\n",
    "\n",
    "    \"n_gpu\": 1,\n",
    "    \"silent\": False,\n",
    "    \"use_multiprocessing\": True,\n",
    "\n",
    "    \"wandb_project\": None,\n",
    "    \"wandb_kwargs\": {},\n",
    "\n",
    "    \"use_early_stopping\": False,\n",
    "    \"early_stopping_patience\": 4,\n",
    "    \"early_stopping_delta\": 0,\n",
    "    \"early_stopping_metric\": \"f1\",\n",
    "    \"early_stopping_metric_minimize\": False,\n",
    "\n",
    "    \"manual_seed\": 9721,\n",
    "    \"encoding\": None,\n",
    "    \"config\": {},\n",
    "}"
   ]
  },
  {
   "cell_type": "code",
   "execution_count": 24,
   "metadata": {},
   "outputs": [],
   "source": [
    "import pickle\n",
    "with open(\"data/distinct_sets/within-v2.pkl\", \"rb\") as f:\n",
    "    distinct_train_df = pickle.load(f)\n",
    "    distinct_dev_df = pickle.load(f)\n",
    "    overlap_train_df = pickle.load(f)\n",
    "    overlap_dev_df = pickle.load(f)\n",
    "    rnd_train_df = pickle.load(f)\n",
    "    rnd_dev_df = pickle.load(f)"
   ]
  },
  {
   "cell_type": "code",
   "execution_count": 25,
   "metadata": {},
   "outputs": [],
   "source": [
    "def precision_macro(y_true, y_pred):\n",
    "    return sklearn.metrics.precision_score(y_true, y_pred, average='macro')\n",
    "def recall_macro(y_true, y_pred):\n",
    "    return sklearn.metrics.recall_score(y_true, y_pred, average='macro')\n",
    "def f1_macro(y_true, y_pred):\n",
    "    return sklearn.metrics.f1_score(y_true, y_pred, average='macro')"
   ]
  },
  {
   "cell_type": "code",
   "execution_count": 34,
   "metadata": {},
   "outputs": [
    {
     "data": {
      "text/html": [
       "<div>\n",
       "<style scoped>\n",
       "    .dataframe tbody tr th:only-of-type {\n",
       "        vertical-align: middle;\n",
       "    }\n",
       "\n",
       "    .dataframe tbody tr th {\n",
       "        vertical-align: top;\n",
       "    }\n",
       "\n",
       "    .dataframe thead th {\n",
       "        text-align: right;\n",
       "    }\n",
       "</style>\n",
       "<table border=\"1\" class=\"dataframe\">\n",
       "  <thead>\n",
       "    <tr style=\"text-align: right;\">\n",
       "      <th></th>\n",
       "      <th>text_a</th>\n",
       "      <th>text_b</th>\n",
       "      <th>labels</th>\n",
       "    </tr>\n",
       "    <tr>\n",
       "      <th>id</th>\n",
       "      <th></th>\n",
       "      <th></th>\n",
       "      <th></th>\n",
       "    </tr>\n",
       "  </thead>\n",
       "  <tbody>\n",
       "    <tr>\n",
       "      <th>12972</th>\n",
       "      <td>! round 1 is for acceptance only, no arguments...</td>\n",
       "      <td>i thank con for their reply.freedom not restri...</td>\n",
       "      <td>1</td>\n",
       "    </tr>\n",
       "    <tr>\n",
       "      <th>12973</th>\n",
       "      <td>! round 1 is for acceptance only, no arguments...</td>\n",
       "      <td>i thank sengejuri for their opening argument.f...</td>\n",
       "      <td>1</td>\n",
       "    </tr>\n",
       "  </tbody>\n",
       "</table>\n",
       "</div>"
      ],
      "text/plain": [
       "                                                  text_a  \\\n",
       "id                                                         \n",
       "12972  ! round 1 is for acceptance only, no arguments...   \n",
       "12973  ! round 1 is for acceptance only, no arguments...   \n",
       "\n",
       "                                                  text_b  labels  \n",
       "id                                                                \n",
       "12972  i thank con for their reply.freedom not restri...       1  \n",
       "12973  i thank sengejuri for their opening argument.f...       1  "
      ]
     },
     "execution_count": 34,
     "metadata": {},
     "output_type": "execute_result"
    }
   ],
   "source": [
    "# train\n",
    "train_df = distinct_train_df[['argument1', 'argument2', 'is_same_side']].copy()\n",
    "train_df[\"is_same_side\"] = train_df[\"is_same_side\"].astype(int)\n",
    "train_df = train_df.rename(columns={\"argument1\": \"text_a\", \"argument2\": \"text_b\", \"is_same_side\" : 'labels'})\n",
    "train_df.head(2)"
   ]
  },
  {
   "cell_type": "code",
   "execution_count": 35,
   "metadata": {},
   "outputs": [
    {
     "data": {
      "text/html": [
       "<div>\n",
       "<style scoped>\n",
       "    .dataframe tbody tr th:only-of-type {\n",
       "        vertical-align: middle;\n",
       "    }\n",
       "\n",
       "    .dataframe tbody tr th {\n",
       "        vertical-align: top;\n",
       "    }\n",
       "\n",
       "    .dataframe thead th {\n",
       "        text-align: right;\n",
       "    }\n",
       "</style>\n",
       "<table border=\"1\" class=\"dataframe\">\n",
       "  <thead>\n",
       "    <tr style=\"text-align: right;\">\n",
       "      <th></th>\n",
       "      <th>text_a</th>\n",
       "      <th>text_b</th>\n",
       "      <th>labels</th>\n",
       "    </tr>\n",
       "    <tr>\n",
       "      <th>id</th>\n",
       "      <th></th>\n",
       "      <th></th>\n",
       "      <th></th>\n",
       "    </tr>\n",
       "  </thead>\n",
       "  <tbody>\n",
       "    <tr>\n",
       "      <th>3921</th>\n",
       "      <td>!!! round 1 is for acceptance only, no argumen...</td>\n",
       "      <td>i realized my opponent has made his case entir...</td>\n",
       "      <td>0</td>\n",
       "    </tr>\n",
       "    <tr>\n",
       "      <th>3897</th>\n",
       "      <td>!!! round 1 is for acceptance only, no argumen...</td>\n",
       "      <td>premise 1) freedom is our defaultpro never arg...</td>\n",
       "      <td>1</td>\n",
       "    </tr>\n",
       "  </tbody>\n",
       "</table>\n",
       "</div>"
      ],
      "text/plain": [
       "                                                 text_a  \\\n",
       "id                                                        \n",
       "3921  !!! round 1 is for acceptance only, no argumen...   \n",
       "3897  !!! round 1 is for acceptance only, no argumen...   \n",
       "\n",
       "                                                 text_b  labels  \n",
       "id                                                               \n",
       "3921  i realized my opponent has made his case entir...       0  \n",
       "3897  premise 1) freedom is our defaultpro never arg...       1  "
      ]
     },
     "execution_count": 35,
     "metadata": {},
     "output_type": "execute_result"
    }
   ],
   "source": [
    "# dev\n",
    "dev_df = distinct_dev_df[['argument1', 'argument2', 'is_same_side']].copy()\n",
    "dev_df[\"is_same_side\"] = dev_df[\"is_same_side\"].astype(int)\n",
    "dev_df = dev_df.rename(columns={\"argument1\": \"text_a\", \"argument2\": \"text_b\", \"is_same_side\" : 'labels'})\n",
    "dev_df.head(2)"
   ]
  },
  {
   "cell_type": "code",
   "execution_count": 36,
   "metadata": {},
   "outputs": [],
   "source": [
    "# Create a ClassificationModel\n",
    "model = ClassificationModel('bert', 'bert-base-uncased', num_labels=2, use_cuda=True, cuda_device=0, args=train_args)"
   ]
  },
  {
   "cell_type": "code",
   "execution_count": null,
   "metadata": {
    "scrolled": false
   },
   "outputs": [
    {
     "name": "stderr",
     "output_type": "stream",
     "text": [
      "INFO:simpletransformers.classification.classification_model: Converting to features started. Cache is not used.\n"
     ]
    },
    {
     "data": {
      "application/vnd.jupyter.widget-view+json": {
       "model_id": "bf9078aba5454972ba2126f8415008f6",
       "version_major": 2,
       "version_minor": 0
      },
      "text/plain": [
       "HBox(children=(FloatProgress(value=0.0, max=57980.0), HTML(value='')))"
      ]
     },
     "metadata": {},
     "output_type": "display_data"
    },
    {
     "name": "stdout",
     "output_type": "stream",
     "text": [
      "\n"
     ]
    },
    {
     "data": {
      "application/vnd.jupyter.widget-view+json": {
       "model_id": "94a239a3338142ec9126eb3b7a3aeb1b",
       "version_major": 2,
       "version_minor": 0
      },
      "text/plain": [
       "HBox(children=(FloatProgress(value=0.0, description='Epoch', max=4.0, style=ProgressStyle(description_width='i…"
      ]
     },
     "metadata": {},
     "output_type": "display_data"
    },
    {
     "data": {
      "application/vnd.jupyter.widget-view+json": {
       "model_id": "b14acff9bed644b8bcf2091ec1eb5cc4",
       "version_major": 2,
       "version_minor": 0
      },
      "text/plain": [
       "HBox(children=(FloatProgress(value=0.0, description='Current iteration', max=14495.0, style=ProgressStyle(desc…"
      ]
     },
     "metadata": {},
     "output_type": "display_data"
    },
    {
     "name": "stdout",
     "output_type": "stream",
     "text": [
      "Running loss: 1.388087\n"
     ]
    },
    {
     "name": "stderr",
     "output_type": "stream",
     "text": [
      "INFO:simpletransformers.classification.classification_model: Converting to features started. Cache is not used.\n",
      "INFO:simpletransformers.classification.classification_model:{'mcc': 0.3809563874745878, 'tp': 990, 'tn': 2112, 'fp': 515, 'fn': 761, 'precision': 0.6964636962532365, 'recall': 0.6846750467458151, 'f1': 0.6880540540540541, 'eval_loss': 0.8110922449778248}\n"
     ]
    },
    {
     "data": {
      "application/vnd.jupyter.widget-view+json": {
       "model_id": "0e9f6390183d41beb621848872425164",
       "version_major": 2,
       "version_minor": 0
      },
      "text/plain": [
       "HBox(children=(FloatProgress(value=0.0, description='Current iteration', max=14495.0, style=ProgressStyle(desc…"
      ]
     },
     "metadata": {},
     "output_type": "display_data"
    },
    {
     "name": "stdout",
     "output_type": "stream",
     "text": [
      "Running loss: 0.006702\n"
     ]
    },
    {
     "name": "stderr",
     "output_type": "stream",
     "text": [
      "INFO:simpletransformers.classification.classification_model: Converting to features started. Cache is not used.\n",
      "INFO:simpletransformers.classification.classification_model:{'mcc': 0.4205293340323079, 'tp': 1077, 'tn': 2098, 'fp': 529, 'fn': 674, 'precision': 0.7137322342801795, 'recall': 0.7068533571658546, 'f1': 0.7094126423636854, 'eval_loss': 1.0400738383432593}\n"
     ]
    },
    {
     "data": {
      "application/vnd.jupyter.widget-view+json": {
       "model_id": "57d0d3a50b344b8dad83fec68cb51cc7",
       "version_major": 2,
       "version_minor": 0
      },
      "text/plain": [
       "HBox(children=(FloatProgress(value=0.0, description='Current iteration', max=14495.0, style=ProgressStyle(desc…"
      ]
     },
     "metadata": {},
     "output_type": "display_data"
    },
    {
     "name": "stdout",
     "output_type": "stream",
     "text": [
      "Running loss: 1.405666"
     ]
    }
   ],
   "source": [
    "# Train the model\n",
    "model.train_model(train_df, eval_df=dev_df, precision=precision_macro, recall=recall_macro, f1=f1_macro)"
   ]
  },
  {
   "cell_type": "code",
   "execution_count": null,
   "metadata": {},
   "outputs": [],
   "source": [
    "model = ClassificationModel('bert', train_args['best_model_dir'], num_labels=2, use_cuda=True, cuda_device=0, args=train_args)"
   ]
  },
  {
   "cell_type": "code",
   "execution_count": null,
   "metadata": {
    "scrolled": true
   },
   "outputs": [],
   "source": [
    "# Evaluate the model\n",
    "result, model_outputs, wrong_predictions = model.eval_model(\n",
    "    dev_df, acc=sklearn.metrics.accuracy_score, precision=precision_macro, recall=recall_macro, f1=f1_macro\n",
    ")"
   ]
  },
  {
   "cell_type": "code",
   "execution_count": null,
   "metadata": {},
   "outputs": [],
   "source": [
    "predict_df = [[row['text_a'], row['text_b']] for index, row in dev_df[1:10].iterrows()]"
   ]
  },
  {
   "cell_type": "code",
   "execution_count": null,
   "metadata": {},
   "outputs": [],
   "source": [
    "predictions, raw_outputs = model.predict(predict_df)\n",
    "print(predictions)\n",
    "print(raw_outputs)"
   ]
  },
  {
   "cell_type": "raw",
   "metadata": {},
   "source": [
    "DISTINCT\n",
    "INFO:simpletransformers.classification.classification_model:{'mcc': 0.4205293340323079, 'tp': 1077, 'tn': 2098, 'fp': 529, 'fn': 674, 'precision': 0.7137322342801795, 'recall': 0.7068533571658546, 'f1': 0.7094126423636854, 'eval_loss': 1.0400738383432593}\n",
    "\n",
    "OVERLAP\n",
    "INFO:simpletransformers.classification.classification_model:{'mcc': 0.5978340471008643, 'tp': 1460, 'tn': 2055, 'fp': 391, 'fn': 475, 'acc': 0.802328235562657, 'precision': 0.8005078976645462, 'recall': 0.7973345714460777, 'f1': 0.7986135882240035, 'eval_loss': 1.2655204529336561}\n",
    "\n",
    "RANDOM\n",
    "INFO:simpletransformers.classification.classification_model:{'mcc': 0.8471998768615144, 'tp': 2159, 'tn': 1888, 'fp': 141, 'fn': 193, 'acc': 0.9237616982424104, 'precision': 0.9229758895179994, 'recall': 0.9242249080509484, 'f1': 0.9234688583305612, 'eval_loss': 0.5109805451162426}"
   ]
  },
  {
   "cell_type": "code",
   "execution_count": null,
   "metadata": {},
   "outputs": [],
   "source": []
  }
 ],
 "metadata": {
  "kernelspec": {
   "display_name": "Python 3",
   "language": "python",
   "name": "python3"
  },
  "language_info": {
   "codemirror_mode": {
    "name": "ipython",
    "version": 3
   },
   "file_extension": ".py",
   "mimetype": "text/x-python",
   "name": "python",
   "nbconvert_exporter": "python",
   "pygments_lexer": "ipython3",
   "version": "3.7.5"
  }
 },
 "nbformat": 4,
 "nbformat_minor": 2
}
