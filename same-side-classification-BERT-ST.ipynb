{
 "cells": [
  {
   "cell_type": "code",
   "execution_count": 49,
   "metadata": {},
   "outputs": [
    {
     "name": "stderr",
     "output_type": "stream",
     "text": [
      "\u001b[34m\u001b[1mwandb\u001b[0m: \u001b[33mWARNING\u001b[0m W&B installed but not logged in.  Run `wandb login` or set the WANDB_API_KEY env variable.\n"
     ]
    }
   ],
   "source": [
    "from simpletransformers.classification import ClassificationModel\n",
    "import pandas as pd\n",
    "import sklearn\n",
    "import logging\n",
    "\n",
    "logging.basicConfig(level=logging.INFO)\n",
    "transformers_logger = logging.getLogger(\"transformers\")\n",
    "transformers_logger.setLevel(logging.WARNING)\n",
    "\n",
    "#%env CUDA_DEVICE_ORDER=PCI_BUS_ID\n",
    "#%env CUDA_VISIBLE_DEVICES=2"
   ]
  },
  {
   "cell_type": "code",
   "execution_count": 69,
   "metadata": {},
   "outputs": [],
   "source": [
    "def get_train_args(model_name):\n",
    "    train_args = {\n",
    "        \"output_dir\": \"outputs_exp2/\" + model_name,\n",
    "        \"cache_dir\": \"cache/\",\n",
    "        \"best_model_dir\": \"outputs_exp2/\" + model_name + \"/best_model/\",\n",
    "\n",
    "        \"fp16\": False,\n",
    "        \"fp16_opt_level\": \"O1\",\n",
    "        \"max_seq_length\": 256,\n",
    "        \"train_batch_size\": 8,\n",
    "        \"eval_batch_size\": 8,\n",
    "        \"gradient_accumulation_steps\": 1,\n",
    "        \"num_train_epochs\": 5,\n",
    "        \"weight_decay\": 0,\n",
    "        \"learning_rate\": 5e-6,\n",
    "        \"adam_epsilon\": 1e-9,\n",
    "        \"warmup_ratio\": 0.06,\n",
    "        \"warmup_steps\": 0,\n",
    "        \"max_grad_norm\": 1.0,\n",
    "        \"do_lower_case\": False,\n",
    "\n",
    "        \"logging_steps\": 50,\n",
    "        \"evaluate_during_training\": True,\n",
    "        \"evaluate_during_training_steps\": 0,\n",
    "        \"evaluate_during_training_verbose\": True,\n",
    "        \"use_cached_eval_features\": False,\n",
    "        \"save_eval_checkpoints\": False,\n",
    "        \"save_steps\": 0,\n",
    "        \"no_cache\": True,\n",
    "        \"save_model_every_epoch\": True,\n",
    "        \"tensorboard_dir\": None,\n",
    "\n",
    "        \"overwrite_output_dir\": True,\n",
    "        \"reprocess_input_data\": True,\n",
    "\n",
    "        \"n_gpu\": 1,\n",
    "        \"silent\": False,\n",
    "        \"use_multiprocessing\": True,\n",
    "\n",
    "        \"wandb_project\": None,\n",
    "        \"wandb_kwargs\": {},\n",
    "\n",
    "        \"use_early_stopping\": False,\n",
    "        \"early_stopping_patience\": 4,\n",
    "        \"early_stopping_delta\": 0,\n",
    "        \"early_stopping_metric\": \"f1\",\n",
    "        \"early_stopping_metric_minimize\": False,\n",
    "\n",
    "        \"manual_seed\": 9721,\n",
    "        \"encoding\": None,\n",
    "        \"config\": {},\n",
    "    }\n",
    "    return train_args"
   ]
  },
  {
   "cell_type": "code",
   "execution_count": 2,
   "metadata": {},
   "outputs": [],
   "source": [
    "import pickle\n",
    "with open(\"data/distinct_sets/within-v2.pkl\", \"rb\") as f:\n",
    "    distinct_train_df = pickle.load(f)\n",
    "    distinct_test_df = pickle.load(f)\n",
    "    overlap_train_df = pickle.load(f)\n",
    "    overlap_test_df = pickle.load(f)\n",
    "    rnd_train_df = pickle.load(f)\n",
    "    rnd_test_df = pickle.load(f)\n",
    "    \n",
    "with open(\"acl2020_data_split.pkl\", \"rb\") as f:\n",
    "    cross_train = pickle.load(f)\n",
    "    cross_dev = pickle.load(f)\n",
    "    cross_test = pickle.load(f)   \n",
    "    within_train = pickle.load(f)\n",
    "    within_dev = pickle.load(f)\n",
    "    within_test = pickle.load(f)"
   ]
  },
  {
   "cell_type": "code",
   "execution_count": 149,
   "metadata": {},
   "outputs": [
    {
     "name": "stdout",
     "output_type": "stream",
     "text": [
      "57512 6391\n",
      "36746 4094\n",
      "20766 2297\n",
      "9100 3248\n",
      "4359 1583\n",
      "\n",
      "61048 18724\n",
      "9328 4297\n",
      "\n",
      "57977 4381\n",
      "57977 4381\n",
      "57980 4378\n",
      "\n",
      "13453 3649\n",
      "13574 8760\n",
      "10080 3494\n",
      "overlap 0.9797852179406191\n"
     ]
    }
   ],
   "source": [
    "# dataset statistics\n",
    "# exp 1\n",
    "wd = pd.concat([within_train, within_dev])\n",
    "print(len(wd), len(within_test))\n",
    "print(len(wd[wd.tag == \"abortion\"]), len(within_test[within_test.tag == \"abortion\"]))\n",
    "print(len(wd[wd.tag == \"gay marriage\"]), len(within_test[within_test.tag == \"gay marriage\"]))\n",
    "print(len(set(wd[wd.tag == \"abortion\"].argument1.tolist() + wd[wd.tag == \"abortion\"].argument2.tolist())), len(set(within_test[within_test.tag == \"abortion\"].argument1.tolist() + within_test[within_test.tag == \"abortion\"].argument2.tolist())))\n",
    "print(len(set(wd[wd.tag == \"gay marriage\"].argument1.tolist() + wd[wd.tag == \"gay marriage\"].argument2.tolist())), len(set(within_test[within_test.tag == \"gay marriage\"].argument1.tolist() + within_test[within_test.tag == \"gay marriage\"].argument2.tolist())))\n",
    "print()\n",
    "print(len(cross_train) + len(cross_dev), len(cross_test))\n",
    "print(len(set(cross_train.argument1.tolist() + cross_train.argument2.tolist())), len(set(cross_test.argument1.tolist() + cross_test.argument2.tolist())))\n",
    "print()\n",
    "\n",
    "# exp 2\n",
    "print(len(rnd_train_df), len(rnd_test_df))\n",
    "print(len(overlap_train_df), len(overlap_test_df))\n",
    "print(len(distinct_train_df), len(distinct_test_df))\n",
    "print()\n",
    "print(len(set(rnd_train_df.argument1.tolist() + rnd_train_df.argument2.tolist())), len(set(rnd_test_df.argument1.tolist() + rnd_test_df.argument2.tolist())))\n",
    "print(len(set(overlap_train_df.argument1.tolist() + overlap_train_df.argument2.tolist())), len(set(overlap_test_df.argument1.tolist() + overlap_test_df.argument2.tolist())))\n",
    "print(len(set(distinct_train_df.argument1.tolist() + distinct_train_df.argument2.tolist())), len(set(distinct_test_df.argument1.tolist() + distinct_test_df.argument2.tolist())))\n",
    "\n",
    "s1_test = set(within_test[within_test.tag == \"gay marriage\"].argument1.tolist() + within_test[within_test.tag == \"gay marriage\"].argument2.tolist())\n",
    "s1_overlap = set(wd[wd.tag == \"gay marriage\"].argument1.tolist() + wd[wd.tag == \"gay marriage\"].argument2.tolist()).intersection(s1_test)\n",
    "print(\"overlap\", len(s1_overlap) / len(s1_test))"
   ]
  },
  {
   "cell_type": "code",
   "execution_count": 70,
   "metadata": {},
   "outputs": [],
   "source": [
    "def precision_macro(y_true, y_pred):\n",
    "    return sklearn.metrics.precision_score(y_true, y_pred, average='macro')\n",
    "def recall_macro(y_true, y_pred):\n",
    "    return sklearn.metrics.recall_score(y_true, y_pred, average='macro')\n",
    "def f1_macro(y_true, y_pred):\n",
    "    return sklearn.metrics.f1_score(y_true, y_pred, average='macro')"
   ]
  },
  {
   "cell_type": "code",
   "execution_count": 71,
   "metadata": {},
   "outputs": [],
   "source": [
    "def reformat_df(data_df):\n",
    "    df = data_df[['argument1', 'argument2', 'is_same_side']].copy()\n",
    "    df[\"is_same_side\"] = df[\"is_same_side\"].astype(int)\n",
    "    df = df.rename(columns={\"argument1\": \"text_a\", \"argument2\": \"text_b\", \"is_same_side\" : 'labels'})\n",
    "    return df"
   ]
  },
  {
   "cell_type": "code",
   "execution_count": 72,
   "metadata": {},
   "outputs": [],
   "source": [
    "train_df = reformat_df(within_train)\n",
    "dev_df = reformat_df(within_dev)\n",
    "test_df = reformat_df(within_test)"
   ]
  },
  {
   "cell_type": "code",
   "execution_count": null,
   "metadata": {},
   "outputs": [],
   "source": [
    "models_to_test = [\n",
    "    #('bert', 'bert-base-cased'),\n",
    "    #('roberta', 'roberta-base'),\n",
    "    #('xlnet', 'xlnet-base-case'),\n",
    "    ('distilbert', 'distilbert-base-cased'),\n",
    "    ('albert', 'albert-base-v2'),\n",
    "    ('longformer', 'allenai/longformer-base-4096')\n",
    "]"
   ]
  },
  {
   "cell_type": "code",
   "execution_count": null,
   "metadata": {
    "scrolled": false
   },
   "outputs": [],
   "source": [
    "for model_to_test in models_to_test:\n",
    "    \n",
    "    print(model_to_test)\n",
    "    \n",
    "    # get training args\n",
    "    train_args = get_train_args(model_to_test[0])\n",
    "    \n",
    "    # Create a ClassificationModel\n",
    "    model = ClassificationModel(model_to_test[0], model_to_test[1], num_labels=2, use_cuda=True, cuda_device=0, args=train_args)\n",
    "    \n",
    "    # Train the model\n",
    "    model.train_model(train_df, eval_df=dev_df, precision=precision_macro, recall=recall_macro, f1=f1_macro)\n",
    "    \n",
    "    # Eval best model\n",
    "    model = ClassificationModel(model_to_test[0], train_args['best_model_dir'], num_labels=2, use_cuda=True, cuda_device=0, args=train_args)\n",
    "    result, model_outputs, wrong_predictions = model.eval_model(\n",
    "        test_df, acc=sklearn.metrics.accuracy_score, precision=precision_macro, recall=recall_macro, f1=f1_macro\n",
    "    )\n",
    "    print(\"***************************+\")\n",
    "    print(result)"
   ]
  },
  {
   "cell_type": "code",
   "execution_count": null,
   "metadata": {},
   "outputs": [],
   "source": [
    "# predict_df = [[row['text_a'], row['text_b']] for index, row in test_df[1:10].iterrows()]\n",
    "# predictions, raw_outputs = model.predict(predict_df)\n",
    "# print(predictions)\n",
    "# print(raw_outputs)"
   ]
  },
  {
   "cell_type": "markdown",
   "metadata": {},
   "source": [
    "## Evaluation"
   ]
  },
  {
   "cell_type": "code",
   "execution_count": 7,
   "metadata": {},
   "outputs": [
    {
     "name": "stdout",
     "output_type": "stream",
     "text": [
      "***************************\n",
      "('bert', 'bert-base-cased')\n"
     ]
    },
    {
     "name": "stderr",
     "output_type": "stream",
     "text": [
      "INFO:simpletransformers.classification.classification_model: Converting to features started. Cache is not used.\n"
     ]
    },
    {
     "data": {
      "application/vnd.jupyter.widget-view+json": {
       "model_id": "f03ff137a3864b0197dd30b80b8f59eb",
       "version_major": 2,
       "version_minor": 0
      },
      "text/plain": [
       "HBox(children=(FloatProgress(value=0.0, max=6391.0), HTML(value='')))"
      ]
     },
     "metadata": {},
     "output_type": "display_data"
    },
    {
     "name": "stdout",
     "output_type": "stream",
     "text": [
      "\n"
     ]
    },
    {
     "data": {
      "application/vnd.jupyter.widget-view+json": {
       "model_id": "7b946f3559514fa9a959761269789769",
       "version_major": 2,
       "version_minor": 0
      },
      "text/plain": [
       "HBox(children=(FloatProgress(value=0.0, description='Running Evaluation', max=799.0, style=ProgressStyle(descr…"
      ]
     },
     "metadata": {},
     "output_type": "display_data"
    },
    {
     "name": "stderr",
     "output_type": "stream",
     "text": [
      "INFO:simpletransformers.classification.classification_model:{'mcc': 0.7673335255474553, 'tp': 2991, 'tn': 2658, 'fp': 340, 'fn': 402, 'acc': 0.8838992332968236, 'precision': 0.8832780004826908, 'recall': 0.8840559193898201, 'f1': 0.8835831754471795, 'eval_loss': 0.4852882198835444}\n"
     ]
    },
    {
     "name": "stdout",
     "output_type": "stream",
     "text": [
      "\n",
      "{'mcc': 0.7673335255474553, 'tp': 2991, 'tn': 2658, 'fp': 340, 'fn': 402, 'acc': 0.8838992332968236, 'precision': 0.8832780004826908, 'recall': 0.8840559193898201, 'f1': 0.8835831754471795, 'eval_loss': 0.4852882198835444}\n",
      "***************************\n",
      "('roberta', 'roberta-base')\n"
     ]
    },
    {
     "name": "stderr",
     "output_type": "stream",
     "text": [
      "INFO:simpletransformers.classification.classification_model: Converting to features started. Cache is not used.\n"
     ]
    },
    {
     "data": {
      "application/vnd.jupyter.widget-view+json": {
       "model_id": "c3aee71ac9c24fffa7a47ad50254e91b",
       "version_major": 2,
       "version_minor": 0
      },
      "text/plain": [
       "HBox(children=(FloatProgress(value=0.0, max=6391.0), HTML(value='')))"
      ]
     },
     "metadata": {},
     "output_type": "display_data"
    },
    {
     "name": "stdout",
     "output_type": "stream",
     "text": [
      "\n"
     ]
    },
    {
     "data": {
      "application/vnd.jupyter.widget-view+json": {
       "model_id": "805cc0f026b548c4b5284ad245af6f04",
       "version_major": 2,
       "version_minor": 0
      },
      "text/plain": [
       "HBox(children=(FloatProgress(value=0.0, description='Running Evaluation', max=799.0, style=ProgressStyle(descr…"
      ]
     },
     "metadata": {},
     "output_type": "display_data"
    },
    {
     "name": "stderr",
     "output_type": "stream",
     "text": [
      "INFO:simpletransformers.classification.classification_model:{'mcc': 0.7295700774033835, 'tp': 2826, 'tn': 2692, 'fp': 306, 'fn': 567, 'acc': 0.8634016585823815, 'precision': 0.8641595510928182, 'recall': 0.8654116006603871, 'f1': 0.8633415815665764, 'eval_loss': 0.37576449096280035}\n"
     ]
    },
    {
     "name": "stdout",
     "output_type": "stream",
     "text": [
      "\n",
      "{'mcc': 0.7295700774033835, 'tp': 2826, 'tn': 2692, 'fp': 306, 'fn': 567, 'acc': 0.8634016585823815, 'precision': 0.8641595510928182, 'recall': 0.8654116006603871, 'f1': 0.8633415815665764, 'eval_loss': 0.37576449096280035}\n",
      "***************************\n",
      "('distilbert', 'distilbert-base-cased')\n"
     ]
    },
    {
     "name": "stderr",
     "output_type": "stream",
     "text": [
      "INFO:simpletransformers.classification.classification_model: Converting to features started. Cache is not used.\n"
     ]
    },
    {
     "data": {
      "application/vnd.jupyter.widget-view+json": {
       "model_id": "a7dd2b55ddb44c598a05a6d78261d82e",
       "version_major": 2,
       "version_minor": 0
      },
      "text/plain": [
       "HBox(children=(FloatProgress(value=0.0, max=6391.0), HTML(value='')))"
      ]
     },
     "metadata": {},
     "output_type": "display_data"
    },
    {
     "name": "stdout",
     "output_type": "stream",
     "text": [
      "\n"
     ]
    },
    {
     "data": {
      "application/vnd.jupyter.widget-view+json": {
       "model_id": "70c77ffc26dc4553955bec7a48f39d85",
       "version_major": 2,
       "version_minor": 0
      },
      "text/plain": [
       "HBox(children=(FloatProgress(value=0.0, description='Running Evaluation', max=799.0, style=ProgressStyle(descr…"
      ]
     },
     "metadata": {},
     "output_type": "display_data"
    },
    {
     "name": "stdout",
     "output_type": "stream",
     "text": [
      "\n"
     ]
    },
    {
     "name": "stderr",
     "output_type": "stream",
     "text": [
      "INFO:simpletransformers.classification.classification_model:{'mcc': 0.6765254079252396, 'tp': 2332, 'tn': 2909, 'fp': 89, 'fn': 1061, 'acc': 0.8200594586136755, 'precision': 0.8479919616038087, 'recall': 0.8288054596570619, 'f1': 0.8185806993452204, 'eval_loss': 0.31102553187997417}\n"
     ]
    },
    {
     "name": "stdout",
     "output_type": "stream",
     "text": [
      "{'mcc': 0.6765254079252396, 'tp': 2332, 'tn': 2909, 'fp': 89, 'fn': 1061, 'acc': 0.8200594586136755, 'precision': 0.8479919616038087, 'recall': 0.8288054596570619, 'f1': 0.8185806993452204, 'eval_loss': 0.31102553187997417}\n",
      "***************************\n",
      "('albert', 'albert-base-v2')\n"
     ]
    },
    {
     "name": "stderr",
     "output_type": "stream",
     "text": [
      "INFO:simpletransformers.classification.classification_model: Converting to features started. Cache is not used.\n"
     ]
    },
    {
     "data": {
      "application/vnd.jupyter.widget-view+json": {
       "model_id": "4434232cf74f4b26b79d800112b28b8a",
       "version_major": 2,
       "version_minor": 0
      },
      "text/plain": [
       "HBox(children=(FloatProgress(value=0.0, max=6391.0), HTML(value='')))"
      ]
     },
     "metadata": {},
     "output_type": "display_data"
    },
    {
     "name": "stdout",
     "output_type": "stream",
     "text": [
      "\n"
     ]
    },
    {
     "data": {
      "application/vnd.jupyter.widget-view+json": {
       "model_id": "3be880a129e44170af39c246822ae51b",
       "version_major": 2,
       "version_minor": 0
      },
      "text/plain": [
       "HBox(children=(FloatProgress(value=0.0, description='Running Evaluation', max=799.0, style=ProgressStyle(descr…"
      ]
     },
     "metadata": {},
     "output_type": "display_data"
    },
    {
     "name": "stdout",
     "output_type": "stream",
     "text": [
      "\n"
     ]
    },
    {
     "name": "stderr",
     "output_type": "stream",
     "text": [
      "INFO:simpletransformers.classification.classification_model:{'mcc': 0.7613398728160554, 'tp': 2954, 'tn': 2674, 'fp': 324, 'fn': 439, 'acc': 0.8806133625410734, 'precision': 0.8800688603970792, 'recall': 0.8812719630161143, 'f1': 0.8803837642989102, 'eval_loss': 0.5124524853964705}\n"
     ]
    },
    {
     "name": "stdout",
     "output_type": "stream",
     "text": [
      "{'mcc': 0.7613398728160554, 'tp': 2954, 'tn': 2674, 'fp': 324, 'fn': 439, 'acc': 0.8806133625410734, 'precision': 0.8800688603970792, 'recall': 0.8812719630161143, 'f1': 0.8803837642989102, 'eval_loss': 0.5124524853964705}\n"
     ]
    }
   ],
   "source": [
    "models_to_test = [\n",
    "    ('bert', 'bert-base-cased'),\n",
    "    ('roberta', 'roberta-base'),\n",
    "    #('xlnet', 'xlnet-base-case'),\n",
    "    ('distilbert', 'distilbert-base-cased'),\n",
    "    ('albert', 'albert-base-v2'),\n",
    "    #('longformer', 'allenai/longformer-base-4096')\n",
    "]\n",
    "for model_to_test in models_to_test:\n",
    "    train_args = get_train_args(model_to_test[0])\n",
    "    print(\"***************************\")\n",
    "    print(model_to_test)\n",
    "    model = ClassificationModel(model_to_test[0], train_args['best_model_dir'], num_labels=2, use_cuda=True, cuda_device=0, args=train_args)\n",
    "    result, model_outputs, wrong_predictions = model.eval_model(\n",
    "        test_df, acc=sklearn.metrics.accuracy_score, precision=precision_macro, recall=recall_macro, f1=f1_macro\n",
    "    )\n",
    "    print(result)"
   ]
  },
  {
   "cell_type": "raw",
   "metadata": {},
   "source": [
    "# Experiment 1: model selection on standard S3C task\n",
    "\n",
    "bert-base-uncased\n",
    "INFO:simpletransformers.classification.classification_model:{'mcc': 0.7673335255474553, 'tp': 2991, 'tn': 2658, 'fp': 340, 'fn': 402, 'acc': 0.8838992332968236, 'precision': 0.8832780004826908, 'recall': 0.8840559193898201, 'f1': 0.8835831754471795, 'eval_loss': 0.4852882198835444}\n",
    "\n",
    "\n",
    "('roberta', 'roberta-base')\n",
    "INFO:simpletransformers.classification.classification_model:{'mcc': 0.7295700774033835, 'tp': 2826, 'tn': 2692, 'fp': 306, 'fn': 567, 'acc': 0.8634016585823815, 'precision': 0.8641595510928182, 'recall': 0.8654116006603871, 'f1': 0.8633415815665764, 'eval_loss': 0.37576449096280035}\n",
    "\n",
    "\n",
    "('distilbert', 'distilbert-base-cased')\n",
    "INFO:simpletransformers.classification.classification_model:{'mcc': 0.6765254079252396, 'tp': 2332, 'tn': 2909, 'fp': 89, 'fn': 1061, 'acc': 0.8200594586136755, 'precision': 0.8479919616038087, 'recall': 0.8288054596570619, 'f1': 0.8185806993452204, 'eval_loss': 0.31102553187997417}\n",
    "\n",
    "\n",
    "('albert', 'albert-base-v2')\n",
    "INFO:simpletransformers.classification.classification_model:{'mcc': 0.7613398728160554, 'tp': 2954, 'tn': 2674, 'fp': 324, 'fn': 439, 'acc': 0.8806133625410734, 'precision': 0.8800688603970792, 'recall': 0.8812719630161143, 'f1': 0.8803837642989102, 'eval_loss': 0.5124524853964705}\n",
    "\n",
    "\n",
    "----------\n",
    "DEPRECATED\n",
    "----------\n",
    "DISTINCT\n",
    "INFO:simpletransformers.classification.classification_model:{'mcc': 0.4276624173566875, 'tp': 1229, 'tn': 1922, 'fp': 705, 'fn': 522, 'acc': 0.7197350388305163, 'precision': 0.710943119675985, 'recall': 0.716758839421141, 'f1': 0.7125321921255485, 'eval_loss': 2.0359503386718947}\n",
    "\n",
    "OVERLAP\n",
    "INFO:simpletransformers.classification.classification_model:{'mcc': 0.5978340471008643, 'tp': 1460, 'tn': 2055, 'fp': 391, 'fn': 475, 'acc': 0.802328235562657, 'precision': 0.8005078976645462, 'recall': 0.7973345714460777, 'f1': 0.7986135882240035, 'eval_loss': 1.2655204529336561}\n",
    "\n",
    "RANDOM\n",
    "INFO:simpletransformers.classification.classification_model:{'mcc': 0.8471998768615144, 'tp': 2159, 'tn': 1888, 'fp': 141, 'fn': 193, 'acc': 0.9237616982424104, 'precision': 0.9229758895179994, 'recall': 0.9242249080509484, 'f1': 0.9234688583305612, 'eval_loss': 0.5109805451162426}"
   ]
  },
  {
   "cell_type": "markdown",
   "metadata": {},
   "source": [
    "# Experiment 2: Eval on recompiled, more realistic data"
   ]
  },
  {
   "cell_type": "code",
   "execution_count": 73,
   "metadata": {},
   "outputs": [],
   "source": [
    "from sklearn.model_selection import train_test_split\n",
    "\n",
    "datasets = [\n",
    "    (reformat_df(rnd_train_df), reformat_df(rnd_test_df)),\n",
    "    (reformat_df(distinct_train_df), reformat_df(distinct_test_df)),\n",
    "    (reformat_df(overlap_train_df), reformat_df(overlap_test_df))\n",
    "]"
   ]
  },
  {
   "cell_type": "code",
   "execution_count": 21,
   "metadata": {
    "scrolled": false
   },
   "outputs": [
    {
     "name": "stdout",
     "output_type": "stream",
     "text": [
      "***************************+\n",
      "52179\n",
      "5798\n",
      "4381\n"
     ]
    },
    {
     "name": "stderr",
     "output_type": "stream",
     "text": [
      "Some weights of the model checkpoint at albert-base-v2 were not used when initializing AlbertForSequenceClassification: ['predictions.bias', 'predictions.LayerNorm.weight', 'predictions.LayerNorm.bias', 'predictions.dense.weight', 'predictions.dense.bias', 'predictions.decoder.weight', 'predictions.decoder.bias']\n",
      "- This IS expected if you are initializing AlbertForSequenceClassification from the checkpoint of a model trained on another task or with another architecture (e.g. initializing a BertForSequenceClassification model from a BertForPretraining model).\n",
      "- This IS NOT expected if you are initializing AlbertForSequenceClassification from the checkpoint of a model that you expect to be exactly identical (initializing a BertForSequenceClassification model from a BertForSequenceClassification model).\n",
      "Some weights of AlbertForSequenceClassification were not initialized from the model checkpoint at albert-base-v2 and are newly initialized: ['classifier.weight', 'classifier.bias']\n",
      "You should probably TRAIN this model on a down-stream task to be able to use it for predictions and inference.\n",
      "INFO:simpletransformers.classification.classification_model: Converting to features started. Cache is not used.\n"
     ]
    },
    {
     "data": {
      "application/vnd.jupyter.widget-view+json": {
       "model_id": "31f140f5b7e74617bf43f88c70ceb921",
       "version_major": 2,
       "version_minor": 0
      },
      "text/plain": [
       "HBox(children=(FloatProgress(value=0.0, max=52179.0), HTML(value='')))"
      ]
     },
     "metadata": {},
     "output_type": "display_data"
    },
    {
     "name": "stdout",
     "output_type": "stream",
     "text": [
      "\n"
     ]
    },
    {
     "data": {
      "application/vnd.jupyter.widget-view+json": {
       "model_id": "819e30f6dafd41c6b67264d862e84db3",
       "version_major": 2,
       "version_minor": 0
      },
      "text/plain": [
       "HBox(children=(FloatProgress(value=0.0, description='Epoch', max=5.0, style=ProgressStyle(description_width='i…"
      ]
     },
     "metadata": {},
     "output_type": "display_data"
    },
    {
     "data": {
      "application/vnd.jupyter.widget-view+json": {
       "model_id": "14d57d527f2647cf8dbb8cc59fce73ba",
       "version_major": 2,
       "version_minor": 0
      },
      "text/plain": [
       "HBox(children=(FloatProgress(value=0.0, description='Running Epoch 0 of 5', max=6523.0, style=ProgressStyle(de…"
      ]
     },
     "metadata": {},
     "output_type": "display_data"
    },
    {
     "name": "stdout",
     "output_type": "stream",
     "text": [
      "\n"
     ]
    },
    {
     "name": "stderr",
     "output_type": "stream",
     "text": [
      "INFO:simpletransformers.classification.classification_model: Converting to features started. Cache is not used.\n",
      "INFO:simpletransformers.classification.classification_model:{'mcc': 0.7100312698535334, 'tp': 2719, 'tn': 2243, 'fp': 460, 'fn': 376, 'precision': 0.8558670811372984, 'recall': 0.8541662258831657, 'f1': 0.8548339352459647, 'eval_loss': 0.27323519166944354}\n"
     ]
    },
    {
     "data": {
      "application/vnd.jupyter.widget-view+json": {
       "model_id": "23f8b1d14f8d4d5f8bc9b360c59ce660",
       "version_major": 2,
       "version_minor": 0
      },
      "text/plain": [
       "HBox(children=(FloatProgress(value=0.0, description='Running Epoch 1 of 5', max=6523.0, style=ProgressStyle(de…"
      ]
     },
     "metadata": {},
     "output_type": "display_data"
    },
    {
     "name": "stdout",
     "output_type": "stream",
     "text": [
      "\n"
     ]
    },
    {
     "name": "stderr",
     "output_type": "stream",
     "text": [
      "INFO:simpletransformers.classification.classification_model: Converting to features started. Cache is not used.\n",
      "INFO:simpletransformers.classification.classification_model:{'mcc': 0.7399710086843452, 'tp': 2587, 'tn': 2448, 'fp': 255, 'fn': 508, 'precision': 0.8692102990232535, 'recall': 0.8707623373060627, 'f1': 0.8683272196313039, 'eval_loss': 0.29825163410767785}\n"
     ]
    },
    {
     "data": {
      "application/vnd.jupyter.widget-view+json": {
       "model_id": "4ec58f1d879b422c8f8320b1b5543349",
       "version_major": 2,
       "version_minor": 0
      },
      "text/plain": [
       "HBox(children=(FloatProgress(value=0.0, description='Running Epoch 2 of 5', max=6523.0, style=ProgressStyle(de…"
      ]
     },
     "metadata": {},
     "output_type": "display_data"
    },
    {
     "name": "stdout",
     "output_type": "stream",
     "text": [
      "\n"
     ]
    },
    {
     "name": "stderr",
     "output_type": "stream",
     "text": [
      "INFO:simpletransformers.classification.classification_model: Converting to features started. Cache is not used.\n",
      "INFO:simpletransformers.classification.classification_model:{'mcc': 0.7469215793018105, 'tp': 2610, 'tn': 2447, 'fp': 256, 'fn': 485, 'precision': 0.872630401689279, 'recall': 0.8742930280900119, 'f1': 0.8720962208213191, 'eval_loss': 0.36673127798102634}\n"
     ]
    },
    {
     "data": {
      "application/vnd.jupyter.widget-view+json": {
       "model_id": "de95b3e63ba54564bce835eb10e99606",
       "version_major": 2,
       "version_minor": 0
      },
      "text/plain": [
       "HBox(children=(FloatProgress(value=0.0, description='Running Epoch 3 of 5', max=6523.0, style=ProgressStyle(de…"
      ]
     },
     "metadata": {},
     "output_type": "display_data"
    },
    {
     "name": "stdout",
     "output_type": "stream",
     "text": [
      "\n"
     ]
    },
    {
     "name": "stderr",
     "output_type": "stream",
     "text": [
      "INFO:simpletransformers.classification.classification_model: Converting to features started. Cache is not used.\n",
      "INFO:simpletransformers.classification.classification_model:{'mcc': 0.7444852861108283, 'tp': 2739, 'tn': 2322, 'fp': 381, 'fn': 356, 'precision': 0.8724747946228528, 'recall': 0.8720106361805856, 'f1': 0.872226269749512, 'eval_loss': 0.5434511430191221}\n"
     ]
    },
    {
     "data": {
      "application/vnd.jupyter.widget-view+json": {
       "model_id": "8097ded9fd3e4ec7b6f9ca41f2db426c",
       "version_major": 2,
       "version_minor": 0
      },
      "text/plain": [
       "HBox(children=(FloatProgress(value=0.0, description='Running Epoch 4 of 5', max=6523.0, style=ProgressStyle(de…"
      ]
     },
     "metadata": {},
     "output_type": "display_data"
    },
    {
     "name": "stdout",
     "output_type": "stream",
     "text": [
      "\n"
     ]
    },
    {
     "name": "stderr",
     "output_type": "stream",
     "text": [
      "INFO:simpletransformers.classification.classification_model: Converting to features started. Cache is not used.\n",
      "INFO:simpletransformers.classification.classification_model:{'mcc': 0.7396496663002526, 'tp': 2703, 'tn': 2343, 'fp': 360, 'fn': 392, 'precision': 0.8695704644870874, 'recall': 0.870079376890513, 'f1': 0.869798147375935, 'eval_loss': 0.6797208085305816}\n",
      "INFO:simpletransformers.classification.classification_model: Training of albert model complete. Saved to outputs_exp2/exp_0.\n"
     ]
    },
    {
     "name": "stdout",
     "output_type": "stream",
     "text": [
      "\n"
     ]
    },
    {
     "name": "stderr",
     "output_type": "stream",
     "text": [
      "INFO:simpletransformers.classification.classification_model: Converting to features started. Cache is not used.\n"
     ]
    },
    {
     "data": {
      "application/vnd.jupyter.widget-view+json": {
       "model_id": "fa5d6745e2464e72b3945e46321dff50",
       "version_major": 2,
       "version_minor": 0
      },
      "text/plain": [
       "HBox(children=(FloatProgress(value=0.0, max=4381.0), HTML(value='')))"
      ]
     },
     "metadata": {},
     "output_type": "display_data"
    },
    {
     "name": "stdout",
     "output_type": "stream",
     "text": [
      "\n"
     ]
    },
    {
     "data": {
      "application/vnd.jupyter.widget-view+json": {
       "model_id": "f0e4877f275c41e3a081cb5e846b1155",
       "version_major": 2,
       "version_minor": 0
      },
      "text/plain": [
       "HBox(children=(FloatProgress(value=0.0, description='Running Evaluation', max=548.0, style=ProgressStyle(descr…"
      ]
     },
     "metadata": {},
     "output_type": "display_data"
    },
    {
     "name": "stdout",
     "output_type": "stream",
     "text": [
      "\n"
     ]
    },
    {
     "name": "stderr",
     "output_type": "stream",
     "text": [
      "INFO:simpletransformers.classification.classification_model:{'mcc': 0.7627888997085139, 'tp': 2088, 'tn': 1776, 'fp': 253, 'fn': 264, 'acc': 0.8819904131476832, 'precision': 0.8812573812096389, 'recall': 0.8815315677774314, 'f1': 0.8813888402889491, 'eval_loss': 0.48301613785701275}\n"
     ]
    },
    {
     "name": "stdout",
     "output_type": "stream",
     "text": [
      "{'mcc': 0.7627888997085139, 'tp': 2088, 'tn': 1776, 'fp': 253, 'fn': 264, 'acc': 0.8819904131476832, 'precision': 0.8812573812096389, 'recall': 0.8815315677774314, 'f1': 0.8813888402889491, 'eval_loss': 0.48301613785701275}\n",
      "***************************+\n",
      "52182\n",
      "5798\n",
      "4378\n"
     ]
    },
    {
     "name": "stderr",
     "output_type": "stream",
     "text": [
      "Some weights of the model checkpoint at albert-base-v2 were not used when initializing AlbertForSequenceClassification: ['predictions.bias', 'predictions.LayerNorm.weight', 'predictions.LayerNorm.bias', 'predictions.dense.weight', 'predictions.dense.bias', 'predictions.decoder.weight', 'predictions.decoder.bias']\n",
      "- This IS expected if you are initializing AlbertForSequenceClassification from the checkpoint of a model trained on another task or with another architecture (e.g. initializing a BertForSequenceClassification model from a BertForPretraining model).\n",
      "- This IS NOT expected if you are initializing AlbertForSequenceClassification from the checkpoint of a model that you expect to be exactly identical (initializing a BertForSequenceClassification model from a BertForSequenceClassification model).\n",
      "Some weights of AlbertForSequenceClassification were not initialized from the model checkpoint at albert-base-v2 and are newly initialized: ['classifier.weight', 'classifier.bias']\n",
      "You should probably TRAIN this model on a down-stream task to be able to use it for predictions and inference.\n",
      "INFO:simpletransformers.classification.classification_model: Converting to features started. Cache is not used.\n"
     ]
    },
    {
     "data": {
      "application/vnd.jupyter.widget-view+json": {
       "model_id": "73e7627aa41640c99e5180b5d9af4f7e",
       "version_major": 2,
       "version_minor": 0
      },
      "text/plain": [
       "HBox(children=(FloatProgress(value=0.0, max=52182.0), HTML(value='')))"
      ]
     },
     "metadata": {},
     "output_type": "display_data"
    },
    {
     "name": "stdout",
     "output_type": "stream",
     "text": [
      "\n"
     ]
    },
    {
     "data": {
      "application/vnd.jupyter.widget-view+json": {
       "model_id": "d695e4e3e7a74503aa8ca147d580f9a9",
       "version_major": 2,
       "version_minor": 0
      },
      "text/plain": [
       "HBox(children=(FloatProgress(value=0.0, description='Epoch', max=5.0, style=ProgressStyle(description_width='i…"
      ]
     },
     "metadata": {},
     "output_type": "display_data"
    },
    {
     "data": {
      "application/vnd.jupyter.widget-view+json": {
       "model_id": "03370a07e46946f0b8ac612f0e092e53",
       "version_major": 2,
       "version_minor": 0
      },
      "text/plain": [
       "HBox(children=(FloatProgress(value=0.0, description='Running Epoch 0 of 5', max=6523.0, style=ProgressStyle(de…"
      ]
     },
     "metadata": {},
     "output_type": "display_data"
    },
    {
     "name": "stdout",
     "output_type": "stream",
     "text": [
      "\n"
     ]
    },
    {
     "name": "stderr",
     "output_type": "stream",
     "text": [
      "INFO:simpletransformers.classification.classification_model: Converting to features started. Cache is not used.\n",
      "INFO:simpletransformers.classification.classification_model:{'mcc': 0.746293578716533, 'tp': 2516, 'tn': 2505, 'fp': 126, 'fn': 651, 'precision': 0.8730175463340077, 'recall': 0.8732760771626151, 'f1': 0.8659877894556105, 'eval_loss': 0.28043604125702304}\n"
     ]
    },
    {
     "data": {
      "application/vnd.jupyter.widget-view+json": {
       "model_id": "a9a993f7edaf4a5c825c14432aa3f95b",
       "version_major": 2,
       "version_minor": 0
      },
      "text/plain": [
       "HBox(children=(FloatProgress(value=0.0, description='Running Epoch 1 of 5', max=6523.0, style=ProgressStyle(de…"
      ]
     },
     "metadata": {},
     "output_type": "display_data"
    },
    {
     "name": "stdout",
     "output_type": "stream",
     "text": [
      "\n"
     ]
    },
    {
     "name": "stderr",
     "output_type": "stream",
     "text": [
      "INFO:simpletransformers.classification.classification_model: Converting to features started. Cache is not used.\n",
      "INFO:simpletransformers.classification.classification_model:{'mcc': 0.7586205963241343, 'tp': 2880, 'tn': 2225, 'fp': 406, 'fn': 287, 'precision': 0.8810969670596354, 'recall': 0.8775320055729596, 'f1': 0.8789309161061969, 'eval_loss': 0.308079354782942}\n"
     ]
    },
    {
     "data": {
      "application/vnd.jupyter.widget-view+json": {
       "model_id": "10b809547eb94d17bfb7888b82c7eee7",
       "version_major": 2,
       "version_minor": 0
      },
      "text/plain": [
       "HBox(children=(FloatProgress(value=0.0, description='Running Epoch 2 of 5', max=6523.0, style=ProgressStyle(de…"
      ]
     },
     "metadata": {},
     "output_type": "display_data"
    },
    {
     "name": "stdout",
     "output_type": "stream",
     "text": [
      "\n"
     ]
    },
    {
     "name": "stderr",
     "output_type": "stream",
     "text": [
      "INFO:simpletransformers.classification.classification_model: Converting to features started. Cache is not used.\n",
      "INFO:simpletransformers.classification.classification_model:{'mcc': 0.7836372664851883, 'tp': 2853, 'tn': 2323, 'fp': 308, 'fn': 314, 'precision': 0.8917438870611766, 'recall': 0.8918933936858593, 'f1': 0.8918176630218276, 'eval_loss': 0.32567066123269517}\n"
     ]
    },
    {
     "data": {
      "application/vnd.jupyter.widget-view+json": {
       "model_id": "ee5b11ea1aa24ef285893f39d88ed85a",
       "version_major": 2,
       "version_minor": 0
      },
      "text/plain": [
       "HBox(children=(FloatProgress(value=0.0, description='Running Epoch 3 of 5', max=6523.0, style=ProgressStyle(de…"
      ]
     },
     "metadata": {},
     "output_type": "display_data"
    },
    {
     "name": "stdout",
     "output_type": "stream",
     "text": [
      "\n"
     ]
    },
    {
     "name": "stderr",
     "output_type": "stream",
     "text": [
      "INFO:simpletransformers.classification.classification_model: Converting to features started. Cache is not used.\n",
      "INFO:simpletransformers.classification.classification_model:{'mcc': 0.7947099060512103, 'tp': 2852, 'tn': 2355, 'fp': 276, 'fn': 315, 'precision': 0.8968935888962326, 'recall': 0.8978168534621034, 'f1': 0.8973137833181175, 'eval_loss': 0.4421367796229857}\n"
     ]
    },
    {
     "data": {
      "application/vnd.jupyter.widget-view+json": {
       "model_id": "e1b62a7e6bc5457aa42f0ce1fb2524d1",
       "version_major": 2,
       "version_minor": 0
      },
      "text/plain": [
       "HBox(children=(FloatProgress(value=0.0, description='Running Epoch 4 of 5', max=6523.0, style=ProgressStyle(de…"
      ]
     },
     "metadata": {},
     "output_type": "display_data"
    },
    {
     "name": "stdout",
     "output_type": "stream",
     "text": [
      "\n"
     ]
    },
    {
     "name": "stderr",
     "output_type": "stream",
     "text": [
      "INFO:simpletransformers.classification.classification_model: Converting to features started. Cache is not used.\n",
      "INFO:simpletransformers.classification.classification_model:{'mcc': 0.8031784988668221, 'tp': 2858, 'tn': 2373, 'fp': 258, 'fn': 309, 'precision': 0.9009945062361255, 'recall': 0.9021848747362247, 'f1': 0.9015185590831398, 'eval_loss': 0.5258311948583688}\n",
      "INFO:simpletransformers.classification.classification_model: Training of albert model complete. Saved to outputs_exp2/exp_1.\n"
     ]
    },
    {
     "name": "stdout",
     "output_type": "stream",
     "text": [
      "\n"
     ]
    },
    {
     "name": "stderr",
     "output_type": "stream",
     "text": [
      "INFO:simpletransformers.classification.classification_model: Converting to features started. Cache is not used.\n"
     ]
    },
    {
     "data": {
      "application/vnd.jupyter.widget-view+json": {
       "model_id": "3914d8a64985401aabfe6abe658f03cc",
       "version_major": 2,
       "version_minor": 0
      },
      "text/plain": [
       "HBox(children=(FloatProgress(value=0.0, max=4378.0), HTML(value='')))"
      ]
     },
     "metadata": {},
     "output_type": "display_data"
    },
    {
     "name": "stdout",
     "output_type": "stream",
     "text": [
      "\n"
     ]
    },
    {
     "data": {
      "application/vnd.jupyter.widget-view+json": {
       "model_id": "ce168d063fb049e5bfd9a9278ae75914",
       "version_major": 2,
       "version_minor": 0
      },
      "text/plain": [
       "HBox(children=(FloatProgress(value=0.0, description='Running Evaluation', max=548.0, style=ProgressStyle(descr…"
      ]
     },
     "metadata": {},
     "output_type": "display_data"
    },
    {
     "name": "stdout",
     "output_type": "stream",
     "text": [
      "\n"
     ]
    },
    {
     "name": "stderr",
     "output_type": "stream",
     "text": [
      "INFO:simpletransformers.classification.classification_model:{'mcc': 0.3897261500444874, 'tp': 1101, 'tn': 1997, 'fp': 630, 'fn': 650, 'acc': 0.7076290543627227, 'precision': 0.6952437571980705, 'recall': 0.6944831350925253, 'f1': 0.6948475686323967, 'eval_loss': 1.6204442783798656}\n"
     ]
    },
    {
     "name": "stdout",
     "output_type": "stream",
     "text": [
      "{'mcc': 0.3897261500444874, 'tp': 1101, 'tn': 1997, 'fp': 630, 'fn': 650, 'acc': 0.7076290543627227, 'precision': 0.6952437571980705, 'recall': 0.6944831350925253, 'f1': 0.6948475686323967, 'eval_loss': 1.6204442783798656}\n",
      "***************************+\n",
      "52179\n",
      "5798\n",
      "4381\n"
     ]
    },
    {
     "name": "stderr",
     "output_type": "stream",
     "text": [
      "Some weights of the model checkpoint at albert-base-v2 were not used when initializing AlbertForSequenceClassification: ['predictions.bias', 'predictions.LayerNorm.weight', 'predictions.LayerNorm.bias', 'predictions.dense.weight', 'predictions.dense.bias', 'predictions.decoder.weight', 'predictions.decoder.bias']\n",
      "- This IS expected if you are initializing AlbertForSequenceClassification from the checkpoint of a model trained on another task or with another architecture (e.g. initializing a BertForSequenceClassification model from a BertForPretraining model).\n",
      "- This IS NOT expected if you are initializing AlbertForSequenceClassification from the checkpoint of a model that you expect to be exactly identical (initializing a BertForSequenceClassification model from a BertForSequenceClassification model).\n",
      "Some weights of AlbertForSequenceClassification were not initialized from the model checkpoint at albert-base-v2 and are newly initialized: ['classifier.weight', 'classifier.bias']\n",
      "You should probably TRAIN this model on a down-stream task to be able to use it for predictions and inference.\n",
      "INFO:simpletransformers.classification.classification_model: Converting to features started. Cache is not used.\n"
     ]
    },
    {
     "data": {
      "application/vnd.jupyter.widget-view+json": {
       "model_id": "f10e215f89354aa49baaf24cb879d777",
       "version_major": 2,
       "version_minor": 0
      },
      "text/plain": [
       "HBox(children=(FloatProgress(value=0.0, max=52179.0), HTML(value='')))"
      ]
     },
     "metadata": {},
     "output_type": "display_data"
    },
    {
     "name": "stdout",
     "output_type": "stream",
     "text": [
      "\n"
     ]
    },
    {
     "data": {
      "application/vnd.jupyter.widget-view+json": {
       "model_id": "b619c4f0c35047fca96aa00147ac4e02",
       "version_major": 2,
       "version_minor": 0
      },
      "text/plain": [
       "HBox(children=(FloatProgress(value=0.0, description='Epoch', max=5.0, style=ProgressStyle(description_width='i…"
      ]
     },
     "metadata": {},
     "output_type": "display_data"
    },
    {
     "data": {
      "application/vnd.jupyter.widget-view+json": {
       "model_id": "9b955b5cc0834059bb90a5e3e9b7a84d",
       "version_major": 2,
       "version_minor": 0
      },
      "text/plain": [
       "HBox(children=(FloatProgress(value=0.0, description='Running Epoch 0 of 5', max=6523.0, style=ProgressStyle(de…"
      ]
     },
     "metadata": {},
     "output_type": "display_data"
    },
    {
     "name": "stdout",
     "output_type": "stream",
     "text": [
      "\n"
     ]
    },
    {
     "name": "stderr",
     "output_type": "stream",
     "text": [
      "INFO:simpletransformers.classification.classification_model: Converting to features started. Cache is not used.\n",
      "INFO:simpletransformers.classification.classification_model:{'mcc': 0.7566449546869678, 'tp': 2564, 'tn': 2503, 'fp': 160, 'fn': 571, 'precision': 0.8777556924305696, 'recall': 0.8788901126608896, 'f1': 0.8739080851345888, 'eval_loss': 0.2615384744510761}\n"
     ]
    },
    {
     "data": {
      "application/vnd.jupyter.widget-view+json": {
       "model_id": "8ed09608c9a24cc08275332460258b31",
       "version_major": 2,
       "version_minor": 0
      },
      "text/plain": [
       "HBox(children=(FloatProgress(value=0.0, description='Running Epoch 1 of 5', max=6523.0, style=ProgressStyle(de…"
      ]
     },
     "metadata": {},
     "output_type": "display_data"
    },
    {
     "name": "stdout",
     "output_type": "stream",
     "text": [
      "\n"
     ]
    },
    {
     "name": "stderr",
     "output_type": "stream",
     "text": [
      "INFO:simpletransformers.classification.classification_model: Converting to features started. Cache is not used.\n",
      "INFO:simpletransformers.classification.classification_model:{'mcc': 0.779632313875081, 'tp': 2677, 'tn': 2472, 'fp': 191, 'fn': 458, 'precision': 0.8885445375831227, 'recall': 0.8910919380176451, 'f1': 0.8879247425575012, 'eval_loss': 0.22578365563029615}\n"
     ]
    },
    {
     "data": {
      "application/vnd.jupyter.widget-view+json": {
       "model_id": "5563365103e74c9197bb686a3b1de62d",
       "version_major": 2,
       "version_minor": 0
      },
      "text/plain": [
       "HBox(children=(FloatProgress(value=0.0, description='Running Epoch 2 of 5', max=6523.0, style=ProgressStyle(de…"
      ]
     },
     "metadata": {},
     "output_type": "display_data"
    },
    {
     "name": "stdout",
     "output_type": "stream",
     "text": [
      "\n"
     ]
    },
    {
     "name": "stderr",
     "output_type": "stream",
     "text": [
      "INFO:simpletransformers.classification.classification_model: Converting to features started. Cache is not used.\n",
      "INFO:simpletransformers.classification.classification_model:{'mcc': 0.7742136496328526, 'tp': 2763, 'tn': 2382, 'fp': 281, 'fn': 372, 'precision': 0.8863055004451773, 'recall': 0.88790981139737, 'f1': 0.8868865206288201, 'eval_loss': 0.31709651809049255}\n"
     ]
    },
    {
     "data": {
      "application/vnd.jupyter.widget-view+json": {
       "model_id": "dfbba49619b44b55862168216128021a",
       "version_major": 2,
       "version_minor": 0
      },
      "text/plain": [
       "HBox(children=(FloatProgress(value=0.0, description='Running Epoch 3 of 5', max=6523.0, style=ProgressStyle(de…"
      ]
     },
     "metadata": {},
     "output_type": "display_data"
    },
    {
     "name": "stdout",
     "output_type": "stream",
     "text": [
      "\n"
     ]
    },
    {
     "name": "stderr",
     "output_type": "stream",
     "text": [
      "INFO:simpletransformers.classification.classification_model: Converting to features started. Cache is not used.\n",
      "INFO:simpletransformers.classification.classification_model:{'mcc': 0.7722599249647313, 'tp': 2803, 'tn': 2339, 'fp': 324, 'fn': 332, 'precision': 0.886044148517693, 'recall': 0.8862157955226715, 'f1': 0.8861282550476464, 'eval_loss': 0.497128615981286}\n"
     ]
    },
    {
     "data": {
      "application/vnd.jupyter.widget-view+json": {
       "model_id": "a43a91d27bb54be7bfc10d9f1d2cf417",
       "version_major": 2,
       "version_minor": 0
      },
      "text/plain": [
       "HBox(children=(FloatProgress(value=0.0, description='Running Epoch 4 of 5', max=6523.0, style=ProgressStyle(de…"
      ]
     },
     "metadata": {},
     "output_type": "display_data"
    },
    {
     "name": "stdout",
     "output_type": "stream",
     "text": [
      "\n"
     ]
    },
    {
     "name": "stderr",
     "output_type": "stream",
     "text": [
      "INFO:simpletransformers.classification.classification_model: Converting to features started. Cache is not used.\n",
      "INFO:simpletransformers.classification.classification_model:{'mcc': 0.774281676843272, 'tp': 2789, 'tn': 2358, 'fp': 305, 'fn': 346, 'precision': 0.8867317637114017, 'recall': 0.8875503458403631, 'f1': 0.8870960143241717, 'eval_loss': 0.5791396513797347}\n",
      "INFO:simpletransformers.classification.classification_model: Training of albert model complete. Saved to outputs_exp2/exp_2.\n"
     ]
    },
    {
     "name": "stdout",
     "output_type": "stream",
     "text": [
      "\n"
     ]
    },
    {
     "name": "stderr",
     "output_type": "stream",
     "text": [
      "INFO:simpletransformers.classification.classification_model: Converting to features started. Cache is not used.\n"
     ]
    },
    {
     "data": {
      "application/vnd.jupyter.widget-view+json": {
       "model_id": "d39b626148b4412db2da054daa8f41b1",
       "version_major": 2,
       "version_minor": 0
      },
      "text/plain": [
       "HBox(children=(FloatProgress(value=0.0, max=4381.0), HTML(value='')))"
      ]
     },
     "metadata": {},
     "output_type": "display_data"
    },
    {
     "name": "stdout",
     "output_type": "stream",
     "text": [
      "\n"
     ]
    },
    {
     "data": {
      "application/vnd.jupyter.widget-view+json": {
       "model_id": "627bca1a58024ba5947ab9339e56948d",
       "version_major": 2,
       "version_minor": 0
      },
      "text/plain": [
       "HBox(children=(FloatProgress(value=0.0, description='Running Evaluation', max=548.0, style=ProgressStyle(descr…"
      ]
     },
     "metadata": {},
     "output_type": "display_data"
    },
    {
     "name": "stdout",
     "output_type": "stream",
     "text": [
      "\n"
     ]
    },
    {
     "name": "stderr",
     "output_type": "stream",
     "text": [
      "INFO:simpletransformers.classification.classification_model:{'mcc': 0.41935149500238844, 'tp': 1027, 'tn': 2105, 'fp': 341, 'fn': 908, 'acc': 0.7149052727687742, 'precision': 0.7246851120776829, 'recall': 0.6956690351383158, 'f1': 0.6965312166322621, 'eval_loss': 0.5707390998839825}\n"
     ]
    },
    {
     "name": "stdout",
     "output_type": "stream",
     "text": [
      "{'mcc': 0.41935149500238844, 'tp': 1027, 'tn': 2105, 'fp': 341, 'fn': 908, 'acc': 0.7149052727687742, 'precision': 0.7246851120776829, 'recall': 0.6956690351383158, 'f1': 0.6965312166322621, 'eval_loss': 0.5707390998839825}\n"
     ]
    }
   ],
   "source": [
    "model_to_test = ('albert', 'albert-base-v2')\n",
    "\n",
    "for i, (train_df, test_df) in enumerate(datasets):\n",
    "    \n",
    "    # get training args\n",
    "    train_args = get_train_args(\"exp_\" + str(i))\n",
    "    \n",
    "    print(\"***************************+\")\n",
    "    \n",
    "    train_df, dev_df = train_test_split(train_df, test_size = 0.1, random_state = 9721)\n",
    "    print(len(train_df))\n",
    "    print(len(dev_df))\n",
    "    print(len(test_df))\n",
    "\n",
    "    # Create a ClassificationModel\n",
    "    model = ClassificationModel(model_to_test[0], model_to_test[1], num_labels=2, use_cuda=True, cuda_device=0, args=train_args)\n",
    "\n",
    "    # Train the model\n",
    "    model.train_model(train_df, eval_df=dev_df, precision=precision_macro, recall=recall_macro, f1=f1_macro)\n",
    "\n",
    "    # Eval best model\n",
    "    model = ClassificationModel(model_to_test[0], train_args['best_model_dir'], num_labels=2, use_cuda=True, cuda_device=0, args=train_args)\n",
    "    result, model_outputs, wrong_predictions = model.eval_model(\n",
    "        test_df, acc=sklearn.metrics.accuracy_score, precision=precision_macro, recall=recall_macro, f1=f1_macro\n",
    "    )\n",
    "    \n",
    "    print(result)"
   ]
  },
  {
   "cell_type": "code",
   "execution_count": 54,
   "metadata": {},
   "outputs": [],
   "source": [
    "import numpy as np\n",
    "def gini(array):\n",
    "    \"\"\"Calculate the Gini coefficient of a numpy array.\"\"\"\n",
    "    # based on bottom eq: http://www.statsdirect.com/help/content/image/stat0206_wmf.gif\n",
    "    # from: http://www.statsdirect.com/help/default.htm#nonparametric_methods/gini.htm\n",
    "    array = array.flatten() #all values are treated equally, arrays must be 1d\n",
    "    if np.amin(array) < 0:\n",
    "        array -= np.amin(array) #values cannot be negative\n",
    "    array += 0.0000001 #values cannot be 0\n",
    "    array = np.sort(array) #values must be sorted\n",
    "    index = np.arange(1,array.shape[0]+1) #index per array element\n",
    "    n = array.shape[0]#number of array elements\n",
    "    return ((np.sum((2 * index - n  - 1) * array)) / (n * np.sum(array))) #Gini coefficient"
   ]
  },
  {
   "cell_type": "markdown",
   "metadata": {},
   "source": [
    "# What's actually happening?"
   ]
  },
  {
   "cell_type": "code",
   "execution_count": 81,
   "metadata": {},
   "outputs": [
    {
     "name": "stdout",
     "output_type": "stream",
     "text": [
      "0.7126722835763067\n",
      "0.31146269022452727\n",
      "0.3458963324168394\n"
     ]
    }
   ],
   "source": [
    "print(gini(np.array(rnd_test_df.debate_id.value_counts().to_list(), dtype='float64')))\n",
    "print(gini(np.array(overlap_test_df.debate_id.value_counts().to_list(), dtype='float64')))\n",
    "print(gini(np.array(distinct_test_df.debate_id.value_counts().to_list(), dtype='float64')))"
   ]
  },
  {
   "cell_type": "code",
   "execution_count": 161,
   "metadata": {},
   "outputs": [
    {
     "data": {
      "text/html": [
       "<div>\n",
       "<style scoped>\n",
       "    .dataframe tbody tr th:only-of-type {\n",
       "        vertical-align: middle;\n",
       "    }\n",
       "\n",
       "    .dataframe tbody tr th {\n",
       "        vertical-align: top;\n",
       "    }\n",
       "\n",
       "    .dataframe thead th {\n",
       "        text-align: right;\n",
       "    }\n",
       "</style>\n",
       "<table border=\"1\" class=\"dataframe\">\n",
       "  <thead>\n",
       "    <tr style=\"text-align: right;\">\n",
       "      <th></th>\n",
       "      <th>debate_id</th>\n",
       "    </tr>\n",
       "  </thead>\n",
       "  <tbody>\n",
       "    <tr>\n",
       "      <th>b67fc3fb-2019-04-17T11:47:41Z</th>\n",
       "      <td>17187</td>\n",
       "    </tr>\n",
       "    <tr>\n",
       "      <th>d2f4b1cd-2019-04-17T11:47:27Z</th>\n",
       "      <td>9567</td>\n",
       "    </tr>\n",
       "    <tr>\n",
       "      <th>40f91664-2019-04-17T11:47:29Z</th>\n",
       "      <td>2796</td>\n",
       "    </tr>\n",
       "    <tr>\n",
       "      <th>475596d3-2019-04-17T11:47:21Z</th>\n",
       "      <td>1176</td>\n",
       "    </tr>\n",
       "    <tr>\n",
       "      <th>414eb72a-2019-04-19T12:45:01Z</th>\n",
       "      <td>1013</td>\n",
       "    </tr>\n",
       "    <tr>\n",
       "      <th>b44abf31-2019-04-19T12:47:38Z</th>\n",
       "      <td>200</td>\n",
       "    </tr>\n",
       "    <tr>\n",
       "      <th>ac9fa785-2019-04-15T20:24:42Z</th>\n",
       "      <td>118</td>\n",
       "    </tr>\n",
       "    <tr>\n",
       "      <th>b18694c3-2019-04-18T13:51:52Z</th>\n",
       "      <td>32</td>\n",
       "    </tr>\n",
       "    <tr>\n",
       "      <th>1ff5359b-2019-04-18T15:06:14Z</th>\n",
       "      <td>32</td>\n",
       "    </tr>\n",
       "    <tr>\n",
       "      <th>66496b5f-2019-04-18T11:11:37Z</th>\n",
       "      <td>31</td>\n",
       "    </tr>\n",
       "    <tr>\n",
       "      <th>63356341-2019-04-18T14:26:12Z</th>\n",
       "      <td>31</td>\n",
       "    </tr>\n",
       "    <tr>\n",
       "      <th>3b27903a-2019-04-18T16:30:16Z</th>\n",
       "      <td>29</td>\n",
       "    </tr>\n",
       "    <tr>\n",
       "      <th>a105b451-2019-04-18T16:00:52Z</th>\n",
       "      <td>29</td>\n",
       "    </tr>\n",
       "    <tr>\n",
       "      <th>4686f91-2019-04-18T15:19:05Z</th>\n",
       "      <td>29</td>\n",
       "    </tr>\n",
       "    <tr>\n",
       "      <th>48d0fe88-2019-04-18T18:13:11Z</th>\n",
       "      <td>28</td>\n",
       "    </tr>\n",
       "    <tr>\n",
       "      <th>7f10e5d6-2019-04-18T18:35:54Z</th>\n",
       "      <td>28</td>\n",
       "    </tr>\n",
       "    <tr>\n",
       "      <th>3783da19-2019-04-18T16:21:01Z</th>\n",
       "      <td>28</td>\n",
       "    </tr>\n",
       "    <tr>\n",
       "      <th>b33122ae-2019-04-18T17:22:26Z</th>\n",
       "      <td>28</td>\n",
       "    </tr>\n",
       "    <tr>\n",
       "      <th>b1852be7-2019-04-18T18:27:09Z</th>\n",
       "      <td>28</td>\n",
       "    </tr>\n",
       "    <tr>\n",
       "      <th>70f09476-2019-04-18T15:09:46Z</th>\n",
       "      <td>28</td>\n",
       "    </tr>\n",
       "  </tbody>\n",
       "</table>\n",
       "</div>"
      ],
      "text/plain": [
       "                               debate_id\n",
       "b67fc3fb-2019-04-17T11:47:41Z      17187\n",
       "d2f4b1cd-2019-04-17T11:47:27Z       9567\n",
       "40f91664-2019-04-17T11:47:29Z       2796\n",
       "475596d3-2019-04-17T11:47:21Z       1176\n",
       "414eb72a-2019-04-19T12:45:01Z       1013\n",
       "b44abf31-2019-04-19T12:47:38Z        200\n",
       "ac9fa785-2019-04-15T20:24:42Z        118\n",
       "b18694c3-2019-04-18T13:51:52Z         32\n",
       "1ff5359b-2019-04-18T15:06:14Z         32\n",
       "66496b5f-2019-04-18T11:11:37Z         31\n",
       "63356341-2019-04-18T14:26:12Z         31\n",
       "3b27903a-2019-04-18T16:30:16Z         29\n",
       "a105b451-2019-04-18T16:00:52Z         29\n",
       "4686f91-2019-04-18T15:19:05Z          29\n",
       "48d0fe88-2019-04-18T18:13:11Z         28\n",
       "7f10e5d6-2019-04-18T18:35:54Z         28\n",
       "3783da19-2019-04-18T16:21:01Z         28\n",
       "b33122ae-2019-04-18T17:22:26Z         28\n",
       "b1852be7-2019-04-18T18:27:09Z         28\n",
       "70f09476-2019-04-18T15:09:46Z         28"
      ]
     },
     "execution_count": 161,
     "metadata": {},
     "output_type": "execute_result"
    }
   ],
   "source": [
    "within_train.debate_id.value_counts().to_frame().head(20) #19258\n",
    "#tmp_df = within_train[within_train[\"debate_id\"] == \"b67fc3fb-2019-04-17T11:47:41Z\"]\n",
    "#print(len(set(tmp_df.argument1.to_list() + tmp_df.argument2.to_list())))"
   ]
  },
  {
   "cell_type": "code",
   "execution_count": 155,
   "metadata": {},
   "outputs": [
    {
     "data": {
      "text/plain": [
       "31375.0"
      ]
     },
     "execution_count": 155,
     "metadata": {},
     "output_type": "execute_result"
    }
   ],
   "source": [
    "251 * 250 / 2"
   ]
  },
  {
   "cell_type": "markdown",
   "metadata": {},
   "source": [
    "## rnd"
   ]
  },
  {
   "cell_type": "code",
   "execution_count": 75,
   "metadata": {},
   "outputs": [
    {
     "name": "stderr",
     "output_type": "stream",
     "text": [
      "INFO:simpletransformers.classification.classification_model: Converting to features started. Cache is not used.\n"
     ]
    },
    {
     "data": {
      "application/vnd.jupyter.widget-view+json": {
       "model_id": "c94155b9701945de8ec236da93573648",
       "version_major": 2,
       "version_minor": 0
      },
      "text/plain": [
       "HBox(children=(FloatProgress(value=0.0, max=4381.0), HTML(value='')))"
      ]
     },
     "metadata": {},
     "output_type": "display_data"
    },
    {
     "name": "stdout",
     "output_type": "stream",
     "text": [
      "\n"
     ]
    },
    {
     "data": {
      "application/vnd.jupyter.widget-view+json": {
       "model_id": "3cc1d7c3f81844aca0e1531f8ea75ae3",
       "version_major": 2,
       "version_minor": 0
      },
      "text/plain": [
       "HBox(children=(FloatProgress(value=0.0, description='Running Evaluation', max=548.0, style=ProgressStyle(descr…"
      ]
     },
     "metadata": {},
     "output_type": "display_data"
    },
    {
     "name": "stderr",
     "output_type": "stream",
     "text": [
      "INFO:simpletransformers.classification.classification_model:{'mcc': 0.7627888997085139, 'tp': 2088, 'tn': 1776, 'fp': 253, 'fn': 264, 'acc': 0.8819904131476832, 'precision': 0.8812573812096389, 'recall': 0.8815315677774314, 'f1': 0.8813888402889491, 'eval_loss': 0.48301613785701275}\n"
     ]
    },
    {
     "name": "stdout",
     "output_type": "stream",
     "text": [
      "\n"
     ]
    }
   ],
   "source": [
    "model_to_test = ('albert', 'albert-base-v2')\n",
    "i = 0\n",
    "train_args = get_train_args(\"exp_\" + str(i))\n",
    "model = ClassificationModel(model_to_test[0], train_args['best_model_dir'], num_labels=2, use_cuda=True, cuda_device=0, args=train_args)\n",
    "result, model_outputs, wrong_predictions = model.eval_model(\n",
    "    reformat_df(rnd_test_df), \n",
    "    acc=sklearn.metrics.accuracy_score, \n",
    "    precision=precision_macro, \n",
    "    recall=recall_macro, \n",
    "    f1=f1_macro\n",
    ")"
   ]
  },
  {
   "cell_type": "code",
   "execution_count": 79,
   "metadata": {},
   "outputs": [
    {
     "data": {
      "text/plain": [
       "4381"
      ]
     },
     "execution_count": 79,
     "metadata": {},
     "output_type": "execute_result"
    }
   ],
   "source": [
    "predicted_labels = model_outputs.argmax(axis=-1)\n",
    "len(predicted_labels)"
   ]
  },
  {
   "cell_type": "code",
   "execution_count": 135,
   "metadata": {},
   "outputs": [
    {
     "data": {
      "text/html": [
       "<div>\n",
       "<style scoped>\n",
       "    .dataframe tbody tr th:only-of-type {\n",
       "        vertical-align: middle;\n",
       "    }\n",
       "\n",
       "    .dataframe tbody tr th {\n",
       "        vertical-align: top;\n",
       "    }\n",
       "\n",
       "    .dataframe thead th {\n",
       "        text-align: right;\n",
       "    }\n",
       "</style>\n",
       "<table border=\"1\" class=\"dataframe\">\n",
       "  <thead>\n",
       "    <tr style=\"text-align: right;\">\n",
       "      <th></th>\n",
       "      <th>agree</th>\n",
       "    </tr>\n",
       "    <tr>\n",
       "      <th>debate_id</th>\n",
       "      <th></th>\n",
       "    </tr>\n",
       "  </thead>\n",
       "  <tbody>\n",
       "    <tr>\n",
       "      <th>b67fc3fb-2019-04-17T11:47:41Z</th>\n",
       "      <td>1455</td>\n",
       "    </tr>\n",
       "    <tr>\n",
       "      <th>d2f4b1cd-2019-04-17T11:47:27Z</th>\n",
       "      <td>788</td>\n",
       "    </tr>\n",
       "    <tr>\n",
       "      <th>40f91664-2019-04-17T11:47:29Z</th>\n",
       "      <td>246</td>\n",
       "    </tr>\n",
       "    <tr>\n",
       "      <th>475596d3-2019-04-17T11:47:21Z</th>\n",
       "      <td>104</td>\n",
       "    </tr>\n",
       "    <tr>\n",
       "      <th>414eb72a-2019-04-19T12:45:01Z</th>\n",
       "      <td>54</td>\n",
       "    </tr>\n",
       "    <tr>\n",
       "      <th>b44abf31-2019-04-19T12:47:38Z</th>\n",
       "      <td>10</td>\n",
       "    </tr>\n",
       "    <tr>\n",
       "      <th>f0fec70b-2019-04-18T17:27:54Z</th>\n",
       "      <td>6</td>\n",
       "    </tr>\n",
       "    <tr>\n",
       "      <th>7fa981cc-2019-04-18T19:51:14Z</th>\n",
       "      <td>5</td>\n",
       "    </tr>\n",
       "    <tr>\n",
       "      <th>b1851c86-2019-04-18T18:48:45Z</th>\n",
       "      <td>4</td>\n",
       "    </tr>\n",
       "    <tr>\n",
       "      <th>c2b2fdca-2019-04-18T16:51:34Z</th>\n",
       "      <td>4</td>\n",
       "    </tr>\n",
       "    <tr>\n",
       "      <th>b186fa3d-2019-04-18T13:12:02Z</th>\n",
       "      <td>4</td>\n",
       "    </tr>\n",
       "    <tr>\n",
       "      <th>ae62ea04-2019-04-18T19:35:43Z</th>\n",
       "      <td>4</td>\n",
       "    </tr>\n",
       "    <tr>\n",
       "      <th>33963668-2019-04-18T14:24:41Z</th>\n",
       "      <td>4</td>\n",
       "    </tr>\n",
       "    <tr>\n",
       "      <th>86723691-2019-04-18T18:09:28Z</th>\n",
       "      <td>4</td>\n",
       "    </tr>\n",
       "    <tr>\n",
       "      <th>7586bcda-2019-04-18T14:29:50Z</th>\n",
       "      <td>4</td>\n",
       "    </tr>\n",
       "    <tr>\n",
       "      <th>5ddec80a-2019-04-18T13:46:23Z</th>\n",
       "      <td>4</td>\n",
       "    </tr>\n",
       "    <tr>\n",
       "      <th>5b95324b-2019-04-18T17:02:22Z</th>\n",
       "      <td>4</td>\n",
       "    </tr>\n",
       "    <tr>\n",
       "      <th>5aba060e-2019-04-18T18:29:56Z</th>\n",
       "      <td>4</td>\n",
       "    </tr>\n",
       "    <tr>\n",
       "      <th>ce3113bf-2019-04-18T18:15:28Z</th>\n",
       "      <td>4</td>\n",
       "    </tr>\n",
       "    <tr>\n",
       "      <th>48d0fe88-2019-04-18T18:13:11Z</th>\n",
       "      <td>4</td>\n",
       "    </tr>\n",
       "  </tbody>\n",
       "</table>\n",
       "</div>"
      ],
      "text/plain": [
       "                               agree\n",
       "debate_id                           \n",
       "b67fc3fb-2019-04-17T11:47:41Z   1455\n",
       "d2f4b1cd-2019-04-17T11:47:27Z    788\n",
       "40f91664-2019-04-17T11:47:29Z    246\n",
       "475596d3-2019-04-17T11:47:21Z    104\n",
       "414eb72a-2019-04-19T12:45:01Z     54\n",
       "b44abf31-2019-04-19T12:47:38Z     10\n",
       "f0fec70b-2019-04-18T17:27:54Z      6\n",
       "7fa981cc-2019-04-18T19:51:14Z      5\n",
       "b1851c86-2019-04-18T18:48:45Z      4\n",
       "c2b2fdca-2019-04-18T16:51:34Z      4\n",
       "b186fa3d-2019-04-18T13:12:02Z      4\n",
       "ae62ea04-2019-04-18T19:35:43Z      4\n",
       "33963668-2019-04-18T14:24:41Z      4\n",
       "86723691-2019-04-18T18:09:28Z      4\n",
       "7586bcda-2019-04-18T14:29:50Z      4\n",
       "5ddec80a-2019-04-18T13:46:23Z      4\n",
       "5b95324b-2019-04-18T17:02:22Z      4\n",
       "5aba060e-2019-04-18T18:29:56Z      4\n",
       "ce3113bf-2019-04-18T18:15:28Z      4\n",
       "48d0fe88-2019-04-18T18:13:11Z      4"
      ]
     },
     "execution_count": 135,
     "metadata": {},
     "output_type": "execute_result"
    }
   ],
   "source": [
    "rnd_test_df[\"pred_label\"] = [True if l == 1 else False for l in predicted_labels]\n",
    "rnd_test_df[\"agree\"] = rnd_test_df[\"pred_label\"] == rnd_test_df[\"is_same_side\"]\n",
    "df1 = rnd_test_df[[\"debate_id\", \"agree\"]].groupby(\"debate_id\").sum(\"agree\").sort_values(\"agree\", ascending = False)\n",
    "df1.head(20)"
   ]
  },
  {
   "cell_type": "code",
   "execution_count": 137,
   "metadata": {},
   "outputs": [
    {
     "data": {
      "text/html": [
       "<div>\n",
       "<style scoped>\n",
       "    .dataframe tbody tr th:only-of-type {\n",
       "        vertical-align: middle;\n",
       "    }\n",
       "\n",
       "    .dataframe tbody tr th {\n",
       "        vertical-align: top;\n",
       "    }\n",
       "\n",
       "    .dataframe thead th {\n",
       "        text-align: right;\n",
       "    }\n",
       "</style>\n",
       "<table border=\"1\" class=\"dataframe\">\n",
       "  <thead>\n",
       "    <tr style=\"text-align: right;\">\n",
       "      <th></th>\n",
       "      <th>debate_id</th>\n",
       "    </tr>\n",
       "  </thead>\n",
       "  <tbody>\n",
       "    <tr>\n",
       "      <th>b67fc3fb-2019-04-17T11:47:41Z</th>\n",
       "      <td>1471</td>\n",
       "    </tr>\n",
       "    <tr>\n",
       "      <th>d2f4b1cd-2019-04-17T11:47:27Z</th>\n",
       "      <td>790</td>\n",
       "    </tr>\n",
       "    <tr>\n",
       "      <th>40f91664-2019-04-17T11:47:29Z</th>\n",
       "      <td>247</td>\n",
       "    </tr>\n",
       "    <tr>\n",
       "      <th>475596d3-2019-04-17T11:47:21Z</th>\n",
       "      <td>104</td>\n",
       "    </tr>\n",
       "    <tr>\n",
       "      <th>414eb72a-2019-04-19T12:45:01Z</th>\n",
       "      <td>84</td>\n",
       "    </tr>\n",
       "    <tr>\n",
       "      <th>b44abf31-2019-04-19T12:47:38Z</th>\n",
       "      <td>21</td>\n",
       "    </tr>\n",
       "    <tr>\n",
       "      <th>ac9fa785-2019-04-15T20:24:42Z</th>\n",
       "      <td>6</td>\n",
       "    </tr>\n",
       "    <tr>\n",
       "      <th>a105b451-2019-04-18T16:00:52Z</th>\n",
       "      <td>6</td>\n",
       "    </tr>\n",
       "    <tr>\n",
       "      <th>f0fec70b-2019-04-18T17:27:54Z</th>\n",
       "      <td>6</td>\n",
       "    </tr>\n",
       "    <tr>\n",
       "      <th>ae62ea04-2019-04-18T19:35:43Z</th>\n",
       "      <td>6</td>\n",
       "    </tr>\n",
       "    <tr>\n",
       "      <th>b186fa3d-2019-04-18T13:12:02Z</th>\n",
       "      <td>5</td>\n",
       "    </tr>\n",
       "    <tr>\n",
       "      <th>48d0fe88-2019-04-18T18:13:11Z</th>\n",
       "      <td>5</td>\n",
       "    </tr>\n",
       "    <tr>\n",
       "      <th>e3b1618f-2019-04-18T13:13:29Z</th>\n",
       "      <td>5</td>\n",
       "    </tr>\n",
       "    <tr>\n",
       "      <th>c2b2fdca-2019-04-18T16:51:34Z</th>\n",
       "      <td>5</td>\n",
       "    </tr>\n",
       "    <tr>\n",
       "      <th>7fa981cc-2019-04-18T19:51:14Z</th>\n",
       "      <td>5</td>\n",
       "    </tr>\n",
       "    <tr>\n",
       "      <th>54a4f622-2019-04-18T11:25:28Z</th>\n",
       "      <td>5</td>\n",
       "    </tr>\n",
       "    <tr>\n",
       "      <th>dcbd8324-2019-04-18T15:48:20Z</th>\n",
       "      <td>4</td>\n",
       "    </tr>\n",
       "    <tr>\n",
       "      <th>6334df62-2019-04-18T16:33:10Z</th>\n",
       "      <td>4</td>\n",
       "    </tr>\n",
       "    <tr>\n",
       "      <th>ac4510b5-2019-04-18T11:19:48Z</th>\n",
       "      <td>4</td>\n",
       "    </tr>\n",
       "    <tr>\n",
       "      <th>ce3113bf-2019-04-18T18:15:28Z</th>\n",
       "      <td>4</td>\n",
       "    </tr>\n",
       "  </tbody>\n",
       "</table>\n",
       "</div>"
      ],
      "text/plain": [
       "                               debate_id\n",
       "b67fc3fb-2019-04-17T11:47:41Z       1471\n",
       "d2f4b1cd-2019-04-17T11:47:27Z        790\n",
       "40f91664-2019-04-17T11:47:29Z        247\n",
       "475596d3-2019-04-17T11:47:21Z        104\n",
       "414eb72a-2019-04-19T12:45:01Z         84\n",
       "b44abf31-2019-04-19T12:47:38Z         21\n",
       "ac9fa785-2019-04-15T20:24:42Z          6\n",
       "a105b451-2019-04-18T16:00:52Z          6\n",
       "f0fec70b-2019-04-18T17:27:54Z          6\n",
       "ae62ea04-2019-04-18T19:35:43Z          6\n",
       "b186fa3d-2019-04-18T13:12:02Z          5\n",
       "48d0fe88-2019-04-18T18:13:11Z          5\n",
       "e3b1618f-2019-04-18T13:13:29Z          5\n",
       "c2b2fdca-2019-04-18T16:51:34Z          5\n",
       "7fa981cc-2019-04-18T19:51:14Z          5\n",
       "54a4f622-2019-04-18T11:25:28Z          5\n",
       "dcbd8324-2019-04-18T15:48:20Z          4\n",
       "6334df62-2019-04-18T16:33:10Z          4\n",
       "ac4510b5-2019-04-18T11:19:48Z          4\n",
       "ce3113bf-2019-04-18T18:15:28Z          4"
      ]
     },
     "execution_count": 137,
     "metadata": {},
     "output_type": "execute_result"
    }
   ],
   "source": [
    "df2 = rnd_test_df.debate_id.value_counts().to_frame()\n",
    "df2.head(20)"
   ]
  },
  {
   "cell_type": "raw",
   "metadata": {},
   "source": [
    "b67fc3fb-2019-04-17T11:47:41Z    1471\n",
    "d2f4b1cd-2019-04-17T11:47:27Z     790\n",
    "40f91664-2019-04-17T11:47:29Z     247\n",
    "475596d3-2019-04-17T11:47:21Z     104\n",
    "414eb72a-2019-04-19T12:45:01Z      84\n",
    "b44abf31-2019-04-19T12:47:38Z      21\n",
    "ac9fa785-2019-04-15T20:24:42Z       6\n",
    "\n",
    "We see that all large debate clusters are actually solved almost 100% correct, while smaller clusters often have much lower accuracies."
   ]
  },
  {
   "cell_type": "code",
   "execution_count": 138,
   "metadata": {},
   "outputs": [
    {
     "data": {
      "text/html": [
       "<div>\n",
       "<style scoped>\n",
       "    .dataframe tbody tr th:only-of-type {\n",
       "        vertical-align: middle;\n",
       "    }\n",
       "\n",
       "    .dataframe tbody tr th {\n",
       "        vertical-align: top;\n",
       "    }\n",
       "\n",
       "    .dataframe thead th {\n",
       "        text-align: right;\n",
       "    }\n",
       "</style>\n",
       "<table border=\"1\" class=\"dataframe\">\n",
       "  <thead>\n",
       "    <tr style=\"text-align: right;\">\n",
       "      <th></th>\n",
       "      <th>agree</th>\n",
       "      <th>debate_id</th>\n",
       "      <th>acc</th>\n",
       "    </tr>\n",
       "  </thead>\n",
       "  <tbody>\n",
       "    <tr>\n",
       "      <th>b67fc3fb-2019-04-17T11:47:41Z</th>\n",
       "      <td>1455</td>\n",
       "      <td>1471</td>\n",
       "      <td>0.989123</td>\n",
       "    </tr>\n",
       "    <tr>\n",
       "      <th>d2f4b1cd-2019-04-17T11:47:27Z</th>\n",
       "      <td>788</td>\n",
       "      <td>790</td>\n",
       "      <td>0.997468</td>\n",
       "    </tr>\n",
       "    <tr>\n",
       "      <th>40f91664-2019-04-17T11:47:29Z</th>\n",
       "      <td>246</td>\n",
       "      <td>247</td>\n",
       "      <td>0.995951</td>\n",
       "    </tr>\n",
       "    <tr>\n",
       "      <th>475596d3-2019-04-17T11:47:21Z</th>\n",
       "      <td>104</td>\n",
       "      <td>104</td>\n",
       "      <td>1.000000</td>\n",
       "    </tr>\n",
       "    <tr>\n",
       "      <th>414eb72a-2019-04-19T12:45:01Z</th>\n",
       "      <td>54</td>\n",
       "      <td>84</td>\n",
       "      <td>0.642857</td>\n",
       "    </tr>\n",
       "    <tr>\n",
       "      <th>b44abf31-2019-04-19T12:47:38Z</th>\n",
       "      <td>10</td>\n",
       "      <td>21</td>\n",
       "      <td>0.476190</td>\n",
       "    </tr>\n",
       "    <tr>\n",
       "      <th>f0fec70b-2019-04-18T17:27:54Z</th>\n",
       "      <td>6</td>\n",
       "      <td>6</td>\n",
       "      <td>1.000000</td>\n",
       "    </tr>\n",
       "    <tr>\n",
       "      <th>7fa981cc-2019-04-18T19:51:14Z</th>\n",
       "      <td>5</td>\n",
       "      <td>5</td>\n",
       "      <td>1.000000</td>\n",
       "    </tr>\n",
       "    <tr>\n",
       "      <th>b1851c86-2019-04-18T18:48:45Z</th>\n",
       "      <td>4</td>\n",
       "      <td>4</td>\n",
       "      <td>1.000000</td>\n",
       "    </tr>\n",
       "    <tr>\n",
       "      <th>c2b2fdca-2019-04-18T16:51:34Z</th>\n",
       "      <td>4</td>\n",
       "      <td>5</td>\n",
       "      <td>0.800000</td>\n",
       "    </tr>\n",
       "    <tr>\n",
       "      <th>b186fa3d-2019-04-18T13:12:02Z</th>\n",
       "      <td>4</td>\n",
       "      <td>5</td>\n",
       "      <td>0.800000</td>\n",
       "    </tr>\n",
       "    <tr>\n",
       "      <th>ae62ea04-2019-04-18T19:35:43Z</th>\n",
       "      <td>4</td>\n",
       "      <td>6</td>\n",
       "      <td>0.666667</td>\n",
       "    </tr>\n",
       "    <tr>\n",
       "      <th>33963668-2019-04-18T14:24:41Z</th>\n",
       "      <td>4</td>\n",
       "      <td>4</td>\n",
       "      <td>1.000000</td>\n",
       "    </tr>\n",
       "    <tr>\n",
       "      <th>86723691-2019-04-18T18:09:28Z</th>\n",
       "      <td>4</td>\n",
       "      <td>4</td>\n",
       "      <td>1.000000</td>\n",
       "    </tr>\n",
       "    <tr>\n",
       "      <th>7586bcda-2019-04-18T14:29:50Z</th>\n",
       "      <td>4</td>\n",
       "      <td>4</td>\n",
       "      <td>1.000000</td>\n",
       "    </tr>\n",
       "    <tr>\n",
       "      <th>5ddec80a-2019-04-18T13:46:23Z</th>\n",
       "      <td>4</td>\n",
       "      <td>4</td>\n",
       "      <td>1.000000</td>\n",
       "    </tr>\n",
       "    <tr>\n",
       "      <th>5b95324b-2019-04-18T17:02:22Z</th>\n",
       "      <td>4</td>\n",
       "      <td>4</td>\n",
       "      <td>1.000000</td>\n",
       "    </tr>\n",
       "    <tr>\n",
       "      <th>5aba060e-2019-04-18T18:29:56Z</th>\n",
       "      <td>4</td>\n",
       "      <td>4</td>\n",
       "      <td>1.000000</td>\n",
       "    </tr>\n",
       "    <tr>\n",
       "      <th>ce3113bf-2019-04-18T18:15:28Z</th>\n",
       "      <td>4</td>\n",
       "      <td>4</td>\n",
       "      <td>1.000000</td>\n",
       "    </tr>\n",
       "    <tr>\n",
       "      <th>48d0fe88-2019-04-18T18:13:11Z</th>\n",
       "      <td>4</td>\n",
       "      <td>5</td>\n",
       "      <td>0.800000</td>\n",
       "    </tr>\n",
       "    <tr>\n",
       "      <th>62662925-2019-04-18T15:57:47Z</th>\n",
       "      <td>3</td>\n",
       "      <td>4</td>\n",
       "      <td>0.750000</td>\n",
       "    </tr>\n",
       "    <tr>\n",
       "      <th>684fcb10-2019-04-18T11:45:47Z</th>\n",
       "      <td>3</td>\n",
       "      <td>3</td>\n",
       "      <td>1.000000</td>\n",
       "    </tr>\n",
       "    <tr>\n",
       "      <th>85c63a3b-2019-04-18T16:08:05Z</th>\n",
       "      <td>3</td>\n",
       "      <td>4</td>\n",
       "      <td>0.750000</td>\n",
       "    </tr>\n",
       "    <tr>\n",
       "      <th>cb764e63-2019-04-18T18:07:05Z</th>\n",
       "      <td>3</td>\n",
       "      <td>3</td>\n",
       "      <td>1.000000</td>\n",
       "    </tr>\n",
       "    <tr>\n",
       "      <th>784b3894-2019-04-18T15:24:06Z</th>\n",
       "      <td>3</td>\n",
       "      <td>3</td>\n",
       "      <td>1.000000</td>\n",
       "    </tr>\n",
       "    <tr>\n",
       "      <th>83226e2e-2019-04-18T17:40:10Z</th>\n",
       "      <td>3</td>\n",
       "      <td>3</td>\n",
       "      <td>1.000000</td>\n",
       "    </tr>\n",
       "    <tr>\n",
       "      <th>aece280d-2019-04-18T18:46:57Z</th>\n",
       "      <td>3</td>\n",
       "      <td>3</td>\n",
       "      <td>1.000000</td>\n",
       "    </tr>\n",
       "    <tr>\n",
       "      <th>750043eb-2019-04-18T13:11:55Z</th>\n",
       "      <td>3</td>\n",
       "      <td>4</td>\n",
       "      <td>0.750000</td>\n",
       "    </tr>\n",
       "    <tr>\n",
       "      <th>eb89388a-2019-04-18T18:26:58Z</th>\n",
       "      <td>3</td>\n",
       "      <td>3</td>\n",
       "      <td>1.000000</td>\n",
       "    </tr>\n",
       "    <tr>\n",
       "      <th>69bfa58b-2019-04-18T18:03:14Z</th>\n",
       "      <td>3</td>\n",
       "      <td>4</td>\n",
       "      <td>0.750000</td>\n",
       "    </tr>\n",
       "    <tr>\n",
       "      <th>3395b723-2019-04-18T16:20:11Z</th>\n",
       "      <td>3</td>\n",
       "      <td>3</td>\n",
       "      <td>1.000000</td>\n",
       "    </tr>\n",
       "    <tr>\n",
       "      <th>63355383-2019-04-18T15:05:05Z</th>\n",
       "      <td>3</td>\n",
       "      <td>3</td>\n",
       "      <td>1.000000</td>\n",
       "    </tr>\n",
       "    <tr>\n",
       "      <th>ef3db68f-2019-04-18T17:37:39Z</th>\n",
       "      <td>3</td>\n",
       "      <td>4</td>\n",
       "      <td>0.750000</td>\n",
       "    </tr>\n",
       "    <tr>\n",
       "      <th>2386b8c2-2019-04-18T17:36:10Z</th>\n",
       "      <td>3</td>\n",
       "      <td>4</td>\n",
       "      <td>0.750000</td>\n",
       "    </tr>\n",
       "    <tr>\n",
       "      <th>3f862eed-2019-04-18T18:40:56Z</th>\n",
       "      <td>3</td>\n",
       "      <td>4</td>\n",
       "      <td>0.750000</td>\n",
       "    </tr>\n",
       "    <tr>\n",
       "      <th>b1852826-2019-04-18T18:33:13Z</th>\n",
       "      <td>3</td>\n",
       "      <td>3</td>\n",
       "      <td>1.000000</td>\n",
       "    </tr>\n",
       "    <tr>\n",
       "      <th>255c4280-2019-04-18T14:08:40Z</th>\n",
       "      <td>3</td>\n",
       "      <td>3</td>\n",
       "      <td>1.000000</td>\n",
       "    </tr>\n",
       "    <tr>\n",
       "      <th>b187e2dc-2019-04-18T11:12:01Z</th>\n",
       "      <td>3</td>\n",
       "      <td>4</td>\n",
       "      <td>0.750000</td>\n",
       "    </tr>\n",
       "    <tr>\n",
       "      <th>694e2cc1-2019-04-18T18:19:29Z</th>\n",
       "      <td>3</td>\n",
       "      <td>3</td>\n",
       "      <td>1.000000</td>\n",
       "    </tr>\n",
       "    <tr>\n",
       "      <th>81e60b0b-2019-04-18T17:57:06Z</th>\n",
       "      <td>3</td>\n",
       "      <td>3</td>\n",
       "      <td>1.000000</td>\n",
       "    </tr>\n",
       "    <tr>\n",
       "      <th>32ddce5a-2019-04-18T20:01:04Z</th>\n",
       "      <td>3</td>\n",
       "      <td>3</td>\n",
       "      <td>1.000000</td>\n",
       "    </tr>\n",
       "    <tr>\n",
       "      <th>3150b680-2019-04-18T19:50:28Z</th>\n",
       "      <td>3</td>\n",
       "      <td>3</td>\n",
       "      <td>1.000000</td>\n",
       "    </tr>\n",
       "    <tr>\n",
       "      <th>b1870c29-2019-04-18T12:43:39Z</th>\n",
       "      <td>3</td>\n",
       "      <td>3</td>\n",
       "      <td>1.000000</td>\n",
       "    </tr>\n",
       "    <tr>\n",
       "      <th>6702bd00-2019-04-18T17:57:26Z</th>\n",
       "      <td>3</td>\n",
       "      <td>3</td>\n",
       "      <td>1.000000</td>\n",
       "    </tr>\n",
       "    <tr>\n",
       "      <th>271173e1-2019-04-18T15:21:14Z</th>\n",
       "      <td>3</td>\n",
       "      <td>3</td>\n",
       "      <td>1.000000</td>\n",
       "    </tr>\n",
       "    <tr>\n",
       "      <th>f7991e72-2019-04-18T15:20:19Z</th>\n",
       "      <td>3</td>\n",
       "      <td>3</td>\n",
       "      <td>1.000000</td>\n",
       "    </tr>\n",
       "    <tr>\n",
       "      <th>67e963e4-2019-04-18T19:43:29Z</th>\n",
       "      <td>3</td>\n",
       "      <td>3</td>\n",
       "      <td>1.000000</td>\n",
       "    </tr>\n",
       "    <tr>\n",
       "      <th>605ef123-2019-04-18T19:17:48Z</th>\n",
       "      <td>3</td>\n",
       "      <td>4</td>\n",
       "      <td>0.750000</td>\n",
       "    </tr>\n",
       "    <tr>\n",
       "      <th>b1862463-2019-04-18T15:05:46Z</th>\n",
       "      <td>3</td>\n",
       "      <td>3</td>\n",
       "      <td>1.000000</td>\n",
       "    </tr>\n",
       "    <tr>\n",
       "      <th>9058833c-2019-04-18T15:42:19Z</th>\n",
       "      <td>3</td>\n",
       "      <td>3</td>\n",
       "      <td>1.000000</td>\n",
       "    </tr>\n",
       "  </tbody>\n",
       "</table>\n",
       "</div>"
      ],
      "text/plain": [
       "                               agree  debate_id       acc\n",
       "b67fc3fb-2019-04-17T11:47:41Z   1455       1471  0.989123\n",
       "d2f4b1cd-2019-04-17T11:47:27Z    788        790  0.997468\n",
       "40f91664-2019-04-17T11:47:29Z    246        247  0.995951\n",
       "475596d3-2019-04-17T11:47:21Z    104        104  1.000000\n",
       "414eb72a-2019-04-19T12:45:01Z     54         84  0.642857\n",
       "b44abf31-2019-04-19T12:47:38Z     10         21  0.476190\n",
       "f0fec70b-2019-04-18T17:27:54Z      6          6  1.000000\n",
       "7fa981cc-2019-04-18T19:51:14Z      5          5  1.000000\n",
       "b1851c86-2019-04-18T18:48:45Z      4          4  1.000000\n",
       "c2b2fdca-2019-04-18T16:51:34Z      4          5  0.800000\n",
       "b186fa3d-2019-04-18T13:12:02Z      4          5  0.800000\n",
       "ae62ea04-2019-04-18T19:35:43Z      4          6  0.666667\n",
       "33963668-2019-04-18T14:24:41Z      4          4  1.000000\n",
       "86723691-2019-04-18T18:09:28Z      4          4  1.000000\n",
       "7586bcda-2019-04-18T14:29:50Z      4          4  1.000000\n",
       "5ddec80a-2019-04-18T13:46:23Z      4          4  1.000000\n",
       "5b95324b-2019-04-18T17:02:22Z      4          4  1.000000\n",
       "5aba060e-2019-04-18T18:29:56Z      4          4  1.000000\n",
       "ce3113bf-2019-04-18T18:15:28Z      4          4  1.000000\n",
       "48d0fe88-2019-04-18T18:13:11Z      4          5  0.800000\n",
       "62662925-2019-04-18T15:57:47Z      3          4  0.750000\n",
       "684fcb10-2019-04-18T11:45:47Z      3          3  1.000000\n",
       "85c63a3b-2019-04-18T16:08:05Z      3          4  0.750000\n",
       "cb764e63-2019-04-18T18:07:05Z      3          3  1.000000\n",
       "784b3894-2019-04-18T15:24:06Z      3          3  1.000000\n",
       "83226e2e-2019-04-18T17:40:10Z      3          3  1.000000\n",
       "aece280d-2019-04-18T18:46:57Z      3          3  1.000000\n",
       "750043eb-2019-04-18T13:11:55Z      3          4  0.750000\n",
       "eb89388a-2019-04-18T18:26:58Z      3          3  1.000000\n",
       "69bfa58b-2019-04-18T18:03:14Z      3          4  0.750000\n",
       "3395b723-2019-04-18T16:20:11Z      3          3  1.000000\n",
       "63355383-2019-04-18T15:05:05Z      3          3  1.000000\n",
       "ef3db68f-2019-04-18T17:37:39Z      3          4  0.750000\n",
       "2386b8c2-2019-04-18T17:36:10Z      3          4  0.750000\n",
       "3f862eed-2019-04-18T18:40:56Z      3          4  0.750000\n",
       "b1852826-2019-04-18T18:33:13Z      3          3  1.000000\n",
       "255c4280-2019-04-18T14:08:40Z      3          3  1.000000\n",
       "b187e2dc-2019-04-18T11:12:01Z      3          4  0.750000\n",
       "694e2cc1-2019-04-18T18:19:29Z      3          3  1.000000\n",
       "81e60b0b-2019-04-18T17:57:06Z      3          3  1.000000\n",
       "32ddce5a-2019-04-18T20:01:04Z      3          3  1.000000\n",
       "3150b680-2019-04-18T19:50:28Z      3          3  1.000000\n",
       "b1870c29-2019-04-18T12:43:39Z      3          3  1.000000\n",
       "6702bd00-2019-04-18T17:57:26Z      3          3  1.000000\n",
       "271173e1-2019-04-18T15:21:14Z      3          3  1.000000\n",
       "f7991e72-2019-04-18T15:20:19Z      3          3  1.000000\n",
       "67e963e4-2019-04-18T19:43:29Z      3          3  1.000000\n",
       "605ef123-2019-04-18T19:17:48Z      3          4  0.750000\n",
       "b1862463-2019-04-18T15:05:46Z      3          3  1.000000\n",
       "9058833c-2019-04-18T15:42:19Z      3          3  1.000000"
      ]
     },
     "execution_count": 138,
     "metadata": {},
     "output_type": "execute_result"
    }
   ],
   "source": [
    "df3 = pd.merge(df1, df2, left_index = True, right_index = True)\n",
    "df3[\"acc\"] =  df3.agree / df3.debate_id\n",
    "df3.head(50)"
   ]
  },
  {
   "cell_type": "code",
   "execution_count": 139,
   "metadata": {},
   "outputs": [
    {
     "data": {
      "text/html": [
       "<div>\n",
       "<style scoped>\n",
       "    .dataframe tbody tr th:only-of-type {\n",
       "        vertical-align: middle;\n",
       "    }\n",
       "\n",
       "    .dataframe tbody tr th {\n",
       "        vertical-align: top;\n",
       "    }\n",
       "\n",
       "    .dataframe thead th {\n",
       "        text-align: right;\n",
       "    }\n",
       "</style>\n",
       "<table border=\"1\" class=\"dataframe\">\n",
       "  <thead>\n",
       "    <tr style=\"text-align: right;\">\n",
       "      <th></th>\n",
       "      <th>acc</th>\n",
       "    </tr>\n",
       "    <tr>\n",
       "      <th>debate_id</th>\n",
       "      <th></th>\n",
       "    </tr>\n",
       "  </thead>\n",
       "  <tbody>\n",
       "    <tr>\n",
       "      <th>1</th>\n",
       "      <td>0.752280</td>\n",
       "    </tr>\n",
       "    <tr>\n",
       "      <th>2</th>\n",
       "      <td>0.713504</td>\n",
       "    </tr>\n",
       "    <tr>\n",
       "      <th>3</th>\n",
       "      <td>0.695652</td>\n",
       "    </tr>\n",
       "    <tr>\n",
       "      <th>4</th>\n",
       "      <td>0.718750</td>\n",
       "    </tr>\n",
       "    <tr>\n",
       "      <th>5</th>\n",
       "      <td>0.700000</td>\n",
       "    </tr>\n",
       "    <tr>\n",
       "      <th>6</th>\n",
       "      <td>0.666667</td>\n",
       "    </tr>\n",
       "    <tr>\n",
       "      <th>21</th>\n",
       "      <td>0.476190</td>\n",
       "    </tr>\n",
       "    <tr>\n",
       "      <th>84</th>\n",
       "      <td>0.642857</td>\n",
       "    </tr>\n",
       "    <tr>\n",
       "      <th>104</th>\n",
       "      <td>1.000000</td>\n",
       "    </tr>\n",
       "    <tr>\n",
       "      <th>247</th>\n",
       "      <td>0.995951</td>\n",
       "    </tr>\n",
       "    <tr>\n",
       "      <th>790</th>\n",
       "      <td>0.997468</td>\n",
       "    </tr>\n",
       "    <tr>\n",
       "      <th>1471</th>\n",
       "      <td>0.989123</td>\n",
       "    </tr>\n",
       "  </tbody>\n",
       "</table>\n",
       "</div>"
      ],
      "text/plain": [
       "                acc\n",
       "debate_id          \n",
       "1          0.752280\n",
       "2          0.713504\n",
       "3          0.695652\n",
       "4          0.718750\n",
       "5          0.700000\n",
       "6          0.666667\n",
       "21         0.476190\n",
       "84         0.642857\n",
       "104        1.000000\n",
       "247        0.995951\n",
       "790        0.997468\n",
       "1471       0.989123"
      ]
     },
     "execution_count": 139,
     "metadata": {},
     "output_type": "execute_result"
    }
   ],
   "source": [
    "df3[[\"debate_id\", \"acc\"]].groupby(\"debate_id\").mean(\"acc\")"
   ]
  },
  {
   "cell_type": "markdown",
   "metadata": {},
   "source": [
    "## distinct"
   ]
  },
  {
   "cell_type": "code",
   "execution_count": 109,
   "metadata": {},
   "outputs": [
    {
     "name": "stderr",
     "output_type": "stream",
     "text": [
      "INFO:simpletransformers.classification.classification_model: Converting to features started. Cache is not used.\n"
     ]
    },
    {
     "data": {
      "application/vnd.jupyter.widget-view+json": {
       "model_id": "a4e968a82127430aa95878dc13259cd8",
       "version_major": 2,
       "version_minor": 0
      },
      "text/plain": [
       "HBox(children=(FloatProgress(value=0.0, max=4378.0), HTML(value='')))"
      ]
     },
     "metadata": {},
     "output_type": "display_data"
    },
    {
     "name": "stdout",
     "output_type": "stream",
     "text": [
      "\n"
     ]
    },
    {
     "data": {
      "application/vnd.jupyter.widget-view+json": {
       "model_id": "fa1779d4a5db4261a2b60df73f1eeb7b",
       "version_major": 2,
       "version_minor": 0
      },
      "text/plain": [
       "HBox(children=(FloatProgress(value=0.0, description='Running Evaluation', max=548.0, style=ProgressStyle(descr…"
      ]
     },
     "metadata": {},
     "output_type": "display_data"
    },
    {
     "name": "stderr",
     "output_type": "stream",
     "text": [
      "INFO:simpletransformers.classification.classification_model:{'mcc': 0.3897261500444874, 'tp': 1101, 'tn': 1997, 'fp': 630, 'fn': 650, 'acc': 0.7076290543627227, 'precision': 0.6952437571980705, 'recall': 0.6944831350925253, 'f1': 0.6948475686323967, 'eval_loss': 1.6204442783798656}\n"
     ]
    },
    {
     "name": "stdout",
     "output_type": "stream",
     "text": [
      "\n"
     ]
    }
   ],
   "source": [
    "model_to_test = ('albert', 'albert-base-v2')\n",
    "i = 1\n",
    "train_args = get_train_args(\"exp_\" + str(i))\n",
    "model = ClassificationModel(model_to_test[0], train_args['best_model_dir'], num_labels=2, use_cuda=True, cuda_device=0, args=train_args)\n",
    "result, model_outputs, wrong_predictions = model.eval_model(\n",
    "    reformat_df(distinct_test_df), \n",
    "    acc=sklearn.metrics.accuracy_score, \n",
    "    precision=precision_macro, \n",
    "    recall=recall_macro, \n",
    "    f1=f1_macro\n",
    ")"
   ]
  },
  {
   "cell_type": "code",
   "execution_count": 110,
   "metadata": {},
   "outputs": [
    {
     "data": {
      "text/plain": [
       "4378"
      ]
     },
     "execution_count": 110,
     "metadata": {},
     "output_type": "execute_result"
    }
   ],
   "source": [
    "predicted_labels = model_outputs.argmax(axis=-1)\n",
    "len(predicted_labels)"
   ]
  },
  {
   "cell_type": "code",
   "execution_count": 114,
   "metadata": {},
   "outputs": [
    {
     "data": {
      "text/html": [
       "<div>\n",
       "<style scoped>\n",
       "    .dataframe tbody tr th:only-of-type {\n",
       "        vertical-align: middle;\n",
       "    }\n",
       "\n",
       "    .dataframe tbody tr th {\n",
       "        vertical-align: top;\n",
       "    }\n",
       "\n",
       "    .dataframe thead th {\n",
       "        text-align: right;\n",
       "    }\n",
       "</style>\n",
       "<table border=\"1\" class=\"dataframe\">\n",
       "  <thead>\n",
       "    <tr style=\"text-align: right;\">\n",
       "      <th></th>\n",
       "      <th>agree</th>\n",
       "    </tr>\n",
       "    <tr>\n",
       "      <th>debate_id</th>\n",
       "      <th></th>\n",
       "    </tr>\n",
       "  </thead>\n",
       "  <tbody>\n",
       "    <tr>\n",
       "      <th>33ca75e3-2019-04-18T18:42:44Z</th>\n",
       "      <td>17</td>\n",
       "    </tr>\n",
       "    <tr>\n",
       "      <th>92ad51a3-2019-04-18T17:27:45Z</th>\n",
       "      <td>13</td>\n",
       "    </tr>\n",
       "    <tr>\n",
       "      <th>b1853369-2019-04-18T18:17:49Z</th>\n",
       "      <td>13</td>\n",
       "    </tr>\n",
       "    <tr>\n",
       "      <th>895cd490-2019-04-18T15:36:44Z</th>\n",
       "      <td>11</td>\n",
       "    </tr>\n",
       "    <tr>\n",
       "      <th>11d51208-2019-04-18T15:14:47Z</th>\n",
       "      <td>11</td>\n",
       "    </tr>\n",
       "    <tr>\n",
       "      <th>b187e621-2019-04-18T11:10:43Z</th>\n",
       "      <td>11</td>\n",
       "    </tr>\n",
       "    <tr>\n",
       "      <th>fc305b97-2019-04-18T18:43:58Z</th>\n",
       "      <td>11</td>\n",
       "    </tr>\n",
       "    <tr>\n",
       "      <th>b185370b-2019-04-18T18:07:10Z</th>\n",
       "      <td>11</td>\n",
       "    </tr>\n",
       "    <tr>\n",
       "      <th>b1853e8d-2019-04-18T17:51:22Z</th>\n",
       "      <td>10</td>\n",
       "    </tr>\n",
       "    <tr>\n",
       "      <th>5a26ecda-2019-04-18T14:57:07Z</th>\n",
       "      <td>10</td>\n",
       "    </tr>\n",
       "    <tr>\n",
       "      <th>e19711e0-2019-04-18T17:35:03Z</th>\n",
       "      <td>10</td>\n",
       "    </tr>\n",
       "    <tr>\n",
       "      <th>b18528a2-2019-04-18T18:31:36Z</th>\n",
       "      <td>10</td>\n",
       "    </tr>\n",
       "    <tr>\n",
       "      <th>d9e8f2e3-2019-04-18T19:14:57Z</th>\n",
       "      <td>10</td>\n",
       "    </tr>\n",
       "    <tr>\n",
       "      <th>32ddce5a-2019-04-18T20:01:04Z</th>\n",
       "      <td>10</td>\n",
       "    </tr>\n",
       "    <tr>\n",
       "      <th>b1860d80-2019-04-18T15:57:02Z</th>\n",
       "      <td>10</td>\n",
       "    </tr>\n",
       "    <tr>\n",
       "      <th>5c92703c-2019-04-18T15:40:03Z</th>\n",
       "      <td>10</td>\n",
       "    </tr>\n",
       "    <tr>\n",
       "      <th>3396416d-2019-04-18T13:25:28Z</th>\n",
       "      <td>10</td>\n",
       "    </tr>\n",
       "    <tr>\n",
       "      <th>b1867e7b-2019-04-18T14:42:19Z</th>\n",
       "      <td>10</td>\n",
       "    </tr>\n",
       "    <tr>\n",
       "      <th>c0717fda-2019-04-18T18:19:13Z</th>\n",
       "      <td>10</td>\n",
       "    </tr>\n",
       "    <tr>\n",
       "      <th>70a50579-2019-04-18T19:55:39Z</th>\n",
       "      <td>10</td>\n",
       "    </tr>\n",
       "  </tbody>\n",
       "</table>\n",
       "</div>"
      ],
      "text/plain": [
       "                               agree\n",
       "debate_id                           \n",
       "33ca75e3-2019-04-18T18:42:44Z     17\n",
       "92ad51a3-2019-04-18T17:27:45Z     13\n",
       "b1853369-2019-04-18T18:17:49Z     13\n",
       "895cd490-2019-04-18T15:36:44Z     11\n",
       "11d51208-2019-04-18T15:14:47Z     11\n",
       "b187e621-2019-04-18T11:10:43Z     11\n",
       "fc305b97-2019-04-18T18:43:58Z     11\n",
       "b185370b-2019-04-18T18:07:10Z     11\n",
       "b1853e8d-2019-04-18T17:51:22Z     10\n",
       "5a26ecda-2019-04-18T14:57:07Z     10\n",
       "e19711e0-2019-04-18T17:35:03Z     10\n",
       "b18528a2-2019-04-18T18:31:36Z     10\n",
       "d9e8f2e3-2019-04-18T19:14:57Z     10\n",
       "32ddce5a-2019-04-18T20:01:04Z     10\n",
       "b1860d80-2019-04-18T15:57:02Z     10\n",
       "5c92703c-2019-04-18T15:40:03Z     10\n",
       "3396416d-2019-04-18T13:25:28Z     10\n",
       "b1867e7b-2019-04-18T14:42:19Z     10\n",
       "c0717fda-2019-04-18T18:19:13Z     10\n",
       "70a50579-2019-04-18T19:55:39Z     10"
      ]
     },
     "execution_count": 114,
     "metadata": {},
     "output_type": "execute_result"
    }
   ],
   "source": [
    "distinct_test_df[\"pred_label\"] = [True if l == 1 else False for l in predicted_labels]\n",
    "distinct_test_df[\"agree\"] = distinct_test_df[\"pred_label\"] == distinct_test_df[\"is_same_side\"]\n",
    "df1 = distinct_test_df[[\"debate_id\", \"agree\"]].groupby(\"debate_id\").sum(\"agree\").sort_values(\"agree\", ascending = False)\n",
    "df1.head(20)"
   ]
  },
  {
   "cell_type": "code",
   "execution_count": 118,
   "metadata": {},
   "outputs": [
    {
     "data": {
      "text/html": [
       "<div>\n",
       "<style scoped>\n",
       "    .dataframe tbody tr th:only-of-type {\n",
       "        vertical-align: middle;\n",
       "    }\n",
       "\n",
       "    .dataframe tbody tr th {\n",
       "        vertical-align: top;\n",
       "    }\n",
       "\n",
       "    .dataframe thead th {\n",
       "        text-align: right;\n",
       "    }\n",
       "</style>\n",
       "<table border=\"1\" class=\"dataframe\">\n",
       "  <thead>\n",
       "    <tr style=\"text-align: right;\">\n",
       "      <th></th>\n",
       "      <th>debate_id</th>\n",
       "    </tr>\n",
       "  </thead>\n",
       "  <tbody>\n",
       "    <tr>\n",
       "      <th>b187e621-2019-04-18T11:10:43Z</th>\n",
       "      <td>18</td>\n",
       "    </tr>\n",
       "    <tr>\n",
       "      <th>b1853369-2019-04-18T18:17:49Z</th>\n",
       "      <td>17</td>\n",
       "    </tr>\n",
       "    <tr>\n",
       "      <th>33ca75e3-2019-04-18T18:42:44Z</th>\n",
       "      <td>17</td>\n",
       "    </tr>\n",
       "    <tr>\n",
       "      <th>92ad51a3-2019-04-18T17:27:45Z</th>\n",
       "      <td>17</td>\n",
       "    </tr>\n",
       "    <tr>\n",
       "      <th>f0197a2b-2019-04-18T16:51:04Z</th>\n",
       "      <td>14</td>\n",
       "    </tr>\n",
       "    <tr>\n",
       "      <th>b1861fe8-2019-04-18T15:14:30Z</th>\n",
       "      <td>14</td>\n",
       "    </tr>\n",
       "    <tr>\n",
       "      <th>6335507c-2019-04-18T15:08:16Z</th>\n",
       "      <td>11</td>\n",
       "    </tr>\n",
       "    <tr>\n",
       "      <th>6d03fb92-2019-04-18T17:16:08Z</th>\n",
       "      <td>11</td>\n",
       "    </tr>\n",
       "    <tr>\n",
       "      <th>c0717fda-2019-04-18T18:19:13Z</th>\n",
       "      <td>11</td>\n",
       "    </tr>\n",
       "    <tr>\n",
       "      <th>5c1ef67c-2019-04-18T13:55:20Z</th>\n",
       "      <td>11</td>\n",
       "    </tr>\n",
       "    <tr>\n",
       "      <th>c28d0454-2019-04-18T19:54:11Z</th>\n",
       "      <td>11</td>\n",
       "    </tr>\n",
       "    <tr>\n",
       "      <th>47ca9ad0-2019-04-18T18:53:33Z</th>\n",
       "      <td>11</td>\n",
       "    </tr>\n",
       "    <tr>\n",
       "      <th>b1870960-2019-04-18T12:46:43Z</th>\n",
       "      <td>11</td>\n",
       "    </tr>\n",
       "    <tr>\n",
       "      <th>3d4f5783-2019-04-18T15:57:08Z</th>\n",
       "      <td>11</td>\n",
       "    </tr>\n",
       "    <tr>\n",
       "      <th>d9e90225-2019-04-18T18:39:19Z</th>\n",
       "      <td>11</td>\n",
       "    </tr>\n",
       "    <tr>\n",
       "      <th>11d51208-2019-04-18T15:14:47Z</th>\n",
       "      <td>11</td>\n",
       "    </tr>\n",
       "    <tr>\n",
       "      <th>32e6c1e1-2019-04-18T20:01:30Z</th>\n",
       "      <td>11</td>\n",
       "    </tr>\n",
       "    <tr>\n",
       "      <th>b1867a5d-2019-04-18T14:56:22Z</th>\n",
       "      <td>11</td>\n",
       "    </tr>\n",
       "    <tr>\n",
       "      <th>cc30211a-2019-04-18T16:20:17Z</th>\n",
       "      <td>11</td>\n",
       "    </tr>\n",
       "    <tr>\n",
       "      <th>c7348549-2019-04-18T14:49:46Z</th>\n",
       "      <td>11</td>\n",
       "    </tr>\n",
       "  </tbody>\n",
       "</table>\n",
       "</div>"
      ],
      "text/plain": [
       "                               debate_id\n",
       "b187e621-2019-04-18T11:10:43Z         18\n",
       "b1853369-2019-04-18T18:17:49Z         17\n",
       "33ca75e3-2019-04-18T18:42:44Z         17\n",
       "92ad51a3-2019-04-18T17:27:45Z         17\n",
       "f0197a2b-2019-04-18T16:51:04Z         14\n",
       "b1861fe8-2019-04-18T15:14:30Z         14\n",
       "6335507c-2019-04-18T15:08:16Z         11\n",
       "6d03fb92-2019-04-18T17:16:08Z         11\n",
       "c0717fda-2019-04-18T18:19:13Z         11\n",
       "5c1ef67c-2019-04-18T13:55:20Z         11\n",
       "c28d0454-2019-04-18T19:54:11Z         11\n",
       "47ca9ad0-2019-04-18T18:53:33Z         11\n",
       "b1870960-2019-04-18T12:46:43Z         11\n",
       "3d4f5783-2019-04-18T15:57:08Z         11\n",
       "d9e90225-2019-04-18T18:39:19Z         11\n",
       "11d51208-2019-04-18T15:14:47Z         11\n",
       "32e6c1e1-2019-04-18T20:01:30Z         11\n",
       "b1867a5d-2019-04-18T14:56:22Z         11\n",
       "cc30211a-2019-04-18T16:20:17Z         11\n",
       "c7348549-2019-04-18T14:49:46Z         11"
      ]
     },
     "execution_count": 118,
     "metadata": {},
     "output_type": "execute_result"
    }
   ],
   "source": [
    "df2 = distinct_test_df.debate_id.value_counts().to_frame()\n",
    "df2.head(20)"
   ]
  },
  {
   "cell_type": "code",
   "execution_count": 133,
   "metadata": {},
   "outputs": [
    {
     "data": {
      "text/html": [
       "<div>\n",
       "<style scoped>\n",
       "    .dataframe tbody tr th:only-of-type {\n",
       "        vertical-align: middle;\n",
       "    }\n",
       "\n",
       "    .dataframe tbody tr th {\n",
       "        vertical-align: top;\n",
       "    }\n",
       "\n",
       "    .dataframe thead th {\n",
       "        text-align: right;\n",
       "    }\n",
       "</style>\n",
       "<table border=\"1\" class=\"dataframe\">\n",
       "  <thead>\n",
       "    <tr style=\"text-align: right;\">\n",
       "      <th></th>\n",
       "      <th>agree</th>\n",
       "      <th>debate_id</th>\n",
       "      <th>acc</th>\n",
       "    </tr>\n",
       "  </thead>\n",
       "  <tbody>\n",
       "    <tr>\n",
       "      <th>33ca75e3-2019-04-18T18:42:44Z</th>\n",
       "      <td>17</td>\n",
       "      <td>17</td>\n",
       "      <td>1.000000</td>\n",
       "    </tr>\n",
       "    <tr>\n",
       "      <th>92ad51a3-2019-04-18T17:27:45Z</th>\n",
       "      <td>13</td>\n",
       "      <td>17</td>\n",
       "      <td>0.764706</td>\n",
       "    </tr>\n",
       "    <tr>\n",
       "      <th>b1853369-2019-04-18T18:17:49Z</th>\n",
       "      <td>13</td>\n",
       "      <td>17</td>\n",
       "      <td>0.764706</td>\n",
       "    </tr>\n",
       "    <tr>\n",
       "      <th>895cd490-2019-04-18T15:36:44Z</th>\n",
       "      <td>11</td>\n",
       "      <td>11</td>\n",
       "      <td>1.000000</td>\n",
       "    </tr>\n",
       "    <tr>\n",
       "      <th>11d51208-2019-04-18T15:14:47Z</th>\n",
       "      <td>11</td>\n",
       "      <td>11</td>\n",
       "      <td>1.000000</td>\n",
       "    </tr>\n",
       "    <tr>\n",
       "      <th>b187e621-2019-04-18T11:10:43Z</th>\n",
       "      <td>11</td>\n",
       "      <td>18</td>\n",
       "      <td>0.611111</td>\n",
       "    </tr>\n",
       "    <tr>\n",
       "      <th>fc305b97-2019-04-18T18:43:58Z</th>\n",
       "      <td>11</td>\n",
       "      <td>11</td>\n",
       "      <td>1.000000</td>\n",
       "    </tr>\n",
       "    <tr>\n",
       "      <th>b185370b-2019-04-18T18:07:10Z</th>\n",
       "      <td>11</td>\n",
       "      <td>11</td>\n",
       "      <td>1.000000</td>\n",
       "    </tr>\n",
       "    <tr>\n",
       "      <th>b1853e8d-2019-04-18T17:51:22Z</th>\n",
       "      <td>10</td>\n",
       "      <td>11</td>\n",
       "      <td>0.909091</td>\n",
       "    </tr>\n",
       "    <tr>\n",
       "      <th>5a26ecda-2019-04-18T14:57:07Z</th>\n",
       "      <td>10</td>\n",
       "      <td>11</td>\n",
       "      <td>0.909091</td>\n",
       "    </tr>\n",
       "    <tr>\n",
       "      <th>e19711e0-2019-04-18T17:35:03Z</th>\n",
       "      <td>10</td>\n",
       "      <td>10</td>\n",
       "      <td>1.000000</td>\n",
       "    </tr>\n",
       "    <tr>\n",
       "      <th>b18528a2-2019-04-18T18:31:36Z</th>\n",
       "      <td>10</td>\n",
       "      <td>10</td>\n",
       "      <td>1.000000</td>\n",
       "    </tr>\n",
       "    <tr>\n",
       "      <th>d9e8f2e3-2019-04-18T19:14:57Z</th>\n",
       "      <td>10</td>\n",
       "      <td>10</td>\n",
       "      <td>1.000000</td>\n",
       "    </tr>\n",
       "    <tr>\n",
       "      <th>32ddce5a-2019-04-18T20:01:04Z</th>\n",
       "      <td>10</td>\n",
       "      <td>11</td>\n",
       "      <td>0.909091</td>\n",
       "    </tr>\n",
       "    <tr>\n",
       "      <th>b1860d80-2019-04-18T15:57:02Z</th>\n",
       "      <td>10</td>\n",
       "      <td>11</td>\n",
       "      <td>0.909091</td>\n",
       "    </tr>\n",
       "    <tr>\n",
       "      <th>5c92703c-2019-04-18T15:40:03Z</th>\n",
       "      <td>10</td>\n",
       "      <td>11</td>\n",
       "      <td>0.909091</td>\n",
       "    </tr>\n",
       "    <tr>\n",
       "      <th>3396416d-2019-04-18T13:25:28Z</th>\n",
       "      <td>10</td>\n",
       "      <td>10</td>\n",
       "      <td>1.000000</td>\n",
       "    </tr>\n",
       "    <tr>\n",
       "      <th>b1867e7b-2019-04-18T14:42:19Z</th>\n",
       "      <td>10</td>\n",
       "      <td>11</td>\n",
       "      <td>0.909091</td>\n",
       "    </tr>\n",
       "    <tr>\n",
       "      <th>c0717fda-2019-04-18T18:19:13Z</th>\n",
       "      <td>10</td>\n",
       "      <td>11</td>\n",
       "      <td>0.909091</td>\n",
       "    </tr>\n",
       "    <tr>\n",
       "      <th>70a50579-2019-04-18T19:55:39Z</th>\n",
       "      <td>10</td>\n",
       "      <td>10</td>\n",
       "      <td>1.000000</td>\n",
       "    </tr>\n",
       "    <tr>\n",
       "      <th>7586b47f-2019-04-18T17:28:15Z</th>\n",
       "      <td>10</td>\n",
       "      <td>10</td>\n",
       "      <td>1.000000</td>\n",
       "    </tr>\n",
       "    <tr>\n",
       "      <th>255646d7-2019-04-18T19:49:20Z</th>\n",
       "      <td>9</td>\n",
       "      <td>11</td>\n",
       "      <td>0.818182</td>\n",
       "    </tr>\n",
       "    <tr>\n",
       "      <th>e6dd9be0-2019-04-18T12:08:18Z</th>\n",
       "      <td>9</td>\n",
       "      <td>11</td>\n",
       "      <td>0.818182</td>\n",
       "    </tr>\n",
       "    <tr>\n",
       "      <th>5ddec80a-2019-04-18T13:46:23Z</th>\n",
       "      <td>9</td>\n",
       "      <td>10</td>\n",
       "      <td>0.900000</td>\n",
       "    </tr>\n",
       "    <tr>\n",
       "      <th>de7e68bd-2019-04-18T16:29:42Z</th>\n",
       "      <td>9</td>\n",
       "      <td>10</td>\n",
       "      <td>0.900000</td>\n",
       "    </tr>\n",
       "    <tr>\n",
       "      <th>2bb0061-2019-04-18T15:13:40Z</th>\n",
       "      <td>9</td>\n",
       "      <td>11</td>\n",
       "      <td>0.818182</td>\n",
       "    </tr>\n",
       "    <tr>\n",
       "      <th>98f46b98-2019-04-18T17:18:12Z</th>\n",
       "      <td>9</td>\n",
       "      <td>11</td>\n",
       "      <td>0.818182</td>\n",
       "    </tr>\n",
       "    <tr>\n",
       "      <th>b1868904-2019-04-18T14:19:20Z</th>\n",
       "      <td>9</td>\n",
       "      <td>10</td>\n",
       "      <td>0.900000</td>\n",
       "    </tr>\n",
       "    <tr>\n",
       "      <th>d76dccec-2019-04-18T19:56:26Z</th>\n",
       "      <td>9</td>\n",
       "      <td>9</td>\n",
       "      <td>1.000000</td>\n",
       "    </tr>\n",
       "    <tr>\n",
       "      <th>376838c7-2019-04-18T14:42:31Z</th>\n",
       "      <td>9</td>\n",
       "      <td>11</td>\n",
       "      <td>0.818182</td>\n",
       "    </tr>\n",
       "    <tr>\n",
       "      <th>f748787a-2019-04-18T12:01:51Z</th>\n",
       "      <td>9</td>\n",
       "      <td>9</td>\n",
       "      <td>1.000000</td>\n",
       "    </tr>\n",
       "    <tr>\n",
       "      <th>b1870960-2019-04-18T12:46:43Z</th>\n",
       "      <td>9</td>\n",
       "      <td>11</td>\n",
       "      <td>0.818182</td>\n",
       "    </tr>\n",
       "    <tr>\n",
       "      <th>39a67f9c-2019-04-18T13:05:17Z</th>\n",
       "      <td>9</td>\n",
       "      <td>9</td>\n",
       "      <td>1.000000</td>\n",
       "    </tr>\n",
       "    <tr>\n",
       "      <th>593f3dd1-2019-04-18T14:35:14Z</th>\n",
       "      <td>9</td>\n",
       "      <td>11</td>\n",
       "      <td>0.818182</td>\n",
       "    </tr>\n",
       "    <tr>\n",
       "      <th>29e606e4-2019-04-18T17:19:12Z</th>\n",
       "      <td>9</td>\n",
       "      <td>11</td>\n",
       "      <td>0.818182</td>\n",
       "    </tr>\n",
       "    <tr>\n",
       "      <th>7586bc7d-2019-04-18T15:12:18Z</th>\n",
       "      <td>9</td>\n",
       "      <td>10</td>\n",
       "      <td>0.900000</td>\n",
       "    </tr>\n",
       "    <tr>\n",
       "      <th>cb76cebf-2019-04-18T12:15:12Z</th>\n",
       "      <td>9</td>\n",
       "      <td>9</td>\n",
       "      <td>1.000000</td>\n",
       "    </tr>\n",
       "    <tr>\n",
       "      <th>999d9ae6-2019-04-18T18:41:00Z</th>\n",
       "      <td>9</td>\n",
       "      <td>9</td>\n",
       "      <td>1.000000</td>\n",
       "    </tr>\n",
       "    <tr>\n",
       "      <th>5aefc203-2019-04-18T19:20:39Z</th>\n",
       "      <td>9</td>\n",
       "      <td>10</td>\n",
       "      <td>0.900000</td>\n",
       "    </tr>\n",
       "    <tr>\n",
       "      <th>63346ec4-2019-04-18T18:11:20Z</th>\n",
       "      <td>9</td>\n",
       "      <td>9</td>\n",
       "      <td>1.000000</td>\n",
       "    </tr>\n",
       "    <tr>\n",
       "      <th>6fec44e5-2019-04-18T18:28:08Z</th>\n",
       "      <td>9</td>\n",
       "      <td>11</td>\n",
       "      <td>0.818182</td>\n",
       "    </tr>\n",
       "    <tr>\n",
       "      <th>c28d0454-2019-04-18T19:54:11Z</th>\n",
       "      <td>9</td>\n",
       "      <td>11</td>\n",
       "      <td>0.818182</td>\n",
       "    </tr>\n",
       "    <tr>\n",
       "      <th>ec2de89b-2019-04-18T19:46:40Z</th>\n",
       "      <td>9</td>\n",
       "      <td>9</td>\n",
       "      <td>1.000000</td>\n",
       "    </tr>\n",
       "    <tr>\n",
       "      <th>5c1ef67c-2019-04-18T13:55:20Z</th>\n",
       "      <td>9</td>\n",
       "      <td>11</td>\n",
       "      <td>0.818182</td>\n",
       "    </tr>\n",
       "    <tr>\n",
       "      <th>1557725f-2019-04-18T16:09:03Z</th>\n",
       "      <td>8</td>\n",
       "      <td>10</td>\n",
       "      <td>0.800000</td>\n",
       "    </tr>\n",
       "    <tr>\n",
       "      <th>d52a3f60-2019-04-18T20:03:00Z</th>\n",
       "      <td>8</td>\n",
       "      <td>11</td>\n",
       "      <td>0.727273</td>\n",
       "    </tr>\n",
       "    <tr>\n",
       "      <th>3395b780-2019-04-18T16:18:23Z</th>\n",
       "      <td>8</td>\n",
       "      <td>11</td>\n",
       "      <td>0.727273</td>\n",
       "    </tr>\n",
       "    <tr>\n",
       "      <th>33969802-2019-04-18T12:47:19Z</th>\n",
       "      <td>8</td>\n",
       "      <td>9</td>\n",
       "      <td>0.888889</td>\n",
       "    </tr>\n",
       "    <tr>\n",
       "      <th>d9e8f286-2019-04-18T19:18:44Z</th>\n",
       "      <td>8</td>\n",
       "      <td>10</td>\n",
       "      <td>0.800000</td>\n",
       "    </tr>\n",
       "    <tr>\n",
       "      <th>b1861fe8-2019-04-18T15:14:30Z</th>\n",
       "      <td>8</td>\n",
       "      <td>14</td>\n",
       "      <td>0.571429</td>\n",
       "    </tr>\n",
       "  </tbody>\n",
       "</table>\n",
       "</div>"
      ],
      "text/plain": [
       "                               agree  debate_id       acc\n",
       "33ca75e3-2019-04-18T18:42:44Z     17         17  1.000000\n",
       "92ad51a3-2019-04-18T17:27:45Z     13         17  0.764706\n",
       "b1853369-2019-04-18T18:17:49Z     13         17  0.764706\n",
       "895cd490-2019-04-18T15:36:44Z     11         11  1.000000\n",
       "11d51208-2019-04-18T15:14:47Z     11         11  1.000000\n",
       "b187e621-2019-04-18T11:10:43Z     11         18  0.611111\n",
       "fc305b97-2019-04-18T18:43:58Z     11         11  1.000000\n",
       "b185370b-2019-04-18T18:07:10Z     11         11  1.000000\n",
       "b1853e8d-2019-04-18T17:51:22Z     10         11  0.909091\n",
       "5a26ecda-2019-04-18T14:57:07Z     10         11  0.909091\n",
       "e19711e0-2019-04-18T17:35:03Z     10         10  1.000000\n",
       "b18528a2-2019-04-18T18:31:36Z     10         10  1.000000\n",
       "d9e8f2e3-2019-04-18T19:14:57Z     10         10  1.000000\n",
       "32ddce5a-2019-04-18T20:01:04Z     10         11  0.909091\n",
       "b1860d80-2019-04-18T15:57:02Z     10         11  0.909091\n",
       "5c92703c-2019-04-18T15:40:03Z     10         11  0.909091\n",
       "3396416d-2019-04-18T13:25:28Z     10         10  1.000000\n",
       "b1867e7b-2019-04-18T14:42:19Z     10         11  0.909091\n",
       "c0717fda-2019-04-18T18:19:13Z     10         11  0.909091\n",
       "70a50579-2019-04-18T19:55:39Z     10         10  1.000000\n",
       "7586b47f-2019-04-18T17:28:15Z     10         10  1.000000\n",
       "255646d7-2019-04-18T19:49:20Z      9         11  0.818182\n",
       "e6dd9be0-2019-04-18T12:08:18Z      9         11  0.818182\n",
       "5ddec80a-2019-04-18T13:46:23Z      9         10  0.900000\n",
       "de7e68bd-2019-04-18T16:29:42Z      9         10  0.900000\n",
       "2bb0061-2019-04-18T15:13:40Z       9         11  0.818182\n",
       "98f46b98-2019-04-18T17:18:12Z      9         11  0.818182\n",
       "b1868904-2019-04-18T14:19:20Z      9         10  0.900000\n",
       "d76dccec-2019-04-18T19:56:26Z      9          9  1.000000\n",
       "376838c7-2019-04-18T14:42:31Z      9         11  0.818182\n",
       "f748787a-2019-04-18T12:01:51Z      9          9  1.000000\n",
       "b1870960-2019-04-18T12:46:43Z      9         11  0.818182\n",
       "39a67f9c-2019-04-18T13:05:17Z      9          9  1.000000\n",
       "593f3dd1-2019-04-18T14:35:14Z      9         11  0.818182\n",
       "29e606e4-2019-04-18T17:19:12Z      9         11  0.818182\n",
       "7586bc7d-2019-04-18T15:12:18Z      9         10  0.900000\n",
       "cb76cebf-2019-04-18T12:15:12Z      9          9  1.000000\n",
       "999d9ae6-2019-04-18T18:41:00Z      9          9  1.000000\n",
       "5aefc203-2019-04-18T19:20:39Z      9         10  0.900000\n",
       "63346ec4-2019-04-18T18:11:20Z      9          9  1.000000\n",
       "6fec44e5-2019-04-18T18:28:08Z      9         11  0.818182\n",
       "c28d0454-2019-04-18T19:54:11Z      9         11  0.818182\n",
       "ec2de89b-2019-04-18T19:46:40Z      9          9  1.000000\n",
       "5c1ef67c-2019-04-18T13:55:20Z      9         11  0.818182\n",
       "1557725f-2019-04-18T16:09:03Z      8         10  0.800000\n",
       "d52a3f60-2019-04-18T20:03:00Z      8         11  0.727273\n",
       "3395b780-2019-04-18T16:18:23Z      8         11  0.727273\n",
       "33969802-2019-04-18T12:47:19Z      8          9  0.888889\n",
       "d9e8f286-2019-04-18T19:18:44Z      8         10  0.800000\n",
       "b1861fe8-2019-04-18T15:14:30Z      8         14  0.571429"
      ]
     },
     "execution_count": 133,
     "metadata": {},
     "output_type": "execute_result"
    }
   ],
   "source": [
    "df3 = pd.merge(df1, df2, left_index = True, right_index = True)\n",
    "df3[\"acc\"] =  df3.agree / df3.debate_id\n",
    "df3.head(50)"
   ]
  },
  {
   "cell_type": "code",
   "execution_count": 131,
   "metadata": {},
   "outputs": [
    {
     "data": {
      "text/html": [
       "<div>\n",
       "<style scoped>\n",
       "    .dataframe tbody tr th:only-of-type {\n",
       "        vertical-align: middle;\n",
       "    }\n",
       "\n",
       "    .dataframe tbody tr th {\n",
       "        vertical-align: top;\n",
       "    }\n",
       "\n",
       "    .dataframe thead th {\n",
       "        text-align: right;\n",
       "    }\n",
       "</style>\n",
       "<table border=\"1\" class=\"dataframe\">\n",
       "  <thead>\n",
       "    <tr style=\"text-align: right;\">\n",
       "      <th></th>\n",
       "      <th>acc</th>\n",
       "    </tr>\n",
       "    <tr>\n",
       "      <th>debate_id</th>\n",
       "      <th></th>\n",
       "    </tr>\n",
       "  </thead>\n",
       "  <tbody>\n",
       "    <tr>\n",
       "      <th>1</th>\n",
       "      <td>0.711864</td>\n",
       "    </tr>\n",
       "    <tr>\n",
       "      <th>2</th>\n",
       "      <td>0.707792</td>\n",
       "    </tr>\n",
       "    <tr>\n",
       "      <th>3</th>\n",
       "      <td>0.654472</td>\n",
       "    </tr>\n",
       "    <tr>\n",
       "      <th>4</th>\n",
       "      <td>0.742754</td>\n",
       "    </tr>\n",
       "    <tr>\n",
       "      <th>5</th>\n",
       "      <td>0.681928</td>\n",
       "    </tr>\n",
       "    <tr>\n",
       "      <th>6</th>\n",
       "      <td>0.741830</td>\n",
       "    </tr>\n",
       "    <tr>\n",
       "      <th>7</th>\n",
       "      <td>0.719048</td>\n",
       "    </tr>\n",
       "    <tr>\n",
       "      <th>8</th>\n",
       "      <td>0.679348</td>\n",
       "    </tr>\n",
       "    <tr>\n",
       "      <th>9</th>\n",
       "      <td>0.721368</td>\n",
       "    </tr>\n",
       "    <tr>\n",
       "      <th>10</th>\n",
       "      <td>0.692537</td>\n",
       "    </tr>\n",
       "    <tr>\n",
       "      <th>11</th>\n",
       "      <td>0.736549</td>\n",
       "    </tr>\n",
       "    <tr>\n",
       "      <th>14</th>\n",
       "      <td>0.535714</td>\n",
       "    </tr>\n",
       "    <tr>\n",
       "      <th>17</th>\n",
       "      <td>0.843137</td>\n",
       "    </tr>\n",
       "    <tr>\n",
       "      <th>18</th>\n",
       "      <td>0.611111</td>\n",
       "    </tr>\n",
       "  </tbody>\n",
       "</table>\n",
       "</div>"
      ],
      "text/plain": [
       "                acc\n",
       "debate_id          \n",
       "1          0.711864\n",
       "2          0.707792\n",
       "3          0.654472\n",
       "4          0.742754\n",
       "5          0.681928\n",
       "6          0.741830\n",
       "7          0.719048\n",
       "8          0.679348\n",
       "9          0.721368\n",
       "10         0.692537\n",
       "11         0.736549\n",
       "14         0.535714\n",
       "17         0.843137\n",
       "18         0.611111"
      ]
     },
     "execution_count": 131,
     "metadata": {},
     "output_type": "execute_result"
    }
   ],
   "source": [
    "df3[[\"debate_id\", \"acc\"]].groupby(\"debate_id\").mean(\"acc\")"
   ]
  },
  {
   "cell_type": "markdown",
   "metadata": {},
   "source": [
    "## Overlap"
   ]
  },
  {
   "cell_type": "code",
   "execution_count": 162,
   "metadata": {},
   "outputs": [
    {
     "name": "stderr",
     "output_type": "stream",
     "text": [
      "INFO:simpletransformers.classification.classification_model: Converting to features started. Cache is not used.\n"
     ]
    },
    {
     "data": {
      "application/vnd.jupyter.widget-view+json": {
       "model_id": "c674b2f7839c448b9397e248a8dae517",
       "version_major": 2,
       "version_minor": 0
      },
      "text/plain": [
       "HBox(children=(FloatProgress(value=0.0, max=4381.0), HTML(value='')))"
      ]
     },
     "metadata": {},
     "output_type": "display_data"
    },
    {
     "name": "stdout",
     "output_type": "stream",
     "text": [
      "\n"
     ]
    },
    {
     "data": {
      "application/vnd.jupyter.widget-view+json": {
       "model_id": "e7e3037f6b544bfaa89aaf624d284a20",
       "version_major": 2,
       "version_minor": 0
      },
      "text/plain": [
       "HBox(children=(FloatProgress(value=0.0, description='Running Evaluation', max=548.0, style=ProgressStyle(descr…"
      ]
     },
     "metadata": {},
     "output_type": "display_data"
    },
    {
     "name": "stdout",
     "output_type": "stream",
     "text": [
      "\n"
     ]
    },
    {
     "name": "stderr",
     "output_type": "stream",
     "text": [
      "INFO:simpletransformers.classification.classification_model:{'mcc': 0.41935149500238844, 'tp': 1027, 'tn': 2105, 'fp': 341, 'fn': 908, 'acc': 0.7149052727687742, 'precision': 0.7246851120776829, 'recall': 0.6956690351383158, 'f1': 0.6965312166322621, 'eval_loss': 0.5707390998839825}\n"
     ]
    }
   ],
   "source": [
    "model_to_test = ('albert', 'albert-base-v2')\n",
    "i = 2\n",
    "train_args = get_train_args(\"exp_\" + str(i))\n",
    "model = ClassificationModel(model_to_test[0], train_args['best_model_dir'], num_labels=2, use_cuda=True, cuda_device=0, args=train_args)\n",
    "result, model_outputs, wrong_predictions = model.eval_model(\n",
    "    reformat_df(overlap_test_df), \n",
    "    acc=sklearn.metrics.accuracy_score, \n",
    "    precision=precision_macro, \n",
    "    recall=recall_macro, \n",
    "    f1=f1_macro\n",
    ")"
   ]
  },
  {
   "cell_type": "code",
   "execution_count": 163,
   "metadata": {},
   "outputs": [
    {
     "data": {
      "text/plain": [
       "4381"
      ]
     },
     "execution_count": 163,
     "metadata": {},
     "output_type": "execute_result"
    }
   ],
   "source": [
    "predicted_labels = model_outputs.argmax(axis=-1)\n",
    "len(predicted_labels)"
   ]
  },
  {
   "cell_type": "code",
   "execution_count": 164,
   "metadata": {},
   "outputs": [
    {
     "data": {
      "text/html": [
       "<div>\n",
       "<style scoped>\n",
       "    .dataframe tbody tr th:only-of-type {\n",
       "        vertical-align: middle;\n",
       "    }\n",
       "\n",
       "    .dataframe tbody tr th {\n",
       "        vertical-align: top;\n",
       "    }\n",
       "\n",
       "    .dataframe thead th {\n",
       "        text-align: right;\n",
       "    }\n",
       "</style>\n",
       "<table border=\"1\" class=\"dataframe\">\n",
       "  <thead>\n",
       "    <tr style=\"text-align: right;\">\n",
       "      <th></th>\n",
       "      <th>agree</th>\n",
       "    </tr>\n",
       "    <tr>\n",
       "      <th>debate_id</th>\n",
       "      <th></th>\n",
       "    </tr>\n",
       "  </thead>\n",
       "  <tbody>\n",
       "    <tr>\n",
       "      <th>b67fc3fb-2019-04-17T11:47:41Z</th>\n",
       "      <td>122</td>\n",
       "    </tr>\n",
       "    <tr>\n",
       "      <th>d2f4b1cd-2019-04-17T11:47:27Z</th>\n",
       "      <td>92</td>\n",
       "    </tr>\n",
       "    <tr>\n",
       "      <th>40f91664-2019-04-17T11:47:29Z</th>\n",
       "      <td>50</td>\n",
       "    </tr>\n",
       "    <tr>\n",
       "      <th>475596d3-2019-04-17T11:47:21Z</th>\n",
       "      <td>32</td>\n",
       "    </tr>\n",
       "    <tr>\n",
       "      <th>414eb72a-2019-04-19T12:45:01Z</th>\n",
       "      <td>19</td>\n",
       "    </tr>\n",
       "    <tr>\n",
       "      <th>b44abf31-2019-04-19T12:47:38Z</th>\n",
       "      <td>6</td>\n",
       "    </tr>\n",
       "    <tr>\n",
       "      <th>505b52ea-2019-04-18T18:45:44Z</th>\n",
       "      <td>5</td>\n",
       "    </tr>\n",
       "    <tr>\n",
       "      <th>b186fa3d-2019-04-18T13:12:02Z</th>\n",
       "      <td>5</td>\n",
       "    </tr>\n",
       "    <tr>\n",
       "      <th>ac9fa785-2019-04-15T20:24:42Z</th>\n",
       "      <td>5</td>\n",
       "    </tr>\n",
       "    <tr>\n",
       "      <th>34222b33-2019-04-18T15:09:25Z</th>\n",
       "      <td>5</td>\n",
       "    </tr>\n",
       "    <tr>\n",
       "      <th>b1852408-2019-04-18T18:38:52Z</th>\n",
       "      <td>5</td>\n",
       "    </tr>\n",
       "    <tr>\n",
       "      <th>b1852ba9-2019-04-18T18:28:00Z</th>\n",
       "      <td>5</td>\n",
       "    </tr>\n",
       "    <tr>\n",
       "      <th>633553c1-2019-04-18T15:02:29Z</th>\n",
       "      <td>5</td>\n",
       "    </tr>\n",
       "    <tr>\n",
       "      <th>e0db333b-2019-04-18T11:26:23Z</th>\n",
       "      <td>5</td>\n",
       "    </tr>\n",
       "    <tr>\n",
       "      <th>4366841b-2019-04-18T15:33:58Z</th>\n",
       "      <td>4</td>\n",
       "    </tr>\n",
       "    <tr>\n",
       "      <th>83672f1d-2019-04-18T11:13:31Z</th>\n",
       "      <td>4</td>\n",
       "    </tr>\n",
       "    <tr>\n",
       "      <th>3dff2962-2019-04-18T19:33:18Z</th>\n",
       "      <td>4</td>\n",
       "    </tr>\n",
       "    <tr>\n",
       "      <th>5022a952-2019-04-18T15:00:38Z</th>\n",
       "      <td>4</td>\n",
       "    </tr>\n",
       "    <tr>\n",
       "      <th>b186238a-2019-04-18T15:09:02Z</th>\n",
       "      <td>4</td>\n",
       "    </tr>\n",
       "    <tr>\n",
       "      <th>e90444ea-2019-04-18T18:24:59Z</th>\n",
       "      <td>4</td>\n",
       "    </tr>\n",
       "  </tbody>\n",
       "</table>\n",
       "</div>"
      ],
      "text/plain": [
       "                               agree\n",
       "debate_id                           \n",
       "b67fc3fb-2019-04-17T11:47:41Z    122\n",
       "d2f4b1cd-2019-04-17T11:47:27Z     92\n",
       "40f91664-2019-04-17T11:47:29Z     50\n",
       "475596d3-2019-04-17T11:47:21Z     32\n",
       "414eb72a-2019-04-19T12:45:01Z     19\n",
       "b44abf31-2019-04-19T12:47:38Z      6\n",
       "505b52ea-2019-04-18T18:45:44Z      5\n",
       "b186fa3d-2019-04-18T13:12:02Z      5\n",
       "ac9fa785-2019-04-15T20:24:42Z      5\n",
       "34222b33-2019-04-18T15:09:25Z      5\n",
       "b1852408-2019-04-18T18:38:52Z      5\n",
       "b1852ba9-2019-04-18T18:28:00Z      5\n",
       "633553c1-2019-04-18T15:02:29Z      5\n",
       "e0db333b-2019-04-18T11:26:23Z      5\n",
       "4366841b-2019-04-18T15:33:58Z      4\n",
       "83672f1d-2019-04-18T11:13:31Z      4\n",
       "3dff2962-2019-04-18T19:33:18Z      4\n",
       "5022a952-2019-04-18T15:00:38Z      4\n",
       "b186238a-2019-04-18T15:09:02Z      4\n",
       "e90444ea-2019-04-18T18:24:59Z      4"
      ]
     },
     "execution_count": 164,
     "metadata": {},
     "output_type": "execute_result"
    }
   ],
   "source": [
    "overlap_test_df[\"pred_label\"] = [True if l == 1 else False for l in predicted_labels]\n",
    "overlap_test_df[\"agree\"] = overlap_test_df[\"pred_label\"] == overlap_test_df[\"is_same_side\"]\n",
    "df1 = overlap_test_df[[\"debate_id\", \"agree\"]].groupby(\"debate_id\").sum(\"agree\").sort_values(\"agree\", ascending = False)\n",
    "df1.head(20)"
   ]
  },
  {
   "cell_type": "code",
   "execution_count": 165,
   "metadata": {},
   "outputs": [
    {
     "data": {
      "text/html": [
       "<div>\n",
       "<style scoped>\n",
       "    .dataframe tbody tr th:only-of-type {\n",
       "        vertical-align: middle;\n",
       "    }\n",
       "\n",
       "    .dataframe tbody tr th {\n",
       "        vertical-align: top;\n",
       "    }\n",
       "\n",
       "    .dataframe thead th {\n",
       "        text-align: right;\n",
       "    }\n",
       "</style>\n",
       "<table border=\"1\" class=\"dataframe\">\n",
       "  <thead>\n",
       "    <tr style=\"text-align: right;\">\n",
       "      <th></th>\n",
       "      <th>debate_id</th>\n",
       "    </tr>\n",
       "  </thead>\n",
       "  <tbody>\n",
       "    <tr>\n",
       "      <th>b67fc3fb-2019-04-17T11:47:41Z</th>\n",
       "      <td>125</td>\n",
       "    </tr>\n",
       "    <tr>\n",
       "      <th>d2f4b1cd-2019-04-17T11:47:27Z</th>\n",
       "      <td>93</td>\n",
       "    </tr>\n",
       "    <tr>\n",
       "      <th>40f91664-2019-04-17T11:47:29Z</th>\n",
       "      <td>50</td>\n",
       "    </tr>\n",
       "    <tr>\n",
       "      <th>475596d3-2019-04-17T11:47:21Z</th>\n",
       "      <td>32</td>\n",
       "    </tr>\n",
       "    <tr>\n",
       "      <th>414eb72a-2019-04-19T12:45:01Z</th>\n",
       "      <td>31</td>\n",
       "    </tr>\n",
       "    <tr>\n",
       "      <th>b44abf31-2019-04-19T12:47:38Z</th>\n",
       "      <td>13</td>\n",
       "    </tr>\n",
       "    <tr>\n",
       "      <th>ac9fa785-2019-04-15T20:24:42Z</th>\n",
       "      <td>9</td>\n",
       "    </tr>\n",
       "    <tr>\n",
       "      <th>81e76103-2019-04-18T14:03:25Z</th>\n",
       "      <td>5</td>\n",
       "    </tr>\n",
       "    <tr>\n",
       "      <th>b186fa3d-2019-04-18T13:12:02Z</th>\n",
       "      <td>5</td>\n",
       "    </tr>\n",
       "    <tr>\n",
       "      <th>b186eebc-2019-04-18T13:35:03Z</th>\n",
       "      <td>5</td>\n",
       "    </tr>\n",
       "    <tr>\n",
       "      <th>f4649d91-2019-04-18T14:16:24Z</th>\n",
       "      <td>5</td>\n",
       "    </tr>\n",
       "    <tr>\n",
       "      <th>48d111c9-2019-04-18T17:07:06Z</th>\n",
       "      <td>5</td>\n",
       "    </tr>\n",
       "    <tr>\n",
       "      <th>e0db333b-2019-04-18T11:26:23Z</th>\n",
       "      <td>5</td>\n",
       "    </tr>\n",
       "    <tr>\n",
       "      <th>3783da19-2019-04-18T16:21:01Z</th>\n",
       "      <td>5</td>\n",
       "    </tr>\n",
       "    <tr>\n",
       "      <th>afb01fa7-2019-04-18T15:42:15Z</th>\n",
       "      <td>5</td>\n",
       "    </tr>\n",
       "    <tr>\n",
       "      <th>b1852be7-2019-04-18T18:27:09Z</th>\n",
       "      <td>5</td>\n",
       "    </tr>\n",
       "    <tr>\n",
       "      <th>b1852408-2019-04-18T18:38:52Z</th>\n",
       "      <td>5</td>\n",
       "    </tr>\n",
       "    <tr>\n",
       "      <th>df9e9614-2019-04-18T18:27:18Z</th>\n",
       "      <td>5</td>\n",
       "    </tr>\n",
       "    <tr>\n",
       "      <th>b18694c3-2019-04-18T13:51:52Z</th>\n",
       "      <td>5</td>\n",
       "    </tr>\n",
       "    <tr>\n",
       "      <th>34222b33-2019-04-18T15:09:25Z</th>\n",
       "      <td>5</td>\n",
       "    </tr>\n",
       "  </tbody>\n",
       "</table>\n",
       "</div>"
      ],
      "text/plain": [
       "                               debate_id\n",
       "b67fc3fb-2019-04-17T11:47:41Z        125\n",
       "d2f4b1cd-2019-04-17T11:47:27Z         93\n",
       "40f91664-2019-04-17T11:47:29Z         50\n",
       "475596d3-2019-04-17T11:47:21Z         32\n",
       "414eb72a-2019-04-19T12:45:01Z         31\n",
       "b44abf31-2019-04-19T12:47:38Z         13\n",
       "ac9fa785-2019-04-15T20:24:42Z          9\n",
       "81e76103-2019-04-18T14:03:25Z          5\n",
       "b186fa3d-2019-04-18T13:12:02Z          5\n",
       "b186eebc-2019-04-18T13:35:03Z          5\n",
       "f4649d91-2019-04-18T14:16:24Z          5\n",
       "48d111c9-2019-04-18T17:07:06Z          5\n",
       "e0db333b-2019-04-18T11:26:23Z          5\n",
       "3783da19-2019-04-18T16:21:01Z          5\n",
       "afb01fa7-2019-04-18T15:42:15Z          5\n",
       "b1852be7-2019-04-18T18:27:09Z          5\n",
       "b1852408-2019-04-18T18:38:52Z          5\n",
       "df9e9614-2019-04-18T18:27:18Z          5\n",
       "b18694c3-2019-04-18T13:51:52Z          5\n",
       "34222b33-2019-04-18T15:09:25Z          5"
      ]
     },
     "execution_count": 165,
     "metadata": {},
     "output_type": "execute_result"
    }
   ],
   "source": [
    "df2 = overlap_test_df.debate_id.value_counts().to_frame()\n",
    "df2.head(20)"
   ]
  },
  {
   "cell_type": "code",
   "execution_count": 166,
   "metadata": {},
   "outputs": [
    {
     "data": {
      "text/html": [
       "<div>\n",
       "<style scoped>\n",
       "    .dataframe tbody tr th:only-of-type {\n",
       "        vertical-align: middle;\n",
       "    }\n",
       "\n",
       "    .dataframe tbody tr th {\n",
       "        vertical-align: top;\n",
       "    }\n",
       "\n",
       "    .dataframe thead th {\n",
       "        text-align: right;\n",
       "    }\n",
       "</style>\n",
       "<table border=\"1\" class=\"dataframe\">\n",
       "  <thead>\n",
       "    <tr style=\"text-align: right;\">\n",
       "      <th></th>\n",
       "      <th>agree</th>\n",
       "      <th>debate_id</th>\n",
       "      <th>acc</th>\n",
       "    </tr>\n",
       "  </thead>\n",
       "  <tbody>\n",
       "    <tr>\n",
       "      <th>b67fc3fb-2019-04-17T11:47:41Z</th>\n",
       "      <td>122</td>\n",
       "      <td>125</td>\n",
       "      <td>0.976000</td>\n",
       "    </tr>\n",
       "    <tr>\n",
       "      <th>d2f4b1cd-2019-04-17T11:47:27Z</th>\n",
       "      <td>92</td>\n",
       "      <td>93</td>\n",
       "      <td>0.989247</td>\n",
       "    </tr>\n",
       "    <tr>\n",
       "      <th>40f91664-2019-04-17T11:47:29Z</th>\n",
       "      <td>50</td>\n",
       "      <td>50</td>\n",
       "      <td>1.000000</td>\n",
       "    </tr>\n",
       "    <tr>\n",
       "      <th>475596d3-2019-04-17T11:47:21Z</th>\n",
       "      <td>32</td>\n",
       "      <td>32</td>\n",
       "      <td>1.000000</td>\n",
       "    </tr>\n",
       "    <tr>\n",
       "      <th>414eb72a-2019-04-19T12:45:01Z</th>\n",
       "      <td>19</td>\n",
       "      <td>31</td>\n",
       "      <td>0.612903</td>\n",
       "    </tr>\n",
       "    <tr>\n",
       "      <th>b44abf31-2019-04-19T12:47:38Z</th>\n",
       "      <td>6</td>\n",
       "      <td>13</td>\n",
       "      <td>0.461538</td>\n",
       "    </tr>\n",
       "    <tr>\n",
       "      <th>505b52ea-2019-04-18T18:45:44Z</th>\n",
       "      <td>5</td>\n",
       "      <td>5</td>\n",
       "      <td>1.000000</td>\n",
       "    </tr>\n",
       "    <tr>\n",
       "      <th>b186fa3d-2019-04-18T13:12:02Z</th>\n",
       "      <td>5</td>\n",
       "      <td>5</td>\n",
       "      <td>1.000000</td>\n",
       "    </tr>\n",
       "    <tr>\n",
       "      <th>ac9fa785-2019-04-15T20:24:42Z</th>\n",
       "      <td>5</td>\n",
       "      <td>9</td>\n",
       "      <td>0.555556</td>\n",
       "    </tr>\n",
       "    <tr>\n",
       "      <th>34222b33-2019-04-18T15:09:25Z</th>\n",
       "      <td>5</td>\n",
       "      <td>5</td>\n",
       "      <td>1.000000</td>\n",
       "    </tr>\n",
       "    <tr>\n",
       "      <th>b1852408-2019-04-18T18:38:52Z</th>\n",
       "      <td>5</td>\n",
       "      <td>5</td>\n",
       "      <td>1.000000</td>\n",
       "    </tr>\n",
       "    <tr>\n",
       "      <th>b1852ba9-2019-04-18T18:28:00Z</th>\n",
       "      <td>5</td>\n",
       "      <td>5</td>\n",
       "      <td>1.000000</td>\n",
       "    </tr>\n",
       "    <tr>\n",
       "      <th>633553c1-2019-04-18T15:02:29Z</th>\n",
       "      <td>5</td>\n",
       "      <td>5</td>\n",
       "      <td>1.000000</td>\n",
       "    </tr>\n",
       "    <tr>\n",
       "      <th>e0db333b-2019-04-18T11:26:23Z</th>\n",
       "      <td>5</td>\n",
       "      <td>5</td>\n",
       "      <td>1.000000</td>\n",
       "    </tr>\n",
       "    <tr>\n",
       "      <th>4366841b-2019-04-18T15:33:58Z</th>\n",
       "      <td>4</td>\n",
       "      <td>4</td>\n",
       "      <td>1.000000</td>\n",
       "    </tr>\n",
       "    <tr>\n",
       "      <th>83672f1d-2019-04-18T11:13:31Z</th>\n",
       "      <td>4</td>\n",
       "      <td>4</td>\n",
       "      <td>1.000000</td>\n",
       "    </tr>\n",
       "    <tr>\n",
       "      <th>3dff2962-2019-04-18T19:33:18Z</th>\n",
       "      <td>4</td>\n",
       "      <td>4</td>\n",
       "      <td>1.000000</td>\n",
       "    </tr>\n",
       "    <tr>\n",
       "      <th>5022a952-2019-04-18T15:00:38Z</th>\n",
       "      <td>4</td>\n",
       "      <td>4</td>\n",
       "      <td>1.000000</td>\n",
       "    </tr>\n",
       "    <tr>\n",
       "      <th>b186238a-2019-04-18T15:09:02Z</th>\n",
       "      <td>4</td>\n",
       "      <td>5</td>\n",
       "      <td>0.800000</td>\n",
       "    </tr>\n",
       "    <tr>\n",
       "      <th>e90444ea-2019-04-18T18:24:59Z</th>\n",
       "      <td>4</td>\n",
       "      <td>4</td>\n",
       "      <td>1.000000</td>\n",
       "    </tr>\n",
       "    <tr>\n",
       "      <th>999d9b43-2019-04-18T18:23:51Z</th>\n",
       "      <td>4</td>\n",
       "      <td>4</td>\n",
       "      <td>1.000000</td>\n",
       "    </tr>\n",
       "    <tr>\n",
       "      <th>1b357aae-2019-04-18T11:11:14Z</th>\n",
       "      <td>4</td>\n",
       "      <td>4</td>\n",
       "      <td>1.000000</td>\n",
       "    </tr>\n",
       "    <tr>\n",
       "      <th>4686f91-2019-04-18T15:19:05Z</th>\n",
       "      <td>4</td>\n",
       "      <td>4</td>\n",
       "      <td>1.000000</td>\n",
       "    </tr>\n",
       "    <tr>\n",
       "      <th>b186f945-2019-04-18T13:14:42Z</th>\n",
       "      <td>4</td>\n",
       "      <td>4</td>\n",
       "      <td>1.000000</td>\n",
       "    </tr>\n",
       "    <tr>\n",
       "      <th>2dfea8dc-2019-04-18T17:24:59Z</th>\n",
       "      <td>4</td>\n",
       "      <td>4</td>\n",
       "      <td>1.000000</td>\n",
       "    </tr>\n",
       "    <tr>\n",
       "      <th>b1859d3f-2019-04-18T17:07:04Z</th>\n",
       "      <td>4</td>\n",
       "      <td>4</td>\n",
       "      <td>1.000000</td>\n",
       "    </tr>\n",
       "    <tr>\n",
       "      <th>b1876e3f-2019-04-18T12:14:03Z</th>\n",
       "      <td>4</td>\n",
       "      <td>4</td>\n",
       "      <td>1.000000</td>\n",
       "    </tr>\n",
       "    <tr>\n",
       "      <th>b1862083-2019-04-18T15:09:21Z</th>\n",
       "      <td>4</td>\n",
       "      <td>4</td>\n",
       "      <td>1.000000</td>\n",
       "    </tr>\n",
       "    <tr>\n",
       "      <th>72bd2d77-2019-04-18T12:24:20Z</th>\n",
       "      <td>4</td>\n",
       "      <td>4</td>\n",
       "      <td>1.000000</td>\n",
       "    </tr>\n",
       "    <tr>\n",
       "      <th>b9c8a03d-2019-04-18T17:56:05Z</th>\n",
       "      <td>4</td>\n",
       "      <td>4</td>\n",
       "      <td>1.000000</td>\n",
       "    </tr>\n",
       "    <tr>\n",
       "      <th>1ff5359b-2019-04-18T15:06:14Z</th>\n",
       "      <td>4</td>\n",
       "      <td>4</td>\n",
       "      <td>1.000000</td>\n",
       "    </tr>\n",
       "    <tr>\n",
       "      <th>b52b2679-2019-04-18T14:26:12Z</th>\n",
       "      <td>4</td>\n",
       "      <td>4</td>\n",
       "      <td>1.000000</td>\n",
       "    </tr>\n",
       "    <tr>\n",
       "      <th>ac4510b5-2019-04-18T11:19:48Z</th>\n",
       "      <td>4</td>\n",
       "      <td>4</td>\n",
       "      <td>1.000000</td>\n",
       "    </tr>\n",
       "    <tr>\n",
       "      <th>b1870c29-2019-04-18T12:43:39Z</th>\n",
       "      <td>4</td>\n",
       "      <td>4</td>\n",
       "      <td>1.000000</td>\n",
       "    </tr>\n",
       "    <tr>\n",
       "      <th>d80c4d18-2019-04-18T16:29:29Z</th>\n",
       "      <td>4</td>\n",
       "      <td>4</td>\n",
       "      <td>1.000000</td>\n",
       "    </tr>\n",
       "    <tr>\n",
       "      <th>b186f201-2019-04-18T13:34:48Z</th>\n",
       "      <td>4</td>\n",
       "      <td>4</td>\n",
       "      <td>1.000000</td>\n",
       "    </tr>\n",
       "    <tr>\n",
       "      <th>54c64149-2019-04-18T15:37:08Z</th>\n",
       "      <td>4</td>\n",
       "      <td>5</td>\n",
       "      <td>0.800000</td>\n",
       "    </tr>\n",
       "    <tr>\n",
       "      <th>b1861c65-2019-04-18T15:18:50Z</th>\n",
       "      <td>4</td>\n",
       "      <td>4</td>\n",
       "      <td>1.000000</td>\n",
       "    </tr>\n",
       "    <tr>\n",
       "      <th>b1861448-2019-04-18T15:42:18Z</th>\n",
       "      <td>4</td>\n",
       "      <td>4</td>\n",
       "      <td>1.000000</td>\n",
       "    </tr>\n",
       "    <tr>\n",
       "      <th>70f09476-2019-04-18T15:09:46Z</th>\n",
       "      <td>4</td>\n",
       "      <td>4</td>\n",
       "      <td>1.000000</td>\n",
       "    </tr>\n",
       "    <tr>\n",
       "      <th>f0fec70b-2019-04-18T17:27:54Z</th>\n",
       "      <td>4</td>\n",
       "      <td>4</td>\n",
       "      <td>1.000000</td>\n",
       "    </tr>\n",
       "    <tr>\n",
       "      <th>24d7dbd3-2019-04-18T14:32:21Z</th>\n",
       "      <td>4</td>\n",
       "      <td>4</td>\n",
       "      <td>1.000000</td>\n",
       "    </tr>\n",
       "    <tr>\n",
       "      <th>24d62249-2019-04-18T14:48:52Z</th>\n",
       "      <td>4</td>\n",
       "      <td>4</td>\n",
       "      <td>1.000000</td>\n",
       "    </tr>\n",
       "    <tr>\n",
       "      <th>92ad51a3-2019-04-18T17:27:45Z</th>\n",
       "      <td>4</td>\n",
       "      <td>4</td>\n",
       "      <td>1.000000</td>\n",
       "    </tr>\n",
       "    <tr>\n",
       "      <th>8b014bd0-2019-04-18T14:37:52Z</th>\n",
       "      <td>4</td>\n",
       "      <td>4</td>\n",
       "      <td>1.000000</td>\n",
       "    </tr>\n",
       "    <tr>\n",
       "      <th>7fa981cc-2019-04-18T19:51:14Z</th>\n",
       "      <td>4</td>\n",
       "      <td>4</td>\n",
       "      <td>1.000000</td>\n",
       "    </tr>\n",
       "    <tr>\n",
       "      <th>b1869865-2019-04-18T13:49:26Z</th>\n",
       "      <td>4</td>\n",
       "      <td>4</td>\n",
       "      <td>1.000000</td>\n",
       "    </tr>\n",
       "    <tr>\n",
       "      <th>d00d2ea1-2019-04-18T19:08:09Z</th>\n",
       "      <td>4</td>\n",
       "      <td>4</td>\n",
       "      <td>1.000000</td>\n",
       "    </tr>\n",
       "    <tr>\n",
       "      <th>b18694c3-2019-04-18T13:51:52Z</th>\n",
       "      <td>4</td>\n",
       "      <td>5</td>\n",
       "      <td>0.800000</td>\n",
       "    </tr>\n",
       "    <tr>\n",
       "      <th>88123c0b-2019-04-18T18:14:39Z</th>\n",
       "      <td>4</td>\n",
       "      <td>4</td>\n",
       "      <td>1.000000</td>\n",
       "    </tr>\n",
       "  </tbody>\n",
       "</table>\n",
       "</div>"
      ],
      "text/plain": [
       "                               agree  debate_id       acc\n",
       "b67fc3fb-2019-04-17T11:47:41Z    122        125  0.976000\n",
       "d2f4b1cd-2019-04-17T11:47:27Z     92         93  0.989247\n",
       "40f91664-2019-04-17T11:47:29Z     50         50  1.000000\n",
       "475596d3-2019-04-17T11:47:21Z     32         32  1.000000\n",
       "414eb72a-2019-04-19T12:45:01Z     19         31  0.612903\n",
       "b44abf31-2019-04-19T12:47:38Z      6         13  0.461538\n",
       "505b52ea-2019-04-18T18:45:44Z      5          5  1.000000\n",
       "b186fa3d-2019-04-18T13:12:02Z      5          5  1.000000\n",
       "ac9fa785-2019-04-15T20:24:42Z      5          9  0.555556\n",
       "34222b33-2019-04-18T15:09:25Z      5          5  1.000000\n",
       "b1852408-2019-04-18T18:38:52Z      5          5  1.000000\n",
       "b1852ba9-2019-04-18T18:28:00Z      5          5  1.000000\n",
       "633553c1-2019-04-18T15:02:29Z      5          5  1.000000\n",
       "e0db333b-2019-04-18T11:26:23Z      5          5  1.000000\n",
       "4366841b-2019-04-18T15:33:58Z      4          4  1.000000\n",
       "83672f1d-2019-04-18T11:13:31Z      4          4  1.000000\n",
       "3dff2962-2019-04-18T19:33:18Z      4          4  1.000000\n",
       "5022a952-2019-04-18T15:00:38Z      4          4  1.000000\n",
       "b186238a-2019-04-18T15:09:02Z      4          5  0.800000\n",
       "e90444ea-2019-04-18T18:24:59Z      4          4  1.000000\n",
       "999d9b43-2019-04-18T18:23:51Z      4          4  1.000000\n",
       "1b357aae-2019-04-18T11:11:14Z      4          4  1.000000\n",
       "4686f91-2019-04-18T15:19:05Z       4          4  1.000000\n",
       "b186f945-2019-04-18T13:14:42Z      4          4  1.000000\n",
       "2dfea8dc-2019-04-18T17:24:59Z      4          4  1.000000\n",
       "b1859d3f-2019-04-18T17:07:04Z      4          4  1.000000\n",
       "b1876e3f-2019-04-18T12:14:03Z      4          4  1.000000\n",
       "b1862083-2019-04-18T15:09:21Z      4          4  1.000000\n",
       "72bd2d77-2019-04-18T12:24:20Z      4          4  1.000000\n",
       "b9c8a03d-2019-04-18T17:56:05Z      4          4  1.000000\n",
       "1ff5359b-2019-04-18T15:06:14Z      4          4  1.000000\n",
       "b52b2679-2019-04-18T14:26:12Z      4          4  1.000000\n",
       "ac4510b5-2019-04-18T11:19:48Z      4          4  1.000000\n",
       "b1870c29-2019-04-18T12:43:39Z      4          4  1.000000\n",
       "d80c4d18-2019-04-18T16:29:29Z      4          4  1.000000\n",
       "b186f201-2019-04-18T13:34:48Z      4          4  1.000000\n",
       "54c64149-2019-04-18T15:37:08Z      4          5  0.800000\n",
       "b1861c65-2019-04-18T15:18:50Z      4          4  1.000000\n",
       "b1861448-2019-04-18T15:42:18Z      4          4  1.000000\n",
       "70f09476-2019-04-18T15:09:46Z      4          4  1.000000\n",
       "f0fec70b-2019-04-18T17:27:54Z      4          4  1.000000\n",
       "24d7dbd3-2019-04-18T14:32:21Z      4          4  1.000000\n",
       "24d62249-2019-04-18T14:48:52Z      4          4  1.000000\n",
       "92ad51a3-2019-04-18T17:27:45Z      4          4  1.000000\n",
       "8b014bd0-2019-04-18T14:37:52Z      4          4  1.000000\n",
       "7fa981cc-2019-04-18T19:51:14Z      4          4  1.000000\n",
       "b1869865-2019-04-18T13:49:26Z      4          4  1.000000\n",
       "d00d2ea1-2019-04-18T19:08:09Z      4          4  1.000000\n",
       "b18694c3-2019-04-18T13:51:52Z      4          5  0.800000\n",
       "88123c0b-2019-04-18T18:14:39Z      4          4  1.000000"
      ]
     },
     "execution_count": 166,
     "metadata": {},
     "output_type": "execute_result"
    }
   ],
   "source": [
    "df3 = pd.merge(df1, df2, left_index = True, right_index = True)\n",
    "df3[\"acc\"] =  df3.agree / df3.debate_id\n",
    "df3.head(50)"
   ]
  },
  {
   "cell_type": "code",
   "execution_count": 167,
   "metadata": {},
   "outputs": [
    {
     "data": {
      "text/html": [
       "<div>\n",
       "<style scoped>\n",
       "    .dataframe tbody tr th:only-of-type {\n",
       "        vertical-align: middle;\n",
       "    }\n",
       "\n",
       "    .dataframe tbody tr th {\n",
       "        vertical-align: top;\n",
       "    }\n",
       "\n",
       "    .dataframe thead th {\n",
       "        text-align: right;\n",
       "    }\n",
       "</style>\n",
       "<table border=\"1\" class=\"dataframe\">\n",
       "  <thead>\n",
       "    <tr style=\"text-align: right;\">\n",
       "      <th></th>\n",
       "      <th>acc</th>\n",
       "    </tr>\n",
       "    <tr>\n",
       "      <th>debate_id</th>\n",
       "      <th></th>\n",
       "    </tr>\n",
       "  </thead>\n",
       "  <tbody>\n",
       "    <tr>\n",
       "      <th>1</th>\n",
       "      <td>0.708839</td>\n",
       "    </tr>\n",
       "    <tr>\n",
       "      <th>2</th>\n",
       "      <td>0.688525</td>\n",
       "    </tr>\n",
       "    <tr>\n",
       "      <th>3</th>\n",
       "      <td>0.699519</td>\n",
       "    </tr>\n",
       "    <tr>\n",
       "      <th>4</th>\n",
       "      <td>0.689655</td>\n",
       "    </tr>\n",
       "    <tr>\n",
       "      <th>5</th>\n",
       "      <td>0.727273</td>\n",
       "    </tr>\n",
       "    <tr>\n",
       "      <th>9</th>\n",
       "      <td>0.555556</td>\n",
       "    </tr>\n",
       "    <tr>\n",
       "      <th>13</th>\n",
       "      <td>0.461538</td>\n",
       "    </tr>\n",
       "    <tr>\n",
       "      <th>31</th>\n",
       "      <td>0.612903</td>\n",
       "    </tr>\n",
       "    <tr>\n",
       "      <th>32</th>\n",
       "      <td>1.000000</td>\n",
       "    </tr>\n",
       "    <tr>\n",
       "      <th>50</th>\n",
       "      <td>1.000000</td>\n",
       "    </tr>\n",
       "    <tr>\n",
       "      <th>93</th>\n",
       "      <td>0.989247</td>\n",
       "    </tr>\n",
       "    <tr>\n",
       "      <th>125</th>\n",
       "      <td>0.976000</td>\n",
       "    </tr>\n",
       "  </tbody>\n",
       "</table>\n",
       "</div>"
      ],
      "text/plain": [
       "                acc\n",
       "debate_id          \n",
       "1          0.708839\n",
       "2          0.688525\n",
       "3          0.699519\n",
       "4          0.689655\n",
       "5          0.727273\n",
       "9          0.555556\n",
       "13         0.461538\n",
       "31         0.612903\n",
       "32         1.000000\n",
       "50         1.000000\n",
       "93         0.989247\n",
       "125        0.976000"
      ]
     },
     "execution_count": 167,
     "metadata": {},
     "output_type": "execute_result"
    }
   ],
   "source": [
    "df3[[\"debate_id\", \"acc\"]].groupby(\"debate_id\").mean(\"acc\")"
   ]
  },
  {
   "cell_type": "code",
   "execution_count": null,
   "metadata": {},
   "outputs": [],
   "source": []
  }
 ],
 "metadata": {
  "kernelspec": {
   "display_name": "Python 3",
   "language": "python",
   "name": "python3"
  },
  "language_info": {
   "codemirror_mode": {
    "name": "ipython",
    "version": 3
   },
   "file_extension": ".py",
   "mimetype": "text/x-python",
   "name": "python",
   "nbconvert_exporter": "python",
   "pygments_lexer": "ipython3",
   "version": "3.6.12"
  }
 },
 "nbformat": 4,
 "nbformat_minor": 2
}
